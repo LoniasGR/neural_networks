{
 "cells": [
  {
   "cell_type": "markdown",
   "metadata": {
    "colab_type": "text",
    "id": "1ssGm3bK7osY"
   },
   "source": [
    "# Neural Networks - Lab 1\n",
    "\n",
    "---\n",
    "\n",
    "\n",
    "## Ομάδα Α61\n",
    "### Αβδελάς Λεωνίδας 03113182\n",
    "### Σκούρας Κωνσταντίνος 03113096\n"
   ]
  },
  {
   "cell_type": "markdown",
   "metadata": {
    "colab_type": "text",
    "id": "Uti-XH4JBF9B"
   },
   "source": [
    "# Dataset Description\n",
    "\n",
    "This is a data set containing **1079 documents** of free text business descriptions of Brazilian companies **categorized into a subset of 9 categories cataloged** in a table called National Classification of Economic Activities (Classification Nacional de Atividade Economicas - CNAE)\n",
    "\n",
    "The original texts were pre-processed to obtain the current data set: initially, it was kept only letters and then it was removed prepositions of the texts. Next, the words were transformed to their canonical form. Finally, **each document was represented as a vector, where the weight of each word is its frequency in the document. This data set is highly sparse (99.22% of the matrix is filled with zeros).**\n",
    "\n",
    "Number of Instances: 1079\n",
    "\n",
    "Number of Attributes: 857 (1 category, 856 word frequency)\n",
    "\n",
    "Attribute Information:\n",
    "   1 category: range 1 - 9 (integer)\n",
    "   2 - 857. word frequency: (integer)\n",
    "\n",
    "Missing Attribute Values: None\n",
    "\n",
    "Class Distribution: the categories are equally distribuited. (120 instances in each of nine categories)\n",
    "\n",
    "Summary Statistics:\n",
    "                 \n",
    " Min   Max   Mean    SD\n",
    "\n",
    "0  4   0.0082 0.0948   (word frequency)"
   ]
  },
  {
   "cell_type": "code",
   "execution_count": null,
   "metadata": {
    "colab": {
     "base_uri": "https://localhost:8080/",
     "height": 204
    },
    "colab_type": "code",
    "id": "jCBuu4Ms-uRu",
    "outputId": "4b68ce19-17b8-4d04-9277-08ecb7710313"
   },
   "outputs": [
    {
     "name": "stdout",
     "output_type": "stream",
     "text": [
      "--2018-12-12 21:40:20--  http://archive.ics.uci.edu/ml/machine-learning-databases/00233/CNAE-9.data\n",
      "Resolving archive.ics.uci.edu (archive.ics.uci.edu)... 128.195.10.249\n",
      "Connecting to archive.ics.uci.edu (archive.ics.uci.edu)|128.195.10.249|:80... connected.\n",
      "HTTP request sent, awaiting response... 200 OK\n",
      "Length: 1851120 (1.8M) [text/plain]\n",
      "Saving to: ‘CNAE-9.data’\n",
      "\n",
      "CNAE-9.data         100%[===================>]   1.76M  2.10MB/s    in 0.8s    \n",
      "\n",
      "2018-12-12 21:40:21 (2.10 MB/s) - ‘CNAE-9.data’ saved [1851120/1851120]\n",
      "\n"
     ]
    }
   ],
   "source": [
    "!wget http://archive.ics.uci.edu/ml/machine-learning-databases/00233/CNAE-9.data"
   ]
  },
  {
   "cell_type": "code",
   "execution_count": null,
   "metadata": {
    "colab": {
     "base_uri": "https://localhost:8080/",
     "height": 34
    },
    "colab_type": "code",
    "id": "ztoBJzNnHAku",
    "outputId": "25a32e5a-5247-4bd0-a312-ba74b188094b"
   },
   "outputs": [
    {
     "name": "stdout",
     "output_type": "stream",
     "text": [
      "CNAE-9.data  sample_data\n"
     ]
    }
   ],
   "source": [
    "!ls"
   ]
  },
  {
   "cell_type": "code",
   "execution_count": null,
   "metadata": {
    "colab": {},
    "colab_type": "code",
    "id": "wPumk_mBHJ_1"
   },
   "outputs": [],
   "source": [
    "import pandas as pd\n",
    "import numpy as np\n",
    "import time\n",
    "from IPython.display import display\n"
   ]
  },
  {
   "cell_type": "code",
   "execution_count": null,
   "metadata": {
    "colab": {
     "base_uri": "https://localhost:8080/",
     "height": 1969
    },
    "colab_type": "code",
    "id": "KPWTJ9_pHSLP",
    "outputId": "a653dd43-1093-4b51-d6e7-b9cf85d49d75"
   },
   "outputs": [
    {
     "data": {
      "text/html": [
       "<div>\n",
       "<style scoped>\n",
       "    .dataframe tbody tr th:only-of-type {\n",
       "        vertical-align: middle;\n",
       "    }\n",
       "\n",
       "    .dataframe tbody tr th {\n",
       "        vertical-align: top;\n",
       "    }\n",
       "\n",
       "    .dataframe thead th {\n",
       "        text-align: right;\n",
       "    }\n",
       "</style>\n",
       "<table border=\"1\" class=\"dataframe\">\n",
       "  <thead>\n",
       "    <tr style=\"text-align: right;\">\n",
       "      <th></th>\n",
       "      <th>1</th>\n",
       "      <th>0</th>\n",
       "      <th>0.1</th>\n",
       "      <th>0.2</th>\n",
       "      <th>0.3</th>\n",
       "      <th>0.4</th>\n",
       "      <th>0.5</th>\n",
       "      <th>0.6</th>\n",
       "      <th>0.7</th>\n",
       "      <th>0.8</th>\n",
       "      <th>...</th>\n",
       "      <th>0.843</th>\n",
       "      <th>0.844</th>\n",
       "      <th>0.845</th>\n",
       "      <th>0.846</th>\n",
       "      <th>0.847</th>\n",
       "      <th>0.848</th>\n",
       "      <th>0.849</th>\n",
       "      <th>0.850</th>\n",
       "      <th>0.851</th>\n",
       "      <th>0.852</th>\n",
       "    </tr>\n",
       "  </thead>\n",
       "  <tbody>\n",
       "    <tr>\n",
       "      <th>0</th>\n",
       "      <td>2</td>\n",
       "      <td>0</td>\n",
       "      <td>0</td>\n",
       "      <td>0</td>\n",
       "      <td>0</td>\n",
       "      <td>0</td>\n",
       "      <td>0</td>\n",
       "      <td>0</td>\n",
       "      <td>0</td>\n",
       "      <td>0</td>\n",
       "      <td>...</td>\n",
       "      <td>0</td>\n",
       "      <td>0</td>\n",
       "      <td>0</td>\n",
       "      <td>0</td>\n",
       "      <td>0</td>\n",
       "      <td>0</td>\n",
       "      <td>0</td>\n",
       "      <td>0</td>\n",
       "      <td>0</td>\n",
       "      <td>0</td>\n",
       "    </tr>\n",
       "    <tr>\n",
       "      <th>1</th>\n",
       "      <td>3</td>\n",
       "      <td>0</td>\n",
       "      <td>0</td>\n",
       "      <td>0</td>\n",
       "      <td>0</td>\n",
       "      <td>0</td>\n",
       "      <td>0</td>\n",
       "      <td>0</td>\n",
       "      <td>0</td>\n",
       "      <td>0</td>\n",
       "      <td>...</td>\n",
       "      <td>0</td>\n",
       "      <td>0</td>\n",
       "      <td>0</td>\n",
       "      <td>0</td>\n",
       "      <td>0</td>\n",
       "      <td>0</td>\n",
       "      <td>0</td>\n",
       "      <td>0</td>\n",
       "      <td>0</td>\n",
       "      <td>0</td>\n",
       "    </tr>\n",
       "    <tr>\n",
       "      <th>2</th>\n",
       "      <td>4</td>\n",
       "      <td>0</td>\n",
       "      <td>0</td>\n",
       "      <td>0</td>\n",
       "      <td>0</td>\n",
       "      <td>0</td>\n",
       "      <td>0</td>\n",
       "      <td>0</td>\n",
       "      <td>0</td>\n",
       "      <td>0</td>\n",
       "      <td>...</td>\n",
       "      <td>0</td>\n",
       "      <td>0</td>\n",
       "      <td>0</td>\n",
       "      <td>0</td>\n",
       "      <td>0</td>\n",
       "      <td>0</td>\n",
       "      <td>0</td>\n",
       "      <td>0</td>\n",
       "      <td>0</td>\n",
       "      <td>0</td>\n",
       "    </tr>\n",
       "    <tr>\n",
       "      <th>3</th>\n",
       "      <td>5</td>\n",
       "      <td>0</td>\n",
       "      <td>0</td>\n",
       "      <td>0</td>\n",
       "      <td>0</td>\n",
       "      <td>0</td>\n",
       "      <td>0</td>\n",
       "      <td>0</td>\n",
       "      <td>0</td>\n",
       "      <td>0</td>\n",
       "      <td>...</td>\n",
       "      <td>0</td>\n",
       "      <td>0</td>\n",
       "      <td>0</td>\n",
       "      <td>0</td>\n",
       "      <td>0</td>\n",
       "      <td>0</td>\n",
       "      <td>0</td>\n",
       "      <td>0</td>\n",
       "      <td>0</td>\n",
       "      <td>0</td>\n",
       "    </tr>\n",
       "    <tr>\n",
       "      <th>4</th>\n",
       "      <td>6</td>\n",
       "      <td>0</td>\n",
       "      <td>0</td>\n",
       "      <td>1</td>\n",
       "      <td>0</td>\n",
       "      <td>0</td>\n",
       "      <td>0</td>\n",
       "      <td>0</td>\n",
       "      <td>0</td>\n",
       "      <td>0</td>\n",
       "      <td>...</td>\n",
       "      <td>0</td>\n",
       "      <td>0</td>\n",
       "      <td>0</td>\n",
       "      <td>0</td>\n",
       "      <td>0</td>\n",
       "      <td>0</td>\n",
       "      <td>0</td>\n",
       "      <td>0</td>\n",
       "      <td>0</td>\n",
       "      <td>0</td>\n",
       "    </tr>\n",
       "    <tr>\n",
       "      <th>5</th>\n",
       "      <td>7</td>\n",
       "      <td>0</td>\n",
       "      <td>0</td>\n",
       "      <td>0</td>\n",
       "      <td>0</td>\n",
       "      <td>0</td>\n",
       "      <td>0</td>\n",
       "      <td>0</td>\n",
       "      <td>0</td>\n",
       "      <td>0</td>\n",
       "      <td>...</td>\n",
       "      <td>0</td>\n",
       "      <td>0</td>\n",
       "      <td>0</td>\n",
       "      <td>0</td>\n",
       "      <td>0</td>\n",
       "      <td>0</td>\n",
       "      <td>0</td>\n",
       "      <td>0</td>\n",
       "      <td>0</td>\n",
       "      <td>0</td>\n",
       "    </tr>\n",
       "    <tr>\n",
       "      <th>6</th>\n",
       "      <td>8</td>\n",
       "      <td>0</td>\n",
       "      <td>0</td>\n",
       "      <td>0</td>\n",
       "      <td>0</td>\n",
       "      <td>0</td>\n",
       "      <td>0</td>\n",
       "      <td>0</td>\n",
       "      <td>0</td>\n",
       "      <td>0</td>\n",
       "      <td>...</td>\n",
       "      <td>0</td>\n",
       "      <td>0</td>\n",
       "      <td>0</td>\n",
       "      <td>0</td>\n",
       "      <td>0</td>\n",
       "      <td>0</td>\n",
       "      <td>0</td>\n",
       "      <td>0</td>\n",
       "      <td>0</td>\n",
       "      <td>0</td>\n",
       "    </tr>\n",
       "    <tr>\n",
       "      <th>7</th>\n",
       "      <td>9</td>\n",
       "      <td>0</td>\n",
       "      <td>0</td>\n",
       "      <td>0</td>\n",
       "      <td>0</td>\n",
       "      <td>0</td>\n",
       "      <td>0</td>\n",
       "      <td>0</td>\n",
       "      <td>0</td>\n",
       "      <td>0</td>\n",
       "      <td>...</td>\n",
       "      <td>0</td>\n",
       "      <td>0</td>\n",
       "      <td>0</td>\n",
       "      <td>0</td>\n",
       "      <td>0</td>\n",
       "      <td>0</td>\n",
       "      <td>0</td>\n",
       "      <td>0</td>\n",
       "      <td>0</td>\n",
       "      <td>0</td>\n",
       "    </tr>\n",
       "    <tr>\n",
       "      <th>8</th>\n",
       "      <td>1</td>\n",
       "      <td>0</td>\n",
       "      <td>0</td>\n",
       "      <td>0</td>\n",
       "      <td>0</td>\n",
       "      <td>0</td>\n",
       "      <td>0</td>\n",
       "      <td>0</td>\n",
       "      <td>0</td>\n",
       "      <td>0</td>\n",
       "      <td>...</td>\n",
       "      <td>0</td>\n",
       "      <td>0</td>\n",
       "      <td>0</td>\n",
       "      <td>0</td>\n",
       "      <td>0</td>\n",
       "      <td>0</td>\n",
       "      <td>0</td>\n",
       "      <td>0</td>\n",
       "      <td>0</td>\n",
       "      <td>0</td>\n",
       "    </tr>\n",
       "    <tr>\n",
       "      <th>9</th>\n",
       "      <td>2</td>\n",
       "      <td>0</td>\n",
       "      <td>0</td>\n",
       "      <td>0</td>\n",
       "      <td>0</td>\n",
       "      <td>0</td>\n",
       "      <td>0</td>\n",
       "      <td>0</td>\n",
       "      <td>0</td>\n",
       "      <td>0</td>\n",
       "      <td>...</td>\n",
       "      <td>0</td>\n",
       "      <td>0</td>\n",
       "      <td>0</td>\n",
       "      <td>0</td>\n",
       "      <td>0</td>\n",
       "      <td>0</td>\n",
       "      <td>0</td>\n",
       "      <td>0</td>\n",
       "      <td>0</td>\n",
       "      <td>0</td>\n",
       "    </tr>\n",
       "    <tr>\n",
       "      <th>10</th>\n",
       "      <td>3</td>\n",
       "      <td>0</td>\n",
       "      <td>0</td>\n",
       "      <td>0</td>\n",
       "      <td>0</td>\n",
       "      <td>0</td>\n",
       "      <td>0</td>\n",
       "      <td>0</td>\n",
       "      <td>0</td>\n",
       "      <td>0</td>\n",
       "      <td>...</td>\n",
       "      <td>0</td>\n",
       "      <td>0</td>\n",
       "      <td>0</td>\n",
       "      <td>0</td>\n",
       "      <td>0</td>\n",
       "      <td>0</td>\n",
       "      <td>0</td>\n",
       "      <td>0</td>\n",
       "      <td>0</td>\n",
       "      <td>0</td>\n",
       "    </tr>\n",
       "    <tr>\n",
       "      <th>11</th>\n",
       "      <td>4</td>\n",
       "      <td>0</td>\n",
       "      <td>0</td>\n",
       "      <td>0</td>\n",
       "      <td>0</td>\n",
       "      <td>0</td>\n",
       "      <td>0</td>\n",
       "      <td>0</td>\n",
       "      <td>0</td>\n",
       "      <td>0</td>\n",
       "      <td>...</td>\n",
       "      <td>0</td>\n",
       "      <td>0</td>\n",
       "      <td>0</td>\n",
       "      <td>0</td>\n",
       "      <td>0</td>\n",
       "      <td>0</td>\n",
       "      <td>0</td>\n",
       "      <td>0</td>\n",
       "      <td>0</td>\n",
       "      <td>0</td>\n",
       "    </tr>\n",
       "    <tr>\n",
       "      <th>12</th>\n",
       "      <td>5</td>\n",
       "      <td>0</td>\n",
       "      <td>0</td>\n",
       "      <td>0</td>\n",
       "      <td>0</td>\n",
       "      <td>0</td>\n",
       "      <td>0</td>\n",
       "      <td>0</td>\n",
       "      <td>0</td>\n",
       "      <td>0</td>\n",
       "      <td>...</td>\n",
       "      <td>0</td>\n",
       "      <td>0</td>\n",
       "      <td>0</td>\n",
       "      <td>0</td>\n",
       "      <td>0</td>\n",
       "      <td>0</td>\n",
       "      <td>0</td>\n",
       "      <td>0</td>\n",
       "      <td>0</td>\n",
       "      <td>0</td>\n",
       "    </tr>\n",
       "    <tr>\n",
       "      <th>13</th>\n",
       "      <td>6</td>\n",
       "      <td>0</td>\n",
       "      <td>0</td>\n",
       "      <td>0</td>\n",
       "      <td>0</td>\n",
       "      <td>0</td>\n",
       "      <td>0</td>\n",
       "      <td>0</td>\n",
       "      <td>0</td>\n",
       "      <td>0</td>\n",
       "      <td>...</td>\n",
       "      <td>0</td>\n",
       "      <td>0</td>\n",
       "      <td>0</td>\n",
       "      <td>0</td>\n",
       "      <td>0</td>\n",
       "      <td>0</td>\n",
       "      <td>0</td>\n",
       "      <td>0</td>\n",
       "      <td>0</td>\n",
       "      <td>0</td>\n",
       "    </tr>\n",
       "    <tr>\n",
       "      <th>14</th>\n",
       "      <td>7</td>\n",
       "      <td>0</td>\n",
       "      <td>0</td>\n",
       "      <td>0</td>\n",
       "      <td>0</td>\n",
       "      <td>0</td>\n",
       "      <td>0</td>\n",
       "      <td>0</td>\n",
       "      <td>0</td>\n",
       "      <td>0</td>\n",
       "      <td>...</td>\n",
       "      <td>0</td>\n",
       "      <td>0</td>\n",
       "      <td>0</td>\n",
       "      <td>0</td>\n",
       "      <td>0</td>\n",
       "      <td>0</td>\n",
       "      <td>0</td>\n",
       "      <td>0</td>\n",
       "      <td>0</td>\n",
       "      <td>0</td>\n",
       "    </tr>\n",
       "    <tr>\n",
       "      <th>15</th>\n",
       "      <td>8</td>\n",
       "      <td>0</td>\n",
       "      <td>0</td>\n",
       "      <td>0</td>\n",
       "      <td>0</td>\n",
       "      <td>0</td>\n",
       "      <td>0</td>\n",
       "      <td>0</td>\n",
       "      <td>0</td>\n",
       "      <td>0</td>\n",
       "      <td>...</td>\n",
       "      <td>0</td>\n",
       "      <td>0</td>\n",
       "      <td>0</td>\n",
       "      <td>0</td>\n",
       "      <td>0</td>\n",
       "      <td>0</td>\n",
       "      <td>0</td>\n",
       "      <td>0</td>\n",
       "      <td>0</td>\n",
       "      <td>0</td>\n",
       "    </tr>\n",
       "    <tr>\n",
       "      <th>16</th>\n",
       "      <td>9</td>\n",
       "      <td>0</td>\n",
       "      <td>0</td>\n",
       "      <td>0</td>\n",
       "      <td>0</td>\n",
       "      <td>0</td>\n",
       "      <td>0</td>\n",
       "      <td>0</td>\n",
       "      <td>0</td>\n",
       "      <td>0</td>\n",
       "      <td>...</td>\n",
       "      <td>0</td>\n",
       "      <td>0</td>\n",
       "      <td>0</td>\n",
       "      <td>0</td>\n",
       "      <td>0</td>\n",
       "      <td>0</td>\n",
       "      <td>0</td>\n",
       "      <td>0</td>\n",
       "      <td>0</td>\n",
       "      <td>0</td>\n",
       "    </tr>\n",
       "    <tr>\n",
       "      <th>17</th>\n",
       "      <td>1</td>\n",
       "      <td>0</td>\n",
       "      <td>0</td>\n",
       "      <td>0</td>\n",
       "      <td>0</td>\n",
       "      <td>0</td>\n",
       "      <td>0</td>\n",
       "      <td>0</td>\n",
       "      <td>0</td>\n",
       "      <td>0</td>\n",
       "      <td>...</td>\n",
       "      <td>0</td>\n",
       "      <td>0</td>\n",
       "      <td>0</td>\n",
       "      <td>0</td>\n",
       "      <td>0</td>\n",
       "      <td>0</td>\n",
       "      <td>0</td>\n",
       "      <td>0</td>\n",
       "      <td>0</td>\n",
       "      <td>0</td>\n",
       "    </tr>\n",
       "    <tr>\n",
       "      <th>18</th>\n",
       "      <td>2</td>\n",
       "      <td>0</td>\n",
       "      <td>0</td>\n",
       "      <td>0</td>\n",
       "      <td>0</td>\n",
       "      <td>0</td>\n",
       "      <td>0</td>\n",
       "      <td>0</td>\n",
       "      <td>0</td>\n",
       "      <td>0</td>\n",
       "      <td>...</td>\n",
       "      <td>0</td>\n",
       "      <td>0</td>\n",
       "      <td>0</td>\n",
       "      <td>0</td>\n",
       "      <td>0</td>\n",
       "      <td>0</td>\n",
       "      <td>0</td>\n",
       "      <td>0</td>\n",
       "      <td>0</td>\n",
       "      <td>0</td>\n",
       "    </tr>\n",
       "    <tr>\n",
       "      <th>19</th>\n",
       "      <td>3</td>\n",
       "      <td>0</td>\n",
       "      <td>0</td>\n",
       "      <td>0</td>\n",
       "      <td>0</td>\n",
       "      <td>0</td>\n",
       "      <td>0</td>\n",
       "      <td>0</td>\n",
       "      <td>0</td>\n",
       "      <td>0</td>\n",
       "      <td>...</td>\n",
       "      <td>0</td>\n",
       "      <td>0</td>\n",
       "      <td>0</td>\n",
       "      <td>0</td>\n",
       "      <td>0</td>\n",
       "      <td>0</td>\n",
       "      <td>0</td>\n",
       "      <td>0</td>\n",
       "      <td>0</td>\n",
       "      <td>0</td>\n",
       "    </tr>\n",
       "    <tr>\n",
       "      <th>20</th>\n",
       "      <td>4</td>\n",
       "      <td>0</td>\n",
       "      <td>0</td>\n",
       "      <td>0</td>\n",
       "      <td>0</td>\n",
       "      <td>0</td>\n",
       "      <td>0</td>\n",
       "      <td>1</td>\n",
       "      <td>0</td>\n",
       "      <td>0</td>\n",
       "      <td>...</td>\n",
       "      <td>0</td>\n",
       "      <td>0</td>\n",
       "      <td>0</td>\n",
       "      <td>0</td>\n",
       "      <td>0</td>\n",
       "      <td>0</td>\n",
       "      <td>0</td>\n",
       "      <td>0</td>\n",
       "      <td>0</td>\n",
       "      <td>0</td>\n",
       "    </tr>\n",
       "    <tr>\n",
       "      <th>21</th>\n",
       "      <td>5</td>\n",
       "      <td>0</td>\n",
       "      <td>0</td>\n",
       "      <td>0</td>\n",
       "      <td>0</td>\n",
       "      <td>0</td>\n",
       "      <td>0</td>\n",
       "      <td>0</td>\n",
       "      <td>0</td>\n",
       "      <td>0</td>\n",
       "      <td>...</td>\n",
       "      <td>0</td>\n",
       "      <td>0</td>\n",
       "      <td>0</td>\n",
       "      <td>0</td>\n",
       "      <td>1</td>\n",
       "      <td>0</td>\n",
       "      <td>0</td>\n",
       "      <td>0</td>\n",
       "      <td>0</td>\n",
       "      <td>0</td>\n",
       "    </tr>\n",
       "    <tr>\n",
       "      <th>22</th>\n",
       "      <td>6</td>\n",
       "      <td>0</td>\n",
       "      <td>0</td>\n",
       "      <td>0</td>\n",
       "      <td>0</td>\n",
       "      <td>0</td>\n",
       "      <td>0</td>\n",
       "      <td>0</td>\n",
       "      <td>0</td>\n",
       "      <td>0</td>\n",
       "      <td>...</td>\n",
       "      <td>0</td>\n",
       "      <td>0</td>\n",
       "      <td>0</td>\n",
       "      <td>0</td>\n",
       "      <td>0</td>\n",
       "      <td>0</td>\n",
       "      <td>0</td>\n",
       "      <td>0</td>\n",
       "      <td>0</td>\n",
       "      <td>0</td>\n",
       "    </tr>\n",
       "    <tr>\n",
       "      <th>23</th>\n",
       "      <td>7</td>\n",
       "      <td>0</td>\n",
       "      <td>0</td>\n",
       "      <td>0</td>\n",
       "      <td>0</td>\n",
       "      <td>0</td>\n",
       "      <td>0</td>\n",
       "      <td>0</td>\n",
       "      <td>0</td>\n",
       "      <td>0</td>\n",
       "      <td>...</td>\n",
       "      <td>0</td>\n",
       "      <td>0</td>\n",
       "      <td>0</td>\n",
       "      <td>0</td>\n",
       "      <td>0</td>\n",
       "      <td>0</td>\n",
       "      <td>0</td>\n",
       "      <td>0</td>\n",
       "      <td>0</td>\n",
       "      <td>0</td>\n",
       "    </tr>\n",
       "    <tr>\n",
       "      <th>24</th>\n",
       "      <td>8</td>\n",
       "      <td>0</td>\n",
       "      <td>0</td>\n",
       "      <td>0</td>\n",
       "      <td>0</td>\n",
       "      <td>0</td>\n",
       "      <td>0</td>\n",
       "      <td>0</td>\n",
       "      <td>0</td>\n",
       "      <td>0</td>\n",
       "      <td>...</td>\n",
       "      <td>0</td>\n",
       "      <td>0</td>\n",
       "      <td>0</td>\n",
       "      <td>0</td>\n",
       "      <td>0</td>\n",
       "      <td>0</td>\n",
       "      <td>0</td>\n",
       "      <td>0</td>\n",
       "      <td>0</td>\n",
       "      <td>0</td>\n",
       "    </tr>\n",
       "    <tr>\n",
       "      <th>25</th>\n",
       "      <td>9</td>\n",
       "      <td>0</td>\n",
       "      <td>0</td>\n",
       "      <td>0</td>\n",
       "      <td>0</td>\n",
       "      <td>0</td>\n",
       "      <td>0</td>\n",
       "      <td>0</td>\n",
       "      <td>0</td>\n",
       "      <td>0</td>\n",
       "      <td>...</td>\n",
       "      <td>0</td>\n",
       "      <td>0</td>\n",
       "      <td>0</td>\n",
       "      <td>0</td>\n",
       "      <td>0</td>\n",
       "      <td>0</td>\n",
       "      <td>0</td>\n",
       "      <td>0</td>\n",
       "      <td>0</td>\n",
       "      <td>0</td>\n",
       "    </tr>\n",
       "    <tr>\n",
       "      <th>26</th>\n",
       "      <td>1</td>\n",
       "      <td>0</td>\n",
       "      <td>0</td>\n",
       "      <td>0</td>\n",
       "      <td>0</td>\n",
       "      <td>0</td>\n",
       "      <td>0</td>\n",
       "      <td>0</td>\n",
       "      <td>0</td>\n",
       "      <td>0</td>\n",
       "      <td>...</td>\n",
       "      <td>0</td>\n",
       "      <td>0</td>\n",
       "      <td>0</td>\n",
       "      <td>0</td>\n",
       "      <td>0</td>\n",
       "      <td>0</td>\n",
       "      <td>0</td>\n",
       "      <td>0</td>\n",
       "      <td>0</td>\n",
       "      <td>0</td>\n",
       "    </tr>\n",
       "    <tr>\n",
       "      <th>27</th>\n",
       "      <td>2</td>\n",
       "      <td>0</td>\n",
       "      <td>0</td>\n",
       "      <td>0</td>\n",
       "      <td>0</td>\n",
       "      <td>0</td>\n",
       "      <td>0</td>\n",
       "      <td>0</td>\n",
       "      <td>0</td>\n",
       "      <td>0</td>\n",
       "      <td>...</td>\n",
       "      <td>0</td>\n",
       "      <td>0</td>\n",
       "      <td>0</td>\n",
       "      <td>0</td>\n",
       "      <td>0</td>\n",
       "      <td>0</td>\n",
       "      <td>0</td>\n",
       "      <td>0</td>\n",
       "      <td>0</td>\n",
       "      <td>0</td>\n",
       "    </tr>\n",
       "    <tr>\n",
       "      <th>28</th>\n",
       "      <td>3</td>\n",
       "      <td>0</td>\n",
       "      <td>0</td>\n",
       "      <td>0</td>\n",
       "      <td>0</td>\n",
       "      <td>0</td>\n",
       "      <td>0</td>\n",
       "      <td>0</td>\n",
       "      <td>0</td>\n",
       "      <td>0</td>\n",
       "      <td>...</td>\n",
       "      <td>0</td>\n",
       "      <td>0</td>\n",
       "      <td>0</td>\n",
       "      <td>0</td>\n",
       "      <td>0</td>\n",
       "      <td>0</td>\n",
       "      <td>0</td>\n",
       "      <td>0</td>\n",
       "      <td>0</td>\n",
       "      <td>0</td>\n",
       "    </tr>\n",
       "    <tr>\n",
       "      <th>29</th>\n",
       "      <td>4</td>\n",
       "      <td>0</td>\n",
       "      <td>0</td>\n",
       "      <td>0</td>\n",
       "      <td>0</td>\n",
       "      <td>0</td>\n",
       "      <td>0</td>\n",
       "      <td>0</td>\n",
       "      <td>0</td>\n",
       "      <td>0</td>\n",
       "      <td>...</td>\n",
       "      <td>0</td>\n",
       "      <td>0</td>\n",
       "      <td>0</td>\n",
       "      <td>0</td>\n",
       "      <td>0</td>\n",
       "      <td>0</td>\n",
       "      <td>0</td>\n",
       "      <td>0</td>\n",
       "      <td>0</td>\n",
       "      <td>0</td>\n",
       "    </tr>\n",
       "    <tr>\n",
       "      <th>...</th>\n",
       "      <td>...</td>\n",
       "      <td>...</td>\n",
       "      <td>...</td>\n",
       "      <td>...</td>\n",
       "      <td>...</td>\n",
       "      <td>...</td>\n",
       "      <td>...</td>\n",
       "      <td>...</td>\n",
       "      <td>...</td>\n",
       "      <td>...</td>\n",
       "      <td>...</td>\n",
       "      <td>...</td>\n",
       "      <td>...</td>\n",
       "      <td>...</td>\n",
       "      <td>...</td>\n",
       "      <td>...</td>\n",
       "      <td>...</td>\n",
       "      <td>...</td>\n",
       "      <td>...</td>\n",
       "      <td>...</td>\n",
       "      <td>...</td>\n",
       "    </tr>\n",
       "    <tr>\n",
       "      <th>1049</th>\n",
       "      <td>7</td>\n",
       "      <td>0</td>\n",
       "      <td>0</td>\n",
       "      <td>0</td>\n",
       "      <td>0</td>\n",
       "      <td>0</td>\n",
       "      <td>0</td>\n",
       "      <td>0</td>\n",
       "      <td>0</td>\n",
       "      <td>0</td>\n",
       "      <td>...</td>\n",
       "      <td>0</td>\n",
       "      <td>0</td>\n",
       "      <td>0</td>\n",
       "      <td>0</td>\n",
       "      <td>0</td>\n",
       "      <td>0</td>\n",
       "      <td>0</td>\n",
       "      <td>0</td>\n",
       "      <td>0</td>\n",
       "      <td>0</td>\n",
       "    </tr>\n",
       "    <tr>\n",
       "      <th>1050</th>\n",
       "      <td>8</td>\n",
       "      <td>0</td>\n",
       "      <td>0</td>\n",
       "      <td>0</td>\n",
       "      <td>0</td>\n",
       "      <td>0</td>\n",
       "      <td>0</td>\n",
       "      <td>0</td>\n",
       "      <td>0</td>\n",
       "      <td>0</td>\n",
       "      <td>...</td>\n",
       "      <td>0</td>\n",
       "      <td>0</td>\n",
       "      <td>0</td>\n",
       "      <td>0</td>\n",
       "      <td>0</td>\n",
       "      <td>0</td>\n",
       "      <td>0</td>\n",
       "      <td>0</td>\n",
       "      <td>0</td>\n",
       "      <td>0</td>\n",
       "    </tr>\n",
       "    <tr>\n",
       "      <th>1051</th>\n",
       "      <td>9</td>\n",
       "      <td>0</td>\n",
       "      <td>0</td>\n",
       "      <td>0</td>\n",
       "      <td>0</td>\n",
       "      <td>0</td>\n",
       "      <td>0</td>\n",
       "      <td>0</td>\n",
       "      <td>0</td>\n",
       "      <td>0</td>\n",
       "      <td>...</td>\n",
       "      <td>0</td>\n",
       "      <td>0</td>\n",
       "      <td>0</td>\n",
       "      <td>0</td>\n",
       "      <td>0</td>\n",
       "      <td>0</td>\n",
       "      <td>0</td>\n",
       "      <td>0</td>\n",
       "      <td>0</td>\n",
       "      <td>0</td>\n",
       "    </tr>\n",
       "    <tr>\n",
       "      <th>1052</th>\n",
       "      <td>1</td>\n",
       "      <td>0</td>\n",
       "      <td>0</td>\n",
       "      <td>0</td>\n",
       "      <td>0</td>\n",
       "      <td>0</td>\n",
       "      <td>0</td>\n",
       "      <td>0</td>\n",
       "      <td>0</td>\n",
       "      <td>0</td>\n",
       "      <td>...</td>\n",
       "      <td>0</td>\n",
       "      <td>0</td>\n",
       "      <td>0</td>\n",
       "      <td>0</td>\n",
       "      <td>0</td>\n",
       "      <td>0</td>\n",
       "      <td>0</td>\n",
       "      <td>0</td>\n",
       "      <td>0</td>\n",
       "      <td>0</td>\n",
       "    </tr>\n",
       "    <tr>\n",
       "      <th>1053</th>\n",
       "      <td>2</td>\n",
       "      <td>0</td>\n",
       "      <td>0</td>\n",
       "      <td>0</td>\n",
       "      <td>0</td>\n",
       "      <td>0</td>\n",
       "      <td>0</td>\n",
       "      <td>0</td>\n",
       "      <td>0</td>\n",
       "      <td>0</td>\n",
       "      <td>...</td>\n",
       "      <td>0</td>\n",
       "      <td>0</td>\n",
       "      <td>0</td>\n",
       "      <td>0</td>\n",
       "      <td>0</td>\n",
       "      <td>0</td>\n",
       "      <td>0</td>\n",
       "      <td>0</td>\n",
       "      <td>0</td>\n",
       "      <td>0</td>\n",
       "    </tr>\n",
       "    <tr>\n",
       "      <th>1054</th>\n",
       "      <td>3</td>\n",
       "      <td>0</td>\n",
       "      <td>0</td>\n",
       "      <td>0</td>\n",
       "      <td>0</td>\n",
       "      <td>0</td>\n",
       "      <td>0</td>\n",
       "      <td>0</td>\n",
       "      <td>0</td>\n",
       "      <td>0</td>\n",
       "      <td>...</td>\n",
       "      <td>0</td>\n",
       "      <td>0</td>\n",
       "      <td>0</td>\n",
       "      <td>0</td>\n",
       "      <td>0</td>\n",
       "      <td>0</td>\n",
       "      <td>0</td>\n",
       "      <td>0</td>\n",
       "      <td>0</td>\n",
       "      <td>0</td>\n",
       "    </tr>\n",
       "    <tr>\n",
       "      <th>1055</th>\n",
       "      <td>4</td>\n",
       "      <td>0</td>\n",
       "      <td>0</td>\n",
       "      <td>0</td>\n",
       "      <td>0</td>\n",
       "      <td>0</td>\n",
       "      <td>0</td>\n",
       "      <td>1</td>\n",
       "      <td>0</td>\n",
       "      <td>0</td>\n",
       "      <td>...</td>\n",
       "      <td>0</td>\n",
       "      <td>0</td>\n",
       "      <td>0</td>\n",
       "      <td>0</td>\n",
       "      <td>0</td>\n",
       "      <td>0</td>\n",
       "      <td>0</td>\n",
       "      <td>0</td>\n",
       "      <td>0</td>\n",
       "      <td>0</td>\n",
       "    </tr>\n",
       "    <tr>\n",
       "      <th>1056</th>\n",
       "      <td>5</td>\n",
       "      <td>0</td>\n",
       "      <td>0</td>\n",
       "      <td>0</td>\n",
       "      <td>0</td>\n",
       "      <td>0</td>\n",
       "      <td>0</td>\n",
       "      <td>0</td>\n",
       "      <td>0</td>\n",
       "      <td>0</td>\n",
       "      <td>...</td>\n",
       "      <td>0</td>\n",
       "      <td>0</td>\n",
       "      <td>0</td>\n",
       "      <td>0</td>\n",
       "      <td>0</td>\n",
       "      <td>0</td>\n",
       "      <td>0</td>\n",
       "      <td>0</td>\n",
       "      <td>0</td>\n",
       "      <td>0</td>\n",
       "    </tr>\n",
       "    <tr>\n",
       "      <th>1057</th>\n",
       "      <td>6</td>\n",
       "      <td>0</td>\n",
       "      <td>0</td>\n",
       "      <td>0</td>\n",
       "      <td>0</td>\n",
       "      <td>0</td>\n",
       "      <td>0</td>\n",
       "      <td>0</td>\n",
       "      <td>0</td>\n",
       "      <td>0</td>\n",
       "      <td>...</td>\n",
       "      <td>0</td>\n",
       "      <td>0</td>\n",
       "      <td>0</td>\n",
       "      <td>0</td>\n",
       "      <td>0</td>\n",
       "      <td>0</td>\n",
       "      <td>0</td>\n",
       "      <td>0</td>\n",
       "      <td>0</td>\n",
       "      <td>0</td>\n",
       "    </tr>\n",
       "    <tr>\n",
       "      <th>1058</th>\n",
       "      <td>7</td>\n",
       "      <td>0</td>\n",
       "      <td>0</td>\n",
       "      <td>0</td>\n",
       "      <td>0</td>\n",
       "      <td>0</td>\n",
       "      <td>0</td>\n",
       "      <td>0</td>\n",
       "      <td>0</td>\n",
       "      <td>0</td>\n",
       "      <td>...</td>\n",
       "      <td>0</td>\n",
       "      <td>0</td>\n",
       "      <td>0</td>\n",
       "      <td>0</td>\n",
       "      <td>0</td>\n",
       "      <td>0</td>\n",
       "      <td>0</td>\n",
       "      <td>0</td>\n",
       "      <td>0</td>\n",
       "      <td>0</td>\n",
       "    </tr>\n",
       "    <tr>\n",
       "      <th>1059</th>\n",
       "      <td>8</td>\n",
       "      <td>0</td>\n",
       "      <td>0</td>\n",
       "      <td>0</td>\n",
       "      <td>0</td>\n",
       "      <td>0</td>\n",
       "      <td>0</td>\n",
       "      <td>0</td>\n",
       "      <td>0</td>\n",
       "      <td>0</td>\n",
       "      <td>...</td>\n",
       "      <td>0</td>\n",
       "      <td>0</td>\n",
       "      <td>0</td>\n",
       "      <td>0</td>\n",
       "      <td>0</td>\n",
       "      <td>0</td>\n",
       "      <td>0</td>\n",
       "      <td>0</td>\n",
       "      <td>0</td>\n",
       "      <td>0</td>\n",
       "    </tr>\n",
       "    <tr>\n",
       "      <th>1060</th>\n",
       "      <td>9</td>\n",
       "      <td>0</td>\n",
       "      <td>0</td>\n",
       "      <td>0</td>\n",
       "      <td>0</td>\n",
       "      <td>0</td>\n",
       "      <td>0</td>\n",
       "      <td>0</td>\n",
       "      <td>0</td>\n",
       "      <td>0</td>\n",
       "      <td>...</td>\n",
       "      <td>0</td>\n",
       "      <td>0</td>\n",
       "      <td>0</td>\n",
       "      <td>0</td>\n",
       "      <td>0</td>\n",
       "      <td>0</td>\n",
       "      <td>0</td>\n",
       "      <td>0</td>\n",
       "      <td>0</td>\n",
       "      <td>0</td>\n",
       "    </tr>\n",
       "    <tr>\n",
       "      <th>1061</th>\n",
       "      <td>1</td>\n",
       "      <td>0</td>\n",
       "      <td>0</td>\n",
       "      <td>0</td>\n",
       "      <td>0</td>\n",
       "      <td>0</td>\n",
       "      <td>0</td>\n",
       "      <td>0</td>\n",
       "      <td>0</td>\n",
       "      <td>0</td>\n",
       "      <td>...</td>\n",
       "      <td>0</td>\n",
       "      <td>0</td>\n",
       "      <td>0</td>\n",
       "      <td>0</td>\n",
       "      <td>0</td>\n",
       "      <td>0</td>\n",
       "      <td>0</td>\n",
       "      <td>0</td>\n",
       "      <td>0</td>\n",
       "      <td>0</td>\n",
       "    </tr>\n",
       "    <tr>\n",
       "      <th>1062</th>\n",
       "      <td>2</td>\n",
       "      <td>0</td>\n",
       "      <td>0</td>\n",
       "      <td>0</td>\n",
       "      <td>0</td>\n",
       "      <td>0</td>\n",
       "      <td>0</td>\n",
       "      <td>0</td>\n",
       "      <td>0</td>\n",
       "      <td>0</td>\n",
       "      <td>...</td>\n",
       "      <td>0</td>\n",
       "      <td>0</td>\n",
       "      <td>0</td>\n",
       "      <td>0</td>\n",
       "      <td>0</td>\n",
       "      <td>0</td>\n",
       "      <td>0</td>\n",
       "      <td>0</td>\n",
       "      <td>0</td>\n",
       "      <td>0</td>\n",
       "    </tr>\n",
       "    <tr>\n",
       "      <th>1063</th>\n",
       "      <td>3</td>\n",
       "      <td>0</td>\n",
       "      <td>0</td>\n",
       "      <td>0</td>\n",
       "      <td>0</td>\n",
       "      <td>0</td>\n",
       "      <td>0</td>\n",
       "      <td>0</td>\n",
       "      <td>0</td>\n",
       "      <td>0</td>\n",
       "      <td>...</td>\n",
       "      <td>0</td>\n",
       "      <td>0</td>\n",
       "      <td>0</td>\n",
       "      <td>0</td>\n",
       "      <td>0</td>\n",
       "      <td>0</td>\n",
       "      <td>0</td>\n",
       "      <td>0</td>\n",
       "      <td>0</td>\n",
       "      <td>0</td>\n",
       "    </tr>\n",
       "    <tr>\n",
       "      <th>1064</th>\n",
       "      <td>4</td>\n",
       "      <td>0</td>\n",
       "      <td>0</td>\n",
       "      <td>0</td>\n",
       "      <td>0</td>\n",
       "      <td>0</td>\n",
       "      <td>0</td>\n",
       "      <td>1</td>\n",
       "      <td>0</td>\n",
       "      <td>0</td>\n",
       "      <td>...</td>\n",
       "      <td>0</td>\n",
       "      <td>0</td>\n",
       "      <td>0</td>\n",
       "      <td>0</td>\n",
       "      <td>0</td>\n",
       "      <td>0</td>\n",
       "      <td>0</td>\n",
       "      <td>0</td>\n",
       "      <td>0</td>\n",
       "      <td>0</td>\n",
       "    </tr>\n",
       "    <tr>\n",
       "      <th>1065</th>\n",
       "      <td>5</td>\n",
       "      <td>0</td>\n",
       "      <td>0</td>\n",
       "      <td>0</td>\n",
       "      <td>0</td>\n",
       "      <td>0</td>\n",
       "      <td>0</td>\n",
       "      <td>0</td>\n",
       "      <td>0</td>\n",
       "      <td>0</td>\n",
       "      <td>...</td>\n",
       "      <td>0</td>\n",
       "      <td>0</td>\n",
       "      <td>0</td>\n",
       "      <td>0</td>\n",
       "      <td>1</td>\n",
       "      <td>0</td>\n",
       "      <td>0</td>\n",
       "      <td>0</td>\n",
       "      <td>0</td>\n",
       "      <td>0</td>\n",
       "    </tr>\n",
       "    <tr>\n",
       "      <th>1066</th>\n",
       "      <td>6</td>\n",
       "      <td>0</td>\n",
       "      <td>0</td>\n",
       "      <td>0</td>\n",
       "      <td>0</td>\n",
       "      <td>0</td>\n",
       "      <td>0</td>\n",
       "      <td>0</td>\n",
       "      <td>0</td>\n",
       "      <td>0</td>\n",
       "      <td>...</td>\n",
       "      <td>0</td>\n",
       "      <td>0</td>\n",
       "      <td>0</td>\n",
       "      <td>0</td>\n",
       "      <td>0</td>\n",
       "      <td>0</td>\n",
       "      <td>0</td>\n",
       "      <td>0</td>\n",
       "      <td>0</td>\n",
       "      <td>0</td>\n",
       "    </tr>\n",
       "    <tr>\n",
       "      <th>1067</th>\n",
       "      <td>7</td>\n",
       "      <td>0</td>\n",
       "      <td>0</td>\n",
       "      <td>0</td>\n",
       "      <td>0</td>\n",
       "      <td>0</td>\n",
       "      <td>0</td>\n",
       "      <td>0</td>\n",
       "      <td>0</td>\n",
       "      <td>0</td>\n",
       "      <td>...</td>\n",
       "      <td>0</td>\n",
       "      <td>0</td>\n",
       "      <td>0</td>\n",
       "      <td>0</td>\n",
       "      <td>0</td>\n",
       "      <td>0</td>\n",
       "      <td>0</td>\n",
       "      <td>0</td>\n",
       "      <td>0</td>\n",
       "      <td>0</td>\n",
       "    </tr>\n",
       "    <tr>\n",
       "      <th>1068</th>\n",
       "      <td>8</td>\n",
       "      <td>0</td>\n",
       "      <td>0</td>\n",
       "      <td>0</td>\n",
       "      <td>0</td>\n",
       "      <td>0</td>\n",
       "      <td>0</td>\n",
       "      <td>0</td>\n",
       "      <td>0</td>\n",
       "      <td>0</td>\n",
       "      <td>...</td>\n",
       "      <td>0</td>\n",
       "      <td>0</td>\n",
       "      <td>0</td>\n",
       "      <td>0</td>\n",
       "      <td>0</td>\n",
       "      <td>0</td>\n",
       "      <td>0</td>\n",
       "      <td>0</td>\n",
       "      <td>0</td>\n",
       "      <td>0</td>\n",
       "    </tr>\n",
       "    <tr>\n",
       "      <th>1069</th>\n",
       "      <td>9</td>\n",
       "      <td>0</td>\n",
       "      <td>0</td>\n",
       "      <td>0</td>\n",
       "      <td>0</td>\n",
       "      <td>0</td>\n",
       "      <td>0</td>\n",
       "      <td>0</td>\n",
       "      <td>0</td>\n",
       "      <td>0</td>\n",
       "      <td>...</td>\n",
       "      <td>0</td>\n",
       "      <td>0</td>\n",
       "      <td>0</td>\n",
       "      <td>0</td>\n",
       "      <td>0</td>\n",
       "      <td>0</td>\n",
       "      <td>0</td>\n",
       "      <td>0</td>\n",
       "      <td>0</td>\n",
       "      <td>0</td>\n",
       "    </tr>\n",
       "    <tr>\n",
       "      <th>1070</th>\n",
       "      <td>1</td>\n",
       "      <td>0</td>\n",
       "      <td>0</td>\n",
       "      <td>0</td>\n",
       "      <td>0</td>\n",
       "      <td>0</td>\n",
       "      <td>0</td>\n",
       "      <td>0</td>\n",
       "      <td>0</td>\n",
       "      <td>0</td>\n",
       "      <td>...</td>\n",
       "      <td>0</td>\n",
       "      <td>0</td>\n",
       "      <td>0</td>\n",
       "      <td>0</td>\n",
       "      <td>0</td>\n",
       "      <td>0</td>\n",
       "      <td>0</td>\n",
       "      <td>0</td>\n",
       "      <td>0</td>\n",
       "      <td>0</td>\n",
       "    </tr>\n",
       "    <tr>\n",
       "      <th>1071</th>\n",
       "      <td>2</td>\n",
       "      <td>0</td>\n",
       "      <td>0</td>\n",
       "      <td>0</td>\n",
       "      <td>0</td>\n",
       "      <td>0</td>\n",
       "      <td>0</td>\n",
       "      <td>0</td>\n",
       "      <td>0</td>\n",
       "      <td>0</td>\n",
       "      <td>...</td>\n",
       "      <td>0</td>\n",
       "      <td>0</td>\n",
       "      <td>0</td>\n",
       "      <td>0</td>\n",
       "      <td>0</td>\n",
       "      <td>0</td>\n",
       "      <td>0</td>\n",
       "      <td>0</td>\n",
       "      <td>0</td>\n",
       "      <td>0</td>\n",
       "    </tr>\n",
       "    <tr>\n",
       "      <th>1072</th>\n",
       "      <td>3</td>\n",
       "      <td>0</td>\n",
       "      <td>0</td>\n",
       "      <td>0</td>\n",
       "      <td>0</td>\n",
       "      <td>0</td>\n",
       "      <td>0</td>\n",
       "      <td>0</td>\n",
       "      <td>0</td>\n",
       "      <td>0</td>\n",
       "      <td>...</td>\n",
       "      <td>0</td>\n",
       "      <td>0</td>\n",
       "      <td>0</td>\n",
       "      <td>0</td>\n",
       "      <td>0</td>\n",
       "      <td>0</td>\n",
       "      <td>0</td>\n",
       "      <td>0</td>\n",
       "      <td>0</td>\n",
       "      <td>0</td>\n",
       "    </tr>\n",
       "    <tr>\n",
       "      <th>1073</th>\n",
       "      <td>4</td>\n",
       "      <td>0</td>\n",
       "      <td>0</td>\n",
       "      <td>0</td>\n",
       "      <td>0</td>\n",
       "      <td>0</td>\n",
       "      <td>0</td>\n",
       "      <td>0</td>\n",
       "      <td>0</td>\n",
       "      <td>0</td>\n",
       "      <td>...</td>\n",
       "      <td>0</td>\n",
       "      <td>0</td>\n",
       "      <td>0</td>\n",
       "      <td>0</td>\n",
       "      <td>0</td>\n",
       "      <td>0</td>\n",
       "      <td>0</td>\n",
       "      <td>0</td>\n",
       "      <td>1</td>\n",
       "      <td>0</td>\n",
       "    </tr>\n",
       "    <tr>\n",
       "      <th>1074</th>\n",
       "      <td>5</td>\n",
       "      <td>0</td>\n",
       "      <td>0</td>\n",
       "      <td>0</td>\n",
       "      <td>0</td>\n",
       "      <td>0</td>\n",
       "      <td>0</td>\n",
       "      <td>0</td>\n",
       "      <td>0</td>\n",
       "      <td>0</td>\n",
       "      <td>...</td>\n",
       "      <td>0</td>\n",
       "      <td>0</td>\n",
       "      <td>0</td>\n",
       "      <td>0</td>\n",
       "      <td>1</td>\n",
       "      <td>0</td>\n",
       "      <td>0</td>\n",
       "      <td>0</td>\n",
       "      <td>0</td>\n",
       "      <td>0</td>\n",
       "    </tr>\n",
       "    <tr>\n",
       "      <th>1075</th>\n",
       "      <td>6</td>\n",
       "      <td>0</td>\n",
       "      <td>0</td>\n",
       "      <td>0</td>\n",
       "      <td>0</td>\n",
       "      <td>0</td>\n",
       "      <td>0</td>\n",
       "      <td>0</td>\n",
       "      <td>0</td>\n",
       "      <td>0</td>\n",
       "      <td>...</td>\n",
       "      <td>0</td>\n",
       "      <td>0</td>\n",
       "      <td>0</td>\n",
       "      <td>0</td>\n",
       "      <td>0</td>\n",
       "      <td>0</td>\n",
       "      <td>0</td>\n",
       "      <td>0</td>\n",
       "      <td>0</td>\n",
       "      <td>0</td>\n",
       "    </tr>\n",
       "    <tr>\n",
       "      <th>1076</th>\n",
       "      <td>7</td>\n",
       "      <td>0</td>\n",
       "      <td>0</td>\n",
       "      <td>0</td>\n",
       "      <td>0</td>\n",
       "      <td>0</td>\n",
       "      <td>0</td>\n",
       "      <td>0</td>\n",
       "      <td>0</td>\n",
       "      <td>0</td>\n",
       "      <td>...</td>\n",
       "      <td>0</td>\n",
       "      <td>0</td>\n",
       "      <td>0</td>\n",
       "      <td>0</td>\n",
       "      <td>0</td>\n",
       "      <td>0</td>\n",
       "      <td>0</td>\n",
       "      <td>0</td>\n",
       "      <td>0</td>\n",
       "      <td>0</td>\n",
       "    </tr>\n",
       "    <tr>\n",
       "      <th>1077</th>\n",
       "      <td>8</td>\n",
       "      <td>0</td>\n",
       "      <td>0</td>\n",
       "      <td>0</td>\n",
       "      <td>0</td>\n",
       "      <td>0</td>\n",
       "      <td>0</td>\n",
       "      <td>0</td>\n",
       "      <td>0</td>\n",
       "      <td>0</td>\n",
       "      <td>...</td>\n",
       "      <td>0</td>\n",
       "      <td>0</td>\n",
       "      <td>0</td>\n",
       "      <td>0</td>\n",
       "      <td>0</td>\n",
       "      <td>0</td>\n",
       "      <td>0</td>\n",
       "      <td>0</td>\n",
       "      <td>0</td>\n",
       "      <td>0</td>\n",
       "    </tr>\n",
       "    <tr>\n",
       "      <th>1078</th>\n",
       "      <td>9</td>\n",
       "      <td>0</td>\n",
       "      <td>0</td>\n",
       "      <td>0</td>\n",
       "      <td>0</td>\n",
       "      <td>0</td>\n",
       "      <td>0</td>\n",
       "      <td>0</td>\n",
       "      <td>0</td>\n",
       "      <td>0</td>\n",
       "      <td>...</td>\n",
       "      <td>0</td>\n",
       "      <td>0</td>\n",
       "      <td>0</td>\n",
       "      <td>0</td>\n",
       "      <td>0</td>\n",
       "      <td>0</td>\n",
       "      <td>0</td>\n",
       "      <td>0</td>\n",
       "      <td>0</td>\n",
       "      <td>0</td>\n",
       "    </tr>\n",
       "  </tbody>\n",
       "</table>\n",
       "<p>1079 rows × 857 columns</p>\n",
       "</div>"
      ],
      "text/plain": [
       "      1  0  0.1  0.2  0.3  0.4  0.5  0.6  0.7  0.8  ...    0.843  0.844  \\\n",
       "0     2  0    0    0    0    0    0    0    0    0  ...        0      0   \n",
       "1     3  0    0    0    0    0    0    0    0    0  ...        0      0   \n",
       "2     4  0    0    0    0    0    0    0    0    0  ...        0      0   \n",
       "3     5  0    0    0    0    0    0    0    0    0  ...        0      0   \n",
       "4     6  0    0    1    0    0    0    0    0    0  ...        0      0   \n",
       "5     7  0    0    0    0    0    0    0    0    0  ...        0      0   \n",
       "6     8  0    0    0    0    0    0    0    0    0  ...        0      0   \n",
       "7     9  0    0    0    0    0    0    0    0    0  ...        0      0   \n",
       "8     1  0    0    0    0    0    0    0    0    0  ...        0      0   \n",
       "9     2  0    0    0    0    0    0    0    0    0  ...        0      0   \n",
       "10    3  0    0    0    0    0    0    0    0    0  ...        0      0   \n",
       "11    4  0    0    0    0    0    0    0    0    0  ...        0      0   \n",
       "12    5  0    0    0    0    0    0    0    0    0  ...        0      0   \n",
       "13    6  0    0    0    0    0    0    0    0    0  ...        0      0   \n",
       "14    7  0    0    0    0    0    0    0    0    0  ...        0      0   \n",
       "15    8  0    0    0    0    0    0    0    0    0  ...        0      0   \n",
       "16    9  0    0    0    0    0    0    0    0    0  ...        0      0   \n",
       "17    1  0    0    0    0    0    0    0    0    0  ...        0      0   \n",
       "18    2  0    0    0    0    0    0    0    0    0  ...        0      0   \n",
       "19    3  0    0    0    0    0    0    0    0    0  ...        0      0   \n",
       "20    4  0    0    0    0    0    0    1    0    0  ...        0      0   \n",
       "21    5  0    0    0    0    0    0    0    0    0  ...        0      0   \n",
       "22    6  0    0    0    0    0    0    0    0    0  ...        0      0   \n",
       "23    7  0    0    0    0    0    0    0    0    0  ...        0      0   \n",
       "24    8  0    0    0    0    0    0    0    0    0  ...        0      0   \n",
       "25    9  0    0    0    0    0    0    0    0    0  ...        0      0   \n",
       "26    1  0    0    0    0    0    0    0    0    0  ...        0      0   \n",
       "27    2  0    0    0    0    0    0    0    0    0  ...        0      0   \n",
       "28    3  0    0    0    0    0    0    0    0    0  ...        0      0   \n",
       "29    4  0    0    0    0    0    0    0    0    0  ...        0      0   \n",
       "...  .. ..  ...  ...  ...  ...  ...  ...  ...  ...  ...      ...    ...   \n",
       "1049  7  0    0    0    0    0    0    0    0    0  ...        0      0   \n",
       "1050  8  0    0    0    0    0    0    0    0    0  ...        0      0   \n",
       "1051  9  0    0    0    0    0    0    0    0    0  ...        0      0   \n",
       "1052  1  0    0    0    0    0    0    0    0    0  ...        0      0   \n",
       "1053  2  0    0    0    0    0    0    0    0    0  ...        0      0   \n",
       "1054  3  0    0    0    0    0    0    0    0    0  ...        0      0   \n",
       "1055  4  0    0    0    0    0    0    1    0    0  ...        0      0   \n",
       "1056  5  0    0    0    0    0    0    0    0    0  ...        0      0   \n",
       "1057  6  0    0    0    0    0    0    0    0    0  ...        0      0   \n",
       "1058  7  0    0    0    0    0    0    0    0    0  ...        0      0   \n",
       "1059  8  0    0    0    0    0    0    0    0    0  ...        0      0   \n",
       "1060  9  0    0    0    0    0    0    0    0    0  ...        0      0   \n",
       "1061  1  0    0    0    0    0    0    0    0    0  ...        0      0   \n",
       "1062  2  0    0    0    0    0    0    0    0    0  ...        0      0   \n",
       "1063  3  0    0    0    0    0    0    0    0    0  ...        0      0   \n",
       "1064  4  0    0    0    0    0    0    1    0    0  ...        0      0   \n",
       "1065  5  0    0    0    0    0    0    0    0    0  ...        0      0   \n",
       "1066  6  0    0    0    0    0    0    0    0    0  ...        0      0   \n",
       "1067  7  0    0    0    0    0    0    0    0    0  ...        0      0   \n",
       "1068  8  0    0    0    0    0    0    0    0    0  ...        0      0   \n",
       "1069  9  0    0    0    0    0    0    0    0    0  ...        0      0   \n",
       "1070  1  0    0    0    0    0    0    0    0    0  ...        0      0   \n",
       "1071  2  0    0    0    0    0    0    0    0    0  ...        0      0   \n",
       "1072  3  0    0    0    0    0    0    0    0    0  ...        0      0   \n",
       "1073  4  0    0    0    0    0    0    0    0    0  ...        0      0   \n",
       "1074  5  0    0    0    0    0    0    0    0    0  ...        0      0   \n",
       "1075  6  0    0    0    0    0    0    0    0    0  ...        0      0   \n",
       "1076  7  0    0    0    0    0    0    0    0    0  ...        0      0   \n",
       "1077  8  0    0    0    0    0    0    0    0    0  ...        0      0   \n",
       "1078  9  0    0    0    0    0    0    0    0    0  ...        0      0   \n",
       "\n",
       "      0.845  0.846  0.847  0.848  0.849  0.850  0.851  0.852  \n",
       "0         0      0      0      0      0      0      0      0  \n",
       "1         0      0      0      0      0      0      0      0  \n",
       "2         0      0      0      0      0      0      0      0  \n",
       "3         0      0      0      0      0      0      0      0  \n",
       "4         0      0      0      0      0      0      0      0  \n",
       "5         0      0      0      0      0      0      0      0  \n",
       "6         0      0      0      0      0      0      0      0  \n",
       "7         0      0      0      0      0      0      0      0  \n",
       "8         0      0      0      0      0      0      0      0  \n",
       "9         0      0      0      0      0      0      0      0  \n",
       "10        0      0      0      0      0      0      0      0  \n",
       "11        0      0      0      0      0      0      0      0  \n",
       "12        0      0      0      0      0      0      0      0  \n",
       "13        0      0      0      0      0      0      0      0  \n",
       "14        0      0      0      0      0      0      0      0  \n",
       "15        0      0      0      0      0      0      0      0  \n",
       "16        0      0      0      0      0      0      0      0  \n",
       "17        0      0      0      0      0      0      0      0  \n",
       "18        0      0      0      0      0      0      0      0  \n",
       "19        0      0      0      0      0      0      0      0  \n",
       "20        0      0      0      0      0      0      0      0  \n",
       "21        0      0      1      0      0      0      0      0  \n",
       "22        0      0      0      0      0      0      0      0  \n",
       "23        0      0      0      0      0      0      0      0  \n",
       "24        0      0      0      0      0      0      0      0  \n",
       "25        0      0      0      0      0      0      0      0  \n",
       "26        0      0      0      0      0      0      0      0  \n",
       "27        0      0      0      0      0      0      0      0  \n",
       "28        0      0      0      0      0      0      0      0  \n",
       "29        0      0      0      0      0      0      0      0  \n",
       "...     ...    ...    ...    ...    ...    ...    ...    ...  \n",
       "1049      0      0      0      0      0      0      0      0  \n",
       "1050      0      0      0      0      0      0      0      0  \n",
       "1051      0      0      0      0      0      0      0      0  \n",
       "1052      0      0      0      0      0      0      0      0  \n",
       "1053      0      0      0      0      0      0      0      0  \n",
       "1054      0      0      0      0      0      0      0      0  \n",
       "1055      0      0      0      0      0      0      0      0  \n",
       "1056      0      0      0      0      0      0      0      0  \n",
       "1057      0      0      0      0      0      0      0      0  \n",
       "1058      0      0      0      0      0      0      0      0  \n",
       "1059      0      0      0      0      0      0      0      0  \n",
       "1060      0      0      0      0      0      0      0      0  \n",
       "1061      0      0      0      0      0      0      0      0  \n",
       "1062      0      0      0      0      0      0      0      0  \n",
       "1063      0      0      0      0      0      0      0      0  \n",
       "1064      0      0      0      0      0      0      0      0  \n",
       "1065      0      0      1      0      0      0      0      0  \n",
       "1066      0      0      0      0      0      0      0      0  \n",
       "1067      0      0      0      0      0      0      0      0  \n",
       "1068      0      0      0      0      0      0      0      0  \n",
       "1069      0      0      0      0      0      0      0      0  \n",
       "1070      0      0      0      0      0      0      0      0  \n",
       "1071      0      0      0      0      0      0      0      0  \n",
       "1072      0      0      0      0      0      0      0      0  \n",
       "1073      0      0      0      0      0      0      1      0  \n",
       "1074      0      0      1      0      0      0      0      0  \n",
       "1075      0      0      0      0      0      0      0      0  \n",
       "1076      0      0      0      0      0      0      0      0  \n",
       "1077      0      0      0      0      0      0      0      0  \n",
       "1078      0      0      0      0      0      0      0      0  \n",
       "\n",
       "[1079 rows x 857 columns]"
      ]
     },
     "metadata": {
      "tags": []
     },
     "output_type": "display_data"
    }
   ],
   "source": [
    "cnae_df = pd.read_csv('CNAE-9.data')\n",
    "display(cnae_df)"
   ]
  },
  {
   "cell_type": "code",
   "execution_count": null,
   "metadata": {
    "colab": {
     "base_uri": "https://localhost:8080/",
     "height": 85
    },
    "colab_type": "code",
    "id": "Efpchl4yZdlo",
    "outputId": "1edd9b38-d396-4742-d0ec-ddac666d0510"
   },
   "outputs": [
    {
     "name": "stdout",
     "output_type": "stream",
     "text": [
      "[1 2 3 4 5 6 7 8 9]\n",
      "[2 3 4 ... 7 8 9]\n",
      "(1079,)\n",
      "1\n"
     ]
    }
   ],
   "source": [
    "label_names = np.arange(1,10) # Our categories are integers in the range 1 - 9 \n",
    "labels = cnae_df['1'].values # Get the categories values, of each one of our 1078 samples. They are located in column named 1\n",
    "print (label_names)\n",
    "print (labels)\n",
    "print (labels.shape)\n",
    "print (labels.ndim)"
   ]
  },
  {
   "cell_type": "code",
   "execution_count": null,
   "metadata": {
    "colab": {
     "base_uri": "https://localhost:8080/",
     "height": 1649
    },
    "colab_type": "code",
    "id": "4IwaKmq9IHfg",
    "outputId": "5a768c43-8e66-488d-b986-8a097c51ef52"
   },
   "outputs": [
    {
     "name": "stdout",
     "output_type": "stream",
     "text": [
      "['0' '0.1' '0.2' '0.3' '0.4' '0.5' '0.6' '0.7' '0.8' '0.9' '0.10' '0.11'\n",
      " '0.12' '0.13' '0.14' '0.15' '0.16' '0.17' '0.18' '0.19' '0.20' '0.21'\n",
      " '0.22' '0.23' '0.24' '0.25' '0.26' '0.27' '0.28' '0.29' '0.30' '0.31'\n",
      " '0.32' '0.33' '0.34' '0.35' '0.36' '0.37' '0.38' '0.39' '0.40' '0.41'\n",
      " '0.42' '0.43' '0.44' '0.45' '0.46' '0.47' '0.48' '0.49' '0.50' '0.51'\n",
      " '0.52' '0.53' '0.54' '0.55' '0.56' '0.57' '0.58' '0.59' '0.60' '0.61'\n",
      " '0.62' '0.63' '0.64' '0.65' '0.66' '0.67' '0.68' '0.69' '0.70' '0.71'\n",
      " '0.72' '0.73' '0.74' '0.75' '0.76' '0.77' '0.78' '0.79' '0.80' '0.81'\n",
      " '0.82' '0.83' '0.84' '0.85' '0.86' '0.87' '0.88' '0.89' '0.90' '0.91'\n",
      " '0.92' '0.93' '0.94' '0.95' '0.96' '0.97' '0.98' '0.99' '0.100' '0.101'\n",
      " '0.102' '0.103' '0.104' '0.105' '0.106' '0.107' '0.108' '0.109' '0.110'\n",
      " '0.111' '0.112' '0.113' '0.114' '0.115' '0.116' '0.117' '0.118' '0.119'\n",
      " '0.120' '0.121' '0.122' '0.123' '0.124' '0.125' '0.126' '0.127' '0.128'\n",
      " '0.129' '0.130' '0.131' '0.132' '0.133' '0.134' '0.135' '0.136' '0.137'\n",
      " '0.138' '0.139' '0.140' '0.141' '0.142' '0.143' '0.144' '0.145' '0.146'\n",
      " '0.147' '0.148' '0.149' '0.150' '0.151' '0.152' '0.153' '0.154' '0.155'\n",
      " '0.156' '0.157' '0.158' '0.159' '0.160' '0.161' '0.162' '0.163' '0.164'\n",
      " '0.165' '0.166' '0.167' '0.168' '0.169' '0.170' '0.171' '0.172' '0.173'\n",
      " '0.174' '0.175' '0.176' '0.177' '0.178' '0.179' '0.180' '0.181' '0.182'\n",
      " '0.183' '0.184' '0.185' '0.186' '0.187' '0.188' '0.189' '0.190' '0.191'\n",
      " '0.192' '0.193' '0.194' '0.195' '0.196' '0.197' '0.198' '0.199' '0.200'\n",
      " '0.201' '0.202' '0.203' '0.204' '0.205' '0.206' '0.207' '0.208' '0.209'\n",
      " '0.210' '0.211' '0.212' '0.213' '0.214' '0.215' '0.216' '0.217' '0.218'\n",
      " '0.219' '0.220' '0.221' '0.222' '0.223' '0.224' '0.225' '0.226' '0.227'\n",
      " '0.228' '0.229' '0.230' '0.231' '0.232' '0.233' '0.234' '0.235' '0.236'\n",
      " '0.237' '0.238' '0.239' '0.240' '0.241' '0.242' '0.243' '0.244' '0.245'\n",
      " '0.246' '0.247' '0.248' '0.249' '0.250' '0.251' '0.252' '0.253' '0.254'\n",
      " '0.255' '0.256' '0.257' '0.258' '0.259' '0.260' '0.261' '0.262' '0.263'\n",
      " '0.264' '0.265' '0.266' '0.267' '0.268' '0.269' '0.270' '0.271' '0.272'\n",
      " '0.273' '0.274' '0.275' '0.276' '0.277' '0.278' '0.279' '0.280' '0.281'\n",
      " '0.282' '0.283' '0.284' '0.285' '0.286' '0.287' '0.288' '0.289' '0.290'\n",
      " '0.291' '0.292' '0.293' '0.294' '0.295' '0.296' '0.297' '0.298' '0.299'\n",
      " '0.300' '0.301' '0.302' '0.303' '0.304' '0.305' '0.306' '0.307' '0.308'\n",
      " '0.309' '0.310' '0.311' '0.312' '0.313' '0.314' '0.315' '0.316' '0.317'\n",
      " '0.318' '0.319' '0.320' '0.321' '0.322' '0.323' '0.324' '0.325' '0.326'\n",
      " '0.327' '0.328' '0.329' '0.330' '0.331' '0.332' '1.1' '0.333' '0.334'\n",
      " '0.335' '0.336' '0.337' '0.338' '0.339' '0.340' '0.341' '0.342' '0.343'\n",
      " '0.344' '0.345' '0.346' '0.347' '0.348' '0.349' '0.350' '0.351' '0.352'\n",
      " '0.353' '0.354' '0.355' '0.356' '0.357' '0.358' '0.359' '0.360' '0.361'\n",
      " '0.362' '0.363' '0.364' '0.365' '0.366' '0.367' '0.368' '0.369' '0.370'\n",
      " '0.371' '0.372' '0.373' '0.374' '0.375' '0.376' '0.377' '0.378' '0.379'\n",
      " '0.380' '0.381' '0.382' '0.383' '0.384' '0.385' '0.386' '0.387' '0.388'\n",
      " '0.389' '0.390' '0.391' '0.392' '0.393' '0.394' '0.395' '0.396' '0.397'\n",
      " '0.398' '0.399' '0.400' '0.401' '0.402' '0.403' '0.404' '0.405' '0.406'\n",
      " '0.407' '0.408' '0.409' '0.410' '0.411' '0.412' '0.413' '0.414' '0.415'\n",
      " '0.416' '0.417' '0.418' '0.419' '0.420' '0.421' '0.422' '0.423' '0.424'\n",
      " '0.425' '0.426' '0.427' '0.428' '0.429' '0.430' '0.431' '0.432' '0.433'\n",
      " '0.434' '0.435' '0.436' '0.437' '0.438' '0.439' '0.440' '0.441' '0.442'\n",
      " '0.443' '0.444' '0.445' '0.446' '0.447' '0.448' '0.449' '0.450' '0.451'\n",
      " '0.452' '0.453' '0.454' '0.455' '0.456' '0.457' '0.458' '0.459' '0.460'\n",
      " '0.461' '0.462' '0.463' '0.464' '0.465' '0.466' '0.467' '0.468' '0.469'\n",
      " '0.470' '0.471' '0.472' '0.473' '0.474' '0.475' '0.476' '0.477' '0.478'\n",
      " '0.479' '0.480' '0.481' '0.482' '0.483' '0.484' '0.485' '0.486' '0.487'\n",
      " '0.488' '0.489' '0.490' '0.491' '0.492' '0.493' '0.494' '0.495' '0.496'\n",
      " '0.497' '0.498' '0.499' '0.500' '0.501' '0.502' '0.503' '0.504' '0.505'\n",
      " '0.506' '0.507' '0.508' '0.509' '0.510' '0.511' '0.512' '0.513' '0.514'\n",
      " '0.515' '0.516' '0.517' '0.518' '0.519' '0.520' '0.521' '0.522' '0.523'\n",
      " '0.524' '0.525' '0.526' '0.527' '0.528' '0.529' '0.530' '0.531' '0.532'\n",
      " '0.533' '0.534' '0.535' '0.536' '0.537' '0.538' '0.539' '0.540' '0.541'\n",
      " '0.542' '0.543' '0.544' '0.545' '0.546' '0.547' '0.548' '0.549' '0.550'\n",
      " '0.551' '0.552' '0.553' '0.554' '0.555' '0.556' '0.557' '0.558' '0.559'\n",
      " '0.560' '0.561' '0.562' '0.563' '0.564' '0.565' '0.566' '0.567' '0.568'\n",
      " '0.569' '0.570' '0.571' '0.572' '0.573' '0.574' '0.575' '0.576' '0.577'\n",
      " '0.578' '0.579' '0.580' '0.581' '0.582' '0.583' '0.584' '0.585' '0.586'\n",
      " '0.587' '0.588' '0.589' '0.590' '0.591' '0.592' '0.593' '0.594' '0.595'\n",
      " '0.596' '0.597' '0.598' '0.599' '0.600' '0.601' '0.602' '0.603' '0.604'\n",
      " '1.2' '0.605' '0.606' '0.607' '0.608' '0.609' '0.610' '0.611' '0.612'\n",
      " '0.613' '0.614' '0.615' '0.616' '0.617' '0.618' '0.619' '0.620' '0.621'\n",
      " '0.622' '0.623' '0.624' '0.625' '0.626' '0.627' '0.628' '0.629' '0.630'\n",
      " '0.631' '0.632' '0.633' '0.634' '0.635' '0.636' '0.637' '0.638' '0.639'\n",
      " '0.640' '0.641' '0.642' '0.643' '0.644' '0.645' '0.646' '0.647' '0.648'\n",
      " '0.649' '0.650' '0.651' '0.652' '0.653' '0.654' '0.655' '0.656' '0.657'\n",
      " '0.658' '0.659' '0.660' '0.661' '0.662' '0.663' '0.664' '0.665' '0.666'\n",
      " '0.667' '0.668' '0.669' '0.670' '0.671' '0.672' '0.673' '0.674' '0.675'\n",
      " '0.676' '0.677' '0.678' '0.679' '0.680' '0.681' '0.682' '0.683' '0.684'\n",
      " '0.685' '0.686' '0.687' '0.688' '0.689' '0.690' '0.691' '0.692' '0.693'\n",
      " '0.694' '0.695' '0.696' '0.697' '0.698' '0.699' '0.700' '0.701' '0.702'\n",
      " '0.703' '0.704' '0.705' '0.706' '0.707' '0.708' '0.709' '0.710' '0.711'\n",
      " '0.712' '0.713' '0.714' '0.715' '0.716' '0.717' '0.718' '0.719' '0.720'\n",
      " '0.721' '0.722' '0.723' '0.724' '0.725' '0.726' '0.727' '0.728' '0.729'\n",
      " '0.730' '0.731' '0.732' '0.733' '0.734' '0.735' '0.736' '0.737' '0.738'\n",
      " '0.739' '0.740' '0.741' '0.742' '0.743' '0.744' '0.745' '0.746' '0.747'\n",
      " '0.748' '0.749' '0.750' '0.751' '0.752' '0.753' '0.754' '0.755' '0.756'\n",
      " '0.757' '0.758' '0.759' '0.760' '0.761' '0.762' '0.763' '0.764' '0.765'\n",
      " '0.766' '0.767' '0.768' '0.769' '0.770' '0.771' '0.772' '0.773' '0.774'\n",
      " '0.775' '0.776' '0.777' '0.778' '0.779' '0.780' '0.781' '0.782' '0.783'\n",
      " '0.784' '0.785' '0.786' '0.787' '0.788' '0.789' '0.790' '0.791' '0.792'\n",
      " '0.793' '0.794' '0.795' '0.796' '0.797' '0.798' '0.799' '0.800' '0.801'\n",
      " '0.802' '0.803' '0.804' '0.805' '0.806' '0.807' '0.808' '0.809' '0.810'\n",
      " '0.811' '0.812' '0.813' '0.814' '0.815' '0.816' '0.817' '0.818' '0.819'\n",
      " '0.820' '0.821' '0.822' '0.823' '0.824' '0.825' '0.826' '1.3' '0.827'\n",
      " '0.828' '0.829' '0.830' '0.831' '0.832' '0.833' '0.834' '0.835' '0.836'\n",
      " '0.837' '0.838' '0.839' '0.840' '0.841' '0.842' '0.843' '0.844' '0.845'\n",
      " '0.846' '0.847' '0.848' '0.849' '0.850' '0.851' '0.852']\n",
      "(856,)\n",
      "1\n"
     ]
    }
   ],
   "source": [
    "features_names = cnae_df.columns.values[1:] #Features names are the frequencies, of each world. There are 856 frequencies\n",
    "print (features_names)\n",
    "print (features_names.shape)\n",
    "print (features_names.ndim)"
   ]
  },
  {
   "cell_type": "code",
   "execution_count": null,
   "metadata": {
    "colab": {
     "base_uri": "https://localhost:8080/",
     "height": 578
    },
    "colab_type": "code",
    "id": "guVrOCcALJK3",
    "outputId": "52d1d0de-c85f-4370-9172-4cf4b59167f7"
   },
   "outputs": [
    {
     "name": "stdout",
     "output_type": "stream",
     "text": [
      "[[0 0 0 ... 0 0 0]\n",
      " [0 0 0 ... 0 0 0]\n",
      " [0 0 0 ... 0 0 0]\n",
      " ...\n",
      " [0 0 0 ... 0 0 0]\n",
      " [0 0 0 ... 0 0 0]\n",
      " [0 0 0 ... 0 0 0]]\n",
      "(1079, 856)\n",
      "2\n",
      "[0 0 0 0 0 0 0 0 0 0 0 0 0 0 0 0 0 0 0 0 0 0 0 0 0 0 0 0 0 0 0 0 0 0 0 0 0\n",
      " 0 0 0 0 0 0 0 0 0 0 0 0 0 0 0 0 0 0 0 0 0 0 0 0 0 0 0 0 0 0 0 0 0 0 0 0 0\n",
      " 0 0 0 0 0 0 0 0 0 0 0 0 0 0 0 0 0 0 0 0 0 0 0 0 0 0 0 0 0 0 0 0 0 0 0 0 0\n",
      " 0 0 0 0 0 0 0 0 0 0 0 0 0 0 0 0 0 0 0 0 0 0 0 0 0 0 0 0 0 0 0 0 0 0 0 0 0\n",
      " 0 0 0 0 0 0 0 0 0 0 0 0 0 0 0 0 0 0 0 0 0 0 0 0 0 0 0 0 0 0 0 0 0 0 0 0 0\n",
      " 0 0 0 0 0 0 0 0 0 0 0 0 0 0 0 0 0 0 0 0 0 0 0 0 0 0 0 0 0 0 0 0 0 0 0 0 0\n",
      " 0 0 0 0 0 0 0 0 0 0 0 0 0 0 0 0 0 0 0 0 0 0 0 0 0 0 0 0 0 0 0 0 0 0 0 0 0\n",
      " 0 0 0 0 0 0 0 0 0 0 0 0 0 0 0 0 0 0 0 0 0 0 0 0 0 0 0 0 0 0 0 0 0 0 0 0 0\n",
      " 0 0 0 0 0 0 0 0 0 0 0 0 0 0 0 0 0 0 0 0 0 0 0 0 0 0 0 0 0 0 0 0 0 0 0 0 0\n",
      " 0 0 0 0 0 0 0 0 0 0 0 0 0 0 0 0 0 0 0 0 0 0 0 0 0 0 0 0 0 0 0 0 0 0 0 0 0\n",
      " 0 0 0 0 0 0 0 0 0 0 0 0 0 0 0 0 0 0 0 0 0 0 0 0 0 0 0 0 0 0 0 0 0 0 0 0 0\n",
      " 0 0 0 0 0 0 0 0 0 0 0 0 0 0 0 0 0 0 0 0 0 0 0 0 0 0 0 0 0 0 0 0 0 0 0 0 0\n",
      " 0 0 0 0 0 0 0 0 0 0 0 0 0 0 0 0 0 0 0 0 0 0 0 0 0 0 0 0 0 0 0 0 0 0 0 0 0\n",
      " 0 0 0 0 0 0 0 0 0 0 0 0 0 0 0 0 0 0 0 0 0 0 0 0 0 0 0 0 0 0 0 0 0 0 0 0 0\n",
      " 0 0 0 0 0 0 0 0 0 0 0 0 0 0 0 0 0 0 0 0 0 0 0 0 0 0 0 0 0 0 0 0 0 0 0 0 0\n",
      " 0 0 0 0 0 0 0 0 0 0 0 0 0 0 0 0 0 0 0 0 0 0 0 0 0 0 0 0 0 0 0 0 0 0 0 0 0\n",
      " 0 0 0 0 0 0 0 0 0 0 0 0 0 0 0 0 0 0 0 0 0 0 0 0 0 0 0 0 0 0 0 0 0 0 0 0 0\n",
      " 0 0 0 0 0 0 0 0 0 0 0 0 0 0 0 0 0 0 0 0 0 0 0 0 0 0 0 0 0 0 0 0 0 0 0 0 0\n",
      " 0 0 0 0 0 0 0 0 0 0 0 0 0 0 0 0 0 0 0 0 0 0 0 0 0 0 0 0 0 0 0 0 0 0 0 0 0\n",
      " 0 0 0 0 0 0 0 0 0 0 0 0 0 0 0 0 0 0 0 0 0 0 1 0 0 0 0 1 0 0 0 0 0 0 0 0 0\n",
      " 1 0 0 0 0 0 0 0 0 0 0 0 0 0 0 0 0 0 0 0 0 0 0 0 0 0 0 0 0 0 0 0 0 0 0 0 0\n",
      " 0 0 0 0 0 0 0 0 0 0 0 0 0 0 0 0 0 0 0 0 0 0 0 0 0 0 0 0 0 0 0 0 0 0 0 0 0\n",
      " 0 0 0 0 0 0 0 0 0 0 0 0 0 0 0 0 0 0 0 0 0 0 0 0 0 0 0 0 0 0 0 0 0 0 0 0 0\n",
      " 0 0 0 0 0]\n"
     ]
    }
   ],
   "source": [
    "features = cnae_df.values[:, cnae_df.columns != '1']\n",
    "print(features)\n",
    "# οι διαστάσεις όλων των χαρακτηριστικών\n",
    "# τα χαρακτηριστικά του πρώτου δείγματος\n",
    "print (features.shape)\n",
    "print (features.ndim)\n",
    "print (features[0])"
   ]
  },
  {
   "cell_type": "code",
   "execution_count": null,
   "metadata": {
    "colab": {},
    "colab_type": "code",
    "id": "pxzx3dESbLF2"
   },
   "outputs": [],
   "source": [
    "from sklearn.model_selection import train_test_split\n",
    "\n",
    "# Split our data\n",
    "train, test, train_labels, test_labels = train_test_split(features, labels, test_size=0.30)\n"
   ]
  },
  {
   "cell_type": "markdown",
   "metadata": {
    "colab_type": "text",
    "id": "Ab5zsIDRf7qH"
   },
   "source": [
    "# Data Processing\n",
    "\n",
    "We see that we have too many features compared to our samples. So we will try to **make feature_selection**(i.e. VarianceThreshold), to see if we can get better results. Ειδικά στην περίπτωση που η διακύμανση είναι 0, δηλαδή το χαρακτηριστικό εχει σταθερή τιμή για όλα τα δείγματα εκπαίδευσης, δεν χρησιμέυει καθόλου στον ταξινομητή για να αποφασίσει αν ένα δείγμα ανήκει σε μία κλάση ή σε μια άλλη και επιπλέον μπορεί να δυσκολέψει άλλες διαδικασίες της προεπεξεργασίας όπως η κανανικοποίηση των χαρακτηριστικών.\n",
    "\n",
    "Επιπλέον, θα δοκιμάσουμε να κάνουμε εξαγωγή νέων χαρακτηριστικών σε ένα χώρο μικρότερων διαστάσεων (**feature extraction**). Η βασικότερη τεχνική feature extraction είναι η **ανάλυση σε κύριες συνιστώσες (principal components analysis - PCA)** όπου αναλύουμε τα δεδομένα σε κύριες συνιστώσες και δουλέυουμε με τελείως νέες, γραμμικά ασυσχέτιστες μεταβλητές μικρότερης διαστατικότητας. \n",
    "\n",
    "We have binary values in each class, οπότε δεν χρειάζεται να κανονικοποιήσουμε τα δεδομένα (**no scaling needed.** )\n",
    "\n",
    "Our Data are equally distributed to the classes, so there is **no need for balancing.** (over_sampling etc)\n",
    "\n",
    "Moreover, **since our data are equally distributed, there will be almost no difference in f1_micro and f1_macro metrics**. So, we will use f1_micro for choosing the best classifier in each case.\n",
    "\n"
   ]
  },
  {
   "cell_type": "markdown",
   "metadata": {
    "colab_type": "text",
    "id": "lm9D8CsN6XX-"
   },
   "source": [
    "## Variance Thresholds\n",
    "We check some Variance Thresholds to see, between which ones should we choose later"
   ]
  },
  {
   "cell_type": "code",
   "execution_count": null,
   "metadata": {
    "colab": {
     "base_uri": "https://localhost:8080/",
     "height": 51
    },
    "colab_type": "code",
    "id": "Or39yxWz6Ref",
    "outputId": "190155ce-eb92-4887-8c6f-13b5da3e32f4"
   },
   "outputs": [
    {
     "name": "stdout",
     "output_type": "stream",
     "text": [
      "(755, 856)\n",
      "(755, 729)\n"
     ]
    }
   ],
   "source": [
    "from sklearn.feature_selection import VarianceThreshold\n",
    "\n",
    "# αρχικοποιούμε έναν selector\n",
    "selector = VarianceThreshold(0)\n",
    "# όπως κάναμε και με τους ταξινομητές τον κάνουμε fit στα δεδομένα εκπαίδευσης\n",
    "train_reduced = selector.fit_transform(train)\n",
    "print(train.shape)\n",
    "print(train_reduced.shape)"
   ]
  },
  {
   "cell_type": "code",
   "execution_count": null,
   "metadata": {
    "colab": {
     "base_uri": "https://localhost:8080/",
     "height": 51
    },
    "colab_type": "code",
    "id": "o52dXDvM6ewM",
    "outputId": "27fd5e31-8c31-4c78-a33b-44b20233efe3"
   },
   "outputs": [
    {
     "name": "stdout",
     "output_type": "stream",
     "text": [
      "(755, 856)\n",
      "(755, 29)\n"
     ]
    }
   ],
   "source": [
    "  # αρχικοποιούμε έναν selector\n",
    "selector = VarianceThreshold(0.05)\n",
    "# όπως κάναμε και με τους ταξινομητές τον κάνουμε fit στα δεδομένα εκπαίδευσης\n",
    "train_reduced = selector.fit_transform(train)\n",
    "print(train.shape)\n",
    "print(train_reduced.shape)"
   ]
  },
  {
   "cell_type": "code",
   "execution_count": null,
   "metadata": {
    "colab": {
     "base_uri": "https://localhost:8080/",
     "height": 51
    },
    "colab_type": "code",
    "id": "teZn9K3L6Tra",
    "outputId": "acf26ab7-d377-4953-acb4-3c1ec025711f"
   },
   "outputs": [
    {
     "name": "stdout",
     "output_type": "stream",
     "text": [
      "(755, 856)\n",
      "(755, 11)\n"
     ]
    }
   ],
   "source": [
    "# αρχικοποιούμε έναν selector\n",
    "selector = VarianceThreshold(0.1)\n",
    "# όπως κάναμε και με τους ταξινομητές τον κάνουμε fit στα δεδομένα εκπαίδευσης\n",
    "train_reduced = selector.fit_transform(train)\n",
    "print(train.shape)\n",
    "print(train_reduced.shape)"
   ]
  },
  {
   "cell_type": "markdown",
   "metadata": {
    "colab_type": "text",
    "id": "NnHQZLvp5USb"
   },
   "source": [
    "It's clear that we should definetly choose a value below 0.05 because the features are reduced a lot and we will probably have a significant loss of information"
   ]
  },
  {
   "cell_type": "code",
   "execution_count": null,
   "metadata": {
    "colab": {},
    "colab_type": "code",
    "id": "DFQoYtoh3ZZk"
   },
   "outputs": [],
   "source": [
    "# We will use the below dictionaries to compare the results of each classifier\n",
    "f1_macro_default={}\n",
    "f1_macro_optimized={}\n",
    "\n",
    "f1_micro_default={}\n",
    "f1_micro_optimized={}\n",
    "\n",
    "train_time_default={}\n",
    "train_time_optimized={}\n",
    "\n",
    "predict_time_default={}\n",
    "predict_time_optimized={}"
   ]
  },
  {
   "cell_type": "markdown",
   "metadata": {
    "colab_type": "text",
    "id": "kuE09FhLddqw"
   },
   "source": [
    "#Dummy Classifier\n",
    "\n",
    "Θα δοκιμάσουμε πρώτα να ταξινομήσουμε με τον DummyClassifier, ο οποίος δέχεται μια παράμετρο που καθορίζει την τακτική της ταξινόμησης ως εξής:\n",
    "* “uniform”: προβλέπει τυχαία και ομοιόμορφα.\n",
    "* “most_frequent”: προβλέπει πάντα την πιο συχνή κατηγορία στο training set.\n",
    "* “stratified”: κάνει προβλέψεις διατηρώντας την κατανομή των κλάσεων στο training set.\n",
    "\n",
    "Υπάρχει και η επιλογή  “constant” που προβλέπει πάντα μία κατηγορία που τη διαλέγει ο χρήστης. Παρόλα αυτά εδώ έχουμε 9 κατηγορίες, οπότε δεν θα τη μελετήσουμε εξαντλητικά."
   ]
  },
  {
   "cell_type": "code",
   "execution_count": null,
   "metadata": {
    "colab": {
     "base_uri": "https://localhost:8080/",
     "height": 289
    },
    "colab_type": "code",
    "id": "tAjOXRDPb6I2",
    "outputId": "99e60062-3072-4609-ee44-1ff042e8d709"
   },
   "outputs": [
    {
     "name": "stdout",
     "output_type": "stream",
     "text": [
      "              precision    recall  f1-score   support\n",
      "\n",
      "           1       0.17      0.12      0.14        48\n",
      "           2       0.03      0.03      0.03        30\n",
      "           3       0.18      0.19      0.19        36\n",
      "           4       0.12      0.11      0.11        37\n",
      "           5       0.12      0.13      0.13        38\n",
      "           6       0.21      0.25      0.23        32\n",
      "           7       0.13      0.17      0.15        29\n",
      "           8       0.12      0.11      0.11        47\n",
      "           9       0.00      0.00      0.00        27\n",
      "\n",
      "   micro avg       0.13      0.13      0.13       324\n",
      "   macro avg       0.12      0.12      0.12       324\n",
      "weighted avg       0.13      0.13      0.13       324\n",
      "\n"
     ]
    }
   ],
   "source": [
    "from sklearn.dummy import DummyClassifier\n",
    "from sklearn.metrics import classification_report\n",
    "\n",
    "dc_uniform = DummyClassifier(strategy=\"uniform\")\n",
    "model = dc_uniform.fit(train, train_labels)\n",
    "preds = dc_uniform.predict(test)\n",
    "print (classification_report(test_labels, preds))"
   ]
  },
  {
   "cell_type": "code",
   "execution_count": null,
   "metadata": {
    "colab": {
     "base_uri": "https://localhost:8080/",
     "height": 343
    },
    "colab_type": "code",
    "id": "ACc5X_GXijyl",
    "outputId": "44d1d0d9-5d66-4748-8a11-698e3c75fed8"
   },
   "outputs": [
    {
     "name": "stdout",
     "output_type": "stream",
     "text": [
      "              precision    recall  f1-score   support\n",
      "\n",
      "           1       0.15      1.00      0.26        48\n",
      "           2       0.00      0.00      0.00        30\n",
      "           3       0.00      0.00      0.00        36\n",
      "           4       0.00      0.00      0.00        37\n",
      "           5       0.00      0.00      0.00        38\n",
      "           6       0.00      0.00      0.00        32\n",
      "           7       0.00      0.00      0.00        29\n",
      "           8       0.00      0.00      0.00        47\n",
      "           9       0.00      0.00      0.00        27\n",
      "\n",
      "   micro avg       0.15      0.15      0.15       324\n",
      "   macro avg       0.02      0.11      0.03       324\n",
      "weighted avg       0.02      0.15      0.04       324\n",
      "\n"
     ]
    },
    {
     "name": "stderr",
     "output_type": "stream",
     "text": [
      "/usr/local/lib/python3.6/dist-packages/sklearn/metrics/classification.py:1143: UndefinedMetricWarning: Precision and F-score are ill-defined and being set to 0.0 in labels with no predicted samples.\n",
      "  'precision', 'predicted', average, warn_for)\n"
     ]
    }
   ],
   "source": [
    "dc_constant_1 = DummyClassifier(strategy=\"constant\", constant=1)\n",
    "model = dc_constant_1.fit(train, train_labels)\n",
    "preds = dc_constant_1.predict(test)\n",
    "print (classification_report(test_labels, preds))"
   ]
  },
  {
   "cell_type": "code",
   "execution_count": null,
   "metadata": {
    "colab": {
     "base_uri": "https://localhost:8080/",
     "height": 343
    },
    "colab_type": "code",
    "id": "RSih6CY6ilBp",
    "outputId": "c4fbc1c5-fe05-4691-f283-0566e30468e1"
   },
   "outputs": [
    {
     "name": "stdout",
     "output_type": "stream",
     "text": [
      "              precision    recall  f1-score   support\n",
      "\n",
      "           1       0.00      0.00      0.00        48\n",
      "           2       0.00      0.00      0.00        30\n",
      "           3       0.00      0.00      0.00        36\n",
      "           4       0.00      0.00      0.00        37\n",
      "           5       0.00      0.00      0.00        38\n",
      "           6       0.00      0.00      0.00        32\n",
      "           7       0.00      0.00      0.00        29\n",
      "           8       0.00      0.00      0.00        47\n",
      "           9       0.08      1.00      0.15        27\n",
      "\n",
      "   micro avg       0.08      0.08      0.08       324\n",
      "   macro avg       0.01      0.11      0.02       324\n",
      "weighted avg       0.01      0.08      0.01       324\n",
      "\n"
     ]
    },
    {
     "name": "stderr",
     "output_type": "stream",
     "text": [
      "/usr/local/lib/python3.6/dist-packages/sklearn/metrics/classification.py:1143: UndefinedMetricWarning: Precision and F-score are ill-defined and being set to 0.0 in labels with no predicted samples.\n",
      "  'precision', 'predicted', average, warn_for)\n"
     ]
    }
   ],
   "source": [
    "dc_most_frequent = DummyClassifier(strategy=\"most_frequent\")\n",
    "model = dc_most_frequent.fit(train, train_labels)\n",
    "preds = dc_most_frequent.predict(test)\n",
    "print (classification_report(test_labels, preds))"
   ]
  },
  {
   "cell_type": "code",
   "execution_count": null,
   "metadata": {
    "colab": {
     "base_uri": "https://localhost:8080/",
     "height": 289
    },
    "colab_type": "code",
    "id": "V1LypDrGimnS",
    "outputId": "6b14a225-ad0f-462d-b8d9-bf7be5ffde0d"
   },
   "outputs": [
    {
     "name": "stdout",
     "output_type": "stream",
     "text": [
      "              precision    recall  f1-score   support\n",
      "\n",
      "           1       0.07      0.04      0.05        48\n",
      "           2       0.03      0.03      0.03        30\n",
      "           3       0.13      0.14      0.14        36\n",
      "           4       0.30      0.27      0.29        37\n",
      "           5       0.07      0.08      0.07        38\n",
      "           6       0.14      0.16      0.15        32\n",
      "           7       0.05      0.07      0.06        29\n",
      "           8       0.08      0.04      0.05        47\n",
      "           9       0.06      0.11      0.08        27\n",
      "\n",
      "   micro avg       0.10      0.10      0.10       324\n",
      "   macro avg       0.10      0.10      0.10       324\n",
      "weighted avg       0.10      0.10      0.10       324\n",
      "\n"
     ]
    }
   ],
   "source": [
    "dc_stratified = DummyClassifier(strategy=\"stratified\")\n",
    "\n",
    "start_time = time.time()\n",
    "model = dc_stratified.fit(train, train_labels)\n",
    "train_time = (time.time() - start_time)\n",
    "\n",
    "train_time_default['Dummy'] = train_time\n",
    "train_time_optimized['Dummy'] = train_time\n",
    "\n",
    "start_time = time.time()\n",
    "preds = dc_stratified.predict(test)\n",
    "pred_time = (time.time() - start_time)\n",
    "\n",
    "predict_time_default['Dummy'] = train_time\n",
    "predict_time_optimized['Dummy'] = train_time\n",
    "\n",
    "\n",
    "print (classification_report(test_labels, preds))"
   ]
  },
  {
   "cell_type": "code",
   "execution_count": null,
   "metadata": {
    "colab": {
     "base_uri": "https://localhost:8080/",
     "height": 51
    },
    "colab_type": "code",
    "id": "P6xLu-S3Cs9W",
    "outputId": "aa56f6ea-b8cc-41d3-c40f-01c9ad84cce3"
   },
   "outputs": [
    {
     "name": "stdout",
     "output_type": "stream",
     "text": [
      "{'Dummy': 0.002794981002807617}\n",
      "{'Dummy': 0.002794981002807617}\n"
     ]
    }
   ],
   "source": [
    "print(train_time_default)\n",
    "print(predict_time_default)"
   ]
  },
  {
   "cell_type": "code",
   "execution_count": null,
   "metadata": {
    "colab": {
     "base_uri": "https://localhost:8080/",
     "height": 51
    },
    "colab_type": "code",
    "id": "Yf_ObLBe3k7y",
    "outputId": "7e8e45e4-6437-4572-aa12-f334f68a5247"
   },
   "outputs": [
    {
     "name": "stdout",
     "output_type": "stream",
     "text": [
      "{'Dummy': 0.10209728647571724}\n",
      "{'Dummy': 0.10185185185185185}\n"
     ]
    }
   ],
   "source": [
    "#There is no point of optimizing the dummy classifier, so we will take as optimized the default value again\n",
    "report_dict = classification_report(test_labels, preds, output_dict = True)\n",
    "f1_macro_default['Dummy'] = report_dict['macro avg']['f1-score']\n",
    "f1_macro_optimized['Dummy'] = report_dict['macro avg']['f1-score']\n",
    "\n",
    "f1_micro_default['Dummy'] = report_dict['micro avg']['f1-score']\n",
    "f1_micro_optimized['Dummy'] = report_dict['micro avg']['f1-score']\n",
    "\n",
    "print(f1_macro_default)\n",
    "print(f1_micro_default)"
   ]
  },
  {
   "cell_type": "markdown",
   "metadata": {
    "colab_type": "text",
    "id": "Xfa05xurnbnD"
   },
   "source": [
    "## Results\n",
    "We can see, that with the DummyClassifier, we can't achieve good results. So, we will move on and try the Naive Bayes Classifier."
   ]
  },
  {
   "cell_type": "markdown",
   "metadata": {
    "colab_type": "text",
    "id": "rVf_cCc4oMWb"
   },
   "source": [
    "# Naive Bayes Classifier\n",
    "At Gaussian Naive Bayes Classifier, we asume that we have a Gaussian distribution with the $μ$ και $σ^2$ parameters"
   ]
  },
  {
   "cell_type": "markdown",
   "metadata": {
    "colab_type": "text",
    "id": "CniQTb_zhNsW"
   },
   "source": [
    "## Default without Data Processing"
   ]
  },
  {
   "cell_type": "code",
   "execution_count": null,
   "metadata": {
    "colab": {
     "base_uri": "https://localhost:8080/",
     "height": 289
    },
    "colab_type": "code",
    "id": "-koMWfl7oWXO",
    "outputId": "7f68aa3f-6141-4ed6-c492-b9f840fb7c49"
   },
   "outputs": [
    {
     "name": "stdout",
     "output_type": "stream",
     "text": [
      "              precision    recall  f1-score   support\n",
      "\n",
      "           1       0.98      0.92      0.95        48\n",
      "           2       1.00      0.97      0.98        30\n",
      "           3       0.68      0.89      0.77        36\n",
      "           4       0.77      0.54      0.63        37\n",
      "           5       0.95      1.00      0.97        38\n",
      "           6       0.96      0.84      0.90        32\n",
      "           7       0.79      0.93      0.86        29\n",
      "           8       0.94      1.00      0.97        47\n",
      "           9       0.88      0.81      0.85        27\n",
      "\n",
      "   micro avg       0.88      0.88      0.88       324\n",
      "   macro avg       0.88      0.88      0.88       324\n",
      "weighted avg       0.89      0.88      0.88       324\n",
      "\n"
     ]
    }
   ],
   "source": [
    "from sklearn.naive_bayes import GaussianNB\n",
    "gnb = GaussianNB()\n",
    "# κάνουμε εκπαίδευση (fit) δηλαδή ουσιαστικά υπολογίζουμε μέση τιμή και διακύμανση για όλα τα χαρακτηριστικά και κλάσεις στο training set\n",
    "start_time = time.time()\n",
    "model = gnb.fit(train, train_labels)\n",
    "train_time = (time.time() - start_time)\n",
    "\n",
    "train_time_default['GaussianNB'] = train_time\n",
    "\n",
    "start_time = time.time()\n",
    "preds = gnb.predict(test)\n",
    "train_time = (time.time() - start_time)\n",
    "\n",
    "predict_time_default['GaussianNB'] = train_time\n",
    "\n",
    "print (classification_report(test_labels, preds))"
   ]
  },
  {
   "cell_type": "code",
   "execution_count": null,
   "metadata": {
    "colab": {
     "base_uri": "https://localhost:8080/",
     "height": 51
    },
    "colab_type": "code",
    "id": "6j0wYQM1DlJr",
    "outputId": "4a7adbb6-dc22-4dcd-ab2a-74b66dd74272"
   },
   "outputs": [
    {
     "name": "stdout",
     "output_type": "stream",
     "text": [
      "{'Dummy': 0.002794981002807617, 'GaussianNB': 0.027896642684936523}\n",
      "{'Dummy': 0.002794981002807617, 'GaussianNB': 0.02132248878479004}\n"
     ]
    }
   ],
   "source": [
    "print(train_time_default)\n",
    "print(predict_time_default)"
   ]
  },
  {
   "cell_type": "code",
   "execution_count": null,
   "metadata": {
    "colab": {
     "base_uri": "https://localhost:8080/",
     "height": 51
    },
    "colab_type": "code",
    "id": "0QiIoLPziyG0",
    "outputId": "c5324d7b-938d-4690-a5f7-6aa8885511d8"
   },
   "outputs": [
    {
     "name": "stdout",
     "output_type": "stream",
     "text": [
      "{'Dummy': 0.10209728647571724, 'GaussianNB': 0.8757800246079528}\n",
      "{'Dummy': 0.10185185185185185, 'GaussianNB': 0.8827160493827161}\n"
     ]
    }
   ],
   "source": [
    "report_dict = classification_report(test_labels, preds, output_dict = True)\n",
    "f1_macro_default['GaussianNB'] = report_dict['macro avg']['f1-score']\n",
    "f1_micro_default['GaussianNB'] = report_dict['micro avg']['f1-score']\n",
    "\n",
    "print(f1_macro_default)\n",
    "print(f1_micro_default)"
   ]
  },
  {
   "cell_type": "markdown",
   "metadata": {
    "colab_type": "text",
    "id": "7CWq6BBCoyxl"
   },
   "source": [
    "## Results\n",
    "Here we can see, that we have much greater reults, reaching a quite good f1-score. However, we want to see if we can do better with the kNN classifier. Moreover, we see as expected that the f1-macro and f1-micro scores are quite similar, beacause our classes are equally distributed."
   ]
  },
  {
   "cell_type": "markdown",
   "metadata": {
    "colab_type": "text",
    "id": "mTpBC8OT3M51"
   },
   "source": [
    "##Data Processing"
   ]
  },
  {
   "cell_type": "code",
   "execution_count": null,
   "metadata": {
    "colab": {},
    "colab_type": "code",
    "id": "DOZjwoOF1P4s"
   },
   "outputs": [],
   "source": [
    "# !pip install --upgrade imbalanced-learn\n",
    "from imblearn.pipeline import Pipeline\n",
    "\n",
    "# φέρνουμε τις γνωστές μας κλάσεις για preprocessing\n",
    "from sklearn.feature_selection import VarianceThreshold\n",
    "from sklearn.decomposition import PCA\n",
    "from sklearn.model_selection import GridSearchCV\n",
    "\n"
   ]
  },
  {
   "cell_type": "code",
   "execution_count": null,
   "metadata": {
    "colab": {},
    "colab_type": "code",
    "id": "Kzzdn8_V1UXI"
   },
   "outputs": [],
   "source": [
    "# αρχικοποιούμε τους εκτιμητές (μετασχηματιστές και ταξινομητή) χωρίς παραμέτρους\n",
    "selector =VarianceThreshold()\n",
    "clf = GaussianNB()\n",
    "\n",
    "vthreshold = [0, 0.01, 0.02, 0.03, 0.04, 0.05]\n",
    "\n"
   ]
  },
  {
   "cell_type": "code",
   "execution_count": null,
   "metadata": {
    "colab": {},
    "colab_type": "code",
    "id": "4hXMGm-i1p6T"
   },
   "outputs": [],
   "source": [
    "pipe = Pipeline(steps=[('selector', selector), ('gaussiannb', clf)], memory = 'tmp')"
   ]
  },
  {
   "cell_type": "code",
   "execution_count": null,
   "metadata": {
    "colab": {},
    "colab_type": "code",
    "id": "q-pZZG7H2SM0"
   },
   "outputs": [],
   "source": [
    "# We will use 5 fold validation\n",
    "estimator = GridSearchCV(pipe, dict(selector__threshold=vthreshold), cv=5, scoring='f1_micro', n_jobs=-1)"
   ]
  },
  {
   "cell_type": "code",
   "execution_count": null,
   "metadata": {
    "colab": {
     "base_uri": "https://localhost:8080/",
     "height": 306
    },
    "colab_type": "code",
    "id": "phpoGtc52cU1",
    "outputId": "eae8222f-3cb1-4620-b25d-a5d375a8318a"
   },
   "outputs": [
    {
     "name": "stdout",
     "output_type": "stream",
     "text": [
      "Fit done in: 0.04953156709671021 minutes\n",
      "              precision    recall  f1-score   support\n",
      "\n",
      "           1       0.98      0.92      0.95        48\n",
      "           2       1.00      0.97      0.98        30\n",
      "           3       0.68      0.89      0.77        36\n",
      "           4       0.77      0.54      0.63        37\n",
      "           5       0.95      1.00      0.97        38\n",
      "           6       0.96      0.84      0.90        32\n",
      "           7       0.79      0.93      0.86        29\n",
      "           8       0.94      1.00      0.97        47\n",
      "           9       0.88      0.81      0.85        27\n",
      "\n",
      "   micro avg       0.88      0.88      0.88       324\n",
      "   macro avg       0.88      0.88      0.88       324\n",
      "weighted avg       0.89      0.88      0.88       324\n",
      "\n"
     ]
    }
   ],
   "source": [
    "start_time = time.time()\n",
    "estimator.fit(train, train_labels)\n",
    "total_time = (time.time() - start_time)/60\n",
    "print(\"Fit done in:\",total_time,\"minutes\")\n",
    "preds = estimator.predict(test)\n",
    "print (classification_report(test_labels, preds))"
   ]
  },
  {
   "cell_type": "code",
   "execution_count": null,
   "metadata": {
    "colab": {
     "base_uri": "https://localhost:8080/",
     "height": 68
    },
    "colab_type": "code",
    "id": "wCLcB7eD2qvb",
    "outputId": "54b093e0-9a21-4032-95eb-1d8930ed4897"
   },
   "outputs": [
    {
     "name": "stdout",
     "output_type": "stream",
     "text": [
      "Pipeline(memory='tmp',\n",
      "     steps=[('selector', VarianceThreshold(threshold=0)), ('gaussiannb', GaussianNB(priors=None, var_smoothing=1e-09))])\n",
      "{'selector__threshold': 0}\n"
     ]
    }
   ],
   "source": [
    "print (estimator.best_estimator_)\n",
    "print (estimator.best_params_)"
   ]
  },
  {
   "cell_type": "markdown",
   "metadata": {
    "colab_type": "text",
    "id": "yeGR06Nj6JxB"
   },
   "source": [
    "###Progressive Threshold\n",
    "We see that we get the best results, for the Variance Threshold 0. However, we still have a lot of Features compared to the Samples"
   ]
  },
  {
   "cell_type": "code",
   "execution_count": null,
   "metadata": {
    "colab": {
     "base_uri": "https://localhost:8080/",
     "height": 51
    },
    "colab_type": "code",
    "id": "FA0xS5ba6JHa",
    "outputId": "fd79df1f-1f16-4dbe-a29d-41bbe3eb631e"
   },
   "outputs": [
    {
     "name": "stdout",
     "output_type": "stream",
     "text": [
      "(755, 856)\n",
      "(755, 729)\n"
     ]
    }
   ],
   "source": [
    "# αρχικοποιούμε έναν selector\n",
    "selector = VarianceThreshold(0)\n",
    "# όπως κάναμε και με τους ταξινομητές τον κάνουμε fit στα δεδομένα εκπαίδευσης\n",
    "train_reduced = selector.fit_transform(train)\n",
    "print(train.shape)\n",
    "print(train_reduced.shape)"
   ]
  },
  {
   "cell_type": "markdown",
   "metadata": {
    "colab_type": "text",
    "id": "r0oJvXMHQSDo"
   },
   "source": [
    "So, we will try to set a higher thershold to see if we can achieve better results"
   ]
  },
  {
   "cell_type": "code",
   "execution_count": null,
   "metadata": {
    "colab": {},
    "colab_type": "code",
    "id": "FWgjrD4WQRbX"
   },
   "outputs": [],
   "source": [
    "# αρχικοποιούμε τους εκτιμητές (μετασχηματιστές και ταξινομητή) χωρίς παραμέτρους\n",
    "selector =VarianceThreshold()\n",
    "clf = GaussianNB()\n",
    "\n",
    "vthreshold = [0, 0.001, 0.002, 0.003, 0.004, 0.005, 0.006, 0.007, 0.008, 0.009]"
   ]
  },
  {
   "cell_type": "code",
   "execution_count": null,
   "metadata": {
    "colab": {},
    "colab_type": "code",
    "id": "LWk2m1fARqge"
   },
   "outputs": [],
   "source": [
    "pipe = Pipeline(steps=[('selector', selector), ('gaussiannb', clf)], memory = 'tmp')"
   ]
  },
  {
   "cell_type": "code",
   "execution_count": null,
   "metadata": {
    "colab": {},
    "colab_type": "code",
    "id": "owhF5rZBRvbL"
   },
   "outputs": [],
   "source": [
    "# We will use 5 fold validation\n",
    "estimator = GridSearchCV(pipe, dict(selector__threshold=vthreshold), cv=5, scoring='f1_micro', n_jobs=-1)"
   ]
  },
  {
   "cell_type": "code",
   "execution_count": null,
   "metadata": {
    "colab": {
     "base_uri": "https://localhost:8080/",
     "height": 360
    },
    "colab_type": "code",
    "id": "ex6EPh-AR6Qr",
    "outputId": "5a2da478-2382-44ec-9392-904eaaea26f6"
   },
   "outputs": [
    {
     "name": "stdout",
     "output_type": "stream",
     "text": [
      "Fit done in: 0.03586727778116862 minutes\n",
      "              precision    recall  f1-score   support\n",
      "\n",
      "           1       0.98      0.92      0.95        48\n",
      "           2       1.00      0.97      0.98        30\n",
      "           3       0.68      0.89      0.77        36\n",
      "           4       0.77      0.54      0.63        37\n",
      "           5       0.95      1.00      0.97        38\n",
      "           6       0.96      0.84      0.90        32\n",
      "           7       0.79      0.93      0.86        29\n",
      "           8       0.94      1.00      0.97        47\n",
      "           9       0.88      0.81      0.85        27\n",
      "\n",
      "   micro avg       0.88      0.88      0.88       324\n",
      "   macro avg       0.88      0.88      0.88       324\n",
      "weighted avg       0.89      0.88      0.88       324\n",
      "\n"
     ]
    },
    {
     "name": "stderr",
     "output_type": "stream",
     "text": [
      "/usr/local/lib/python3.6/dist-packages/sklearn/model_selection/_search.py:841: DeprecationWarning: The default of the `iid` parameter will change from True to False in version 0.22 and will be removed in 0.24. This will change numeric results when test-set sizes are unequal.\n",
      "  DeprecationWarning)\n"
     ]
    }
   ],
   "source": [
    "start_time = time.time()\n",
    "estimator.fit(train, train_labels)\n",
    "total_time = (time.time() - start_time)/60\n",
    "print(\"Fit done in:\",total_time,\"minutes\")\n",
    "preds = estimator.predict(test)\n",
    "print (classification_report(test_labels, preds))"
   ]
  },
  {
   "cell_type": "code",
   "execution_count": null,
   "metadata": {
    "colab": {
     "base_uri": "https://localhost:8080/",
     "height": 68
    },
    "colab_type": "code",
    "id": "yEQASDwRR94m",
    "outputId": "347c9b54-dc67-4d99-e21b-a8af724473ab"
   },
   "outputs": [
    {
     "name": "stdout",
     "output_type": "stream",
     "text": [
      "Pipeline(memory='tmp',\n",
      "     steps=[('selector', VarianceThreshold(threshold=0)), ('gaussiannb', GaussianNB(priors=None, var_smoothing=1e-09))])\n",
      "{'selector__threshold': 0}\n"
     ]
    }
   ],
   "source": [
    "print (estimator.best_estimator_)\n",
    "print (estimator.best_params_)"
   ]
  },
  {
   "cell_type": "markdown",
   "metadata": {
    "colab_type": "text",
    "id": "vrKOsa4x7K9q"
   },
   "source": [
    "We will try to optimize it with PCA, too."
   ]
  },
  {
   "cell_type": "code",
   "execution_count": null,
   "metadata": {
    "colab": {},
    "colab_type": "code",
    "id": "VwjjDv9_5b1w"
   },
   "outputs": [],
   "source": [
    "# αρχικοποιούμε τους εκτιμητές (μετασχηματιστές και ταξινομητή) χωρίς παραμέτρους\n",
    "selector =VarianceThreshold()\n",
    "pca = PCA()\n",
    "clf = GaussianNB()\n",
    "\n",
    "vthreshold = [0]\n",
    "n_components = [69,70,72,73,74,75,80]\n"
   ]
  },
  {
   "cell_type": "code",
   "execution_count": null,
   "metadata": {
    "colab": {},
    "colab_type": "code",
    "id": "D8vDOili7fuf"
   },
   "outputs": [],
   "source": [
    "pipe = Pipeline(steps=[('selector', selector),('pca',pca), ('gaussiannb', clf)], memory = 'tmp')"
   ]
  },
  {
   "cell_type": "code",
   "execution_count": null,
   "metadata": {
    "colab": {},
    "colab_type": "code",
    "id": "vZyBn-0U7shm"
   },
   "outputs": [],
   "source": [
    "# We will use 5 fold validation\n",
    "estimator = GridSearchCV(pipe, dict(selector__threshold=vthreshold, pca__n_components=n_components), cv=5, scoring='f1_micro', n_jobs=-1)"
   ]
  },
  {
   "cell_type": "code",
   "execution_count": null,
   "metadata": {
    "colab": {
     "base_uri": "https://localhost:8080/",
     "height": 360
    },
    "colab_type": "code",
    "id": "T44vXTJx70cB",
    "outputId": "d9063497-f81d-4349-d619-f07e11fbbb35"
   },
   "outputs": [
    {
     "name": "stderr",
     "output_type": "stream",
     "text": [
      "/usr/local/lib/python3.6/dist-packages/sklearn/model_selection/_search.py:841: DeprecationWarning: The default of the `iid` parameter will change from True to False in version 0.22 and will be removed in 0.24. This will change numeric results when test-set sizes are unequal.\n",
      "  DeprecationWarning)\n"
     ]
    },
    {
     "name": "stdout",
     "output_type": "stream",
     "text": [
      "Fit done in: 0.11727774540583293 minutes\n",
      "              precision    recall  f1-score   support\n",
      "\n",
      "           1       0.89      0.88      0.88        48\n",
      "           2       1.00      0.80      0.89        30\n",
      "           3       0.97      0.86      0.91        36\n",
      "           4       0.76      0.70      0.73        37\n",
      "           5       0.88      1.00      0.94        38\n",
      "           6       0.64      0.84      0.73        32\n",
      "           7       0.89      0.86      0.88        29\n",
      "           8       0.82      0.89      0.86        47\n",
      "           9       0.78      0.67      0.72        27\n",
      "\n",
      "   micro avg       0.84      0.84      0.84       324\n",
      "   macro avg       0.85      0.83      0.84       324\n",
      "weighted avg       0.85      0.84      0.84       324\n",
      "\n"
     ]
    }
   ],
   "source": [
    "start_time = time.time()\n",
    "estimator.fit(train, train_labels)\n",
    "total_time = (time.time() - start_time)/60\n",
    "print(\"Fit done in:\",total_time,\"minutes\")\n",
    "preds = estimator.predict(test)\n",
    "print (classification_report(test_labels, preds))"
   ]
  },
  {
   "cell_type": "code",
   "execution_count": null,
   "metadata": {
    "colab": {
     "base_uri": "https://localhost:8080/",
     "height": 85
    },
    "colab_type": "code",
    "id": "UOVmcgAY728y",
    "outputId": "98f7ceaf-c9c9-4fb7-d214-d89c97f79800"
   },
   "outputs": [
    {
     "name": "stdout",
     "output_type": "stream",
     "text": [
      "Pipeline(memory='tmp',\n",
      "     steps=[('selector', VarianceThreshold(threshold=0)), ('pca', PCA(copy=True, iterated_power='auto', n_components=73, random_state=None,\n",
      "  svd_solver='auto', tol=0.0, whiten=False)), ('gaussiannb', GaussianNB(priors=None, var_smoothing=1e-09))])\n",
      "{'pca__n_components': 73, 'selector__threshold': 0}\n"
     ]
    }
   ],
   "source": [
    "print (estimator.best_estimator_)\n",
    "print (estimator.best_params_)"
   ]
  },
  {
   "cell_type": "markdown",
   "metadata": {
    "colab_type": "text",
    "id": "vmom6SsR8gbR"
   },
   "source": [
    "##Results\n",
    "\n",
    "We can see here, that although we have less dimensions, we get lower results, when we try to optimize with PCA . This means, that reducing the dimensions using PCA, causes sgnificant loss of information. So, our best score here, is by only using as Variance Threshold 0. \n",
    "\n",
    "It is also important to note that the PCA values used here, were choosen after more experiments in greater values. For example, we tried to keep 300 or 200 dimensions but the best results using PCA was around 70 dimensions."
   ]
  },
  {
   "cell_type": "markdown",
   "metadata": {
    "colab_type": "text",
    "id": "LJYZemo8S-KH"
   },
   "source": [
    "##Final GaussianNB Classifier\n",
    "We will finally run the classifier one ore time with the best parameters in order to get the training and the predict times."
   ]
  },
  {
   "cell_type": "code",
   "execution_count": null,
   "metadata": {
    "colab": {},
    "colab_type": "code",
    "id": "i-vsjEKPTW3k"
   },
   "outputs": [],
   "source": [
    "# αρχικοποιούμε τους εκτιμητές (μετασχηματιστές και ταξινομητή) χωρίς παραμέτρους\n",
    "selector =VarianceThreshold()\n",
    "clf = GaussianNB()\n",
    "\n",
    "vthreshold = [0]"
   ]
  },
  {
   "cell_type": "code",
   "execution_count": null,
   "metadata": {
    "colab": {},
    "colab_type": "code",
    "id": "N4ik69SpTYOo"
   },
   "outputs": [],
   "source": [
    "pipe = Pipeline(steps=[('selector', selector), ('gaussiannb', clf)], memory = 'tmp')"
   ]
  },
  {
   "cell_type": "code",
   "execution_count": null,
   "metadata": {
    "colab": {},
    "colab_type": "code",
    "id": "JTs99e7LTiey"
   },
   "outputs": [],
   "source": [
    "# We will use 5 fold validation\n",
    "estimator = GridSearchCV(pipe, dict(selector__threshold=vthreshold), cv=5, scoring='f1_micro', n_jobs=-1)"
   ]
  },
  {
   "cell_type": "code",
   "execution_count": null,
   "metadata": {
    "colab": {
     "base_uri": "https://localhost:8080/",
     "height": 306
    },
    "colab_type": "code",
    "id": "zcwFmTxlTygm",
    "outputId": "22122466-157f-4081-ce08-cff222a42d88"
   },
   "outputs": [
    {
     "name": "stdout",
     "output_type": "stream",
     "text": [
      "Fit done in: 0.30923914909362793 seconds\n",
      "              precision    recall  f1-score   support\n",
      "\n",
      "           1       0.98      0.92      0.95        48\n",
      "           2       1.00      0.97      0.98        30\n",
      "           3       0.68      0.89      0.77        36\n",
      "           4       0.77      0.54      0.63        37\n",
      "           5       0.95      1.00      0.97        38\n",
      "           6       0.96      0.84      0.90        32\n",
      "           7       0.79      0.93      0.86        29\n",
      "           8       0.94      1.00      0.97        47\n",
      "           9       0.88      0.81      0.85        27\n",
      "\n",
      "   micro avg       0.88      0.88      0.88       324\n",
      "   macro avg       0.88      0.88      0.88       324\n",
      "weighted avg       0.89      0.88      0.88       324\n",
      "\n"
     ]
    }
   ],
   "source": [
    "start_time = time.time()\n",
    "estimator.fit(train, train_labels)\n",
    "total_time = (time.time() - start_time)\n",
    "\n",
    "train_time_optimized['GaussianNB'] = total_time\n",
    "print(\"Fit done in:\",total_time,\"seconds\")\n",
    "\n",
    "start_time = time.time()\n",
    "preds = estimator.predict(test)\n",
    "total_time = (time.time() - start_time)\n",
    "\n",
    "predict_time_optimized['GaussianNB'] = total_time\n",
    "\n",
    "print (classification_report(test_labels, preds))"
   ]
  },
  {
   "cell_type": "code",
   "execution_count": null,
   "metadata": {
    "colab": {
     "base_uri": "https://localhost:8080/",
     "height": 85
    },
    "colab_type": "code",
    "id": "MjPkcjsQUMpg",
    "outputId": "699cb240-3c1b-4e04-b849-6f1f40531ea4"
   },
   "outputs": [
    {
     "name": "stdout",
     "output_type": "stream",
     "text": [
      "{'Dummy': 0.10209728647571724, 'GaussianNB': 0.8757800246079528}\n",
      "{'Dummy': 0.10209728647571724, 'GaussianNB': 0.8757800246079528}\n",
      "{'Dummy': 0.10185185185185185, 'GaussianNB': 0.8827160493827161}\n",
      "{'Dummy': 0.10185185185185185, 'GaussianNB': 0.8827160493827161}\n"
     ]
    }
   ],
   "source": [
    "report_dict = classification_report(test_labels, preds, output_dict = True)\n",
    "f1_macro_optimized['GaussianNB'] = report_dict['macro avg']['f1-score']\n",
    "f1_micro_optimized['GaussianNB'] = report_dict['micro avg']['f1-score']\n",
    "\n",
    "print(f1_macro_default)\n",
    "print(f1_macro_optimized)\n",
    "print(f1_micro_default)\n",
    "print(f1_micro_optimized)"
   ]
  },
  {
   "cell_type": "code",
   "execution_count": null,
   "metadata": {
    "colab": {
     "base_uri": "https://localhost:8080/",
     "height": 85
    },
    "colab_type": "code",
    "id": "NqMcH3FtVaDu",
    "outputId": "79f3f9f6-3cad-4f45-dfab-10cd9a6eaf9a"
   },
   "outputs": [
    {
     "name": "stdout",
     "output_type": "stream",
     "text": [
      "{'Dummy': 0.002794981002807617, 'GaussianNB': 0.027896642684936523}\n",
      "{'Dummy': 0.002794981002807617, 'GaussianNB': 0.02132248878479004}\n",
      "{'Dummy': 0.002794981002807617, 'GaussianNB': 0.30923914909362793}\n",
      "{'Dummy': 0.002794981002807617, 'GaussianNB': 0.015270471572875977}\n"
     ]
    }
   ],
   "source": [
    "print(train_time_default)\n",
    "print(predict_time_default)\n",
    "print(train_time_optimized)\n",
    "print(predict_time_optimized)"
   ]
  },
  {
   "cell_type": "markdown",
   "metadata": {
    "colab_type": "text",
    "id": "gdnqvlsPU2K0"
   },
   "source": [
    "So it is clear that the Variance Threshold doesn't affect the GaussianNB Classifier. "
   ]
  },
  {
   "cell_type": "markdown",
   "metadata": {
    "colab_type": "text",
    "id": "Z6IV2GTKpODS"
   },
   "source": [
    "#kNN Classifier\n",
    "In order to find the best k-parameter for our exercise, we would like to train the model and compare the results of k=1 to k=n , where n has a big value. If we do that, we will use multiple times our testing data to see which value for the k parameter would be better. However, in this way, we will have overfitting of our model making it too specific in our testing data. So, in order to avoid this problem, we will use 5-fold vallidation"
   ]
  },
  {
   "cell_type": "markdown",
   "metadata": {
    "colab_type": "text",
    "id": "pX4AF0UKhaYJ"
   },
   "source": [
    "##Default without Data Processing"
   ]
  },
  {
   "cell_type": "code",
   "execution_count": null,
   "metadata": {
    "colab": {
     "base_uri": "https://localhost:8080/",
     "height": 306
    },
    "colab_type": "code",
    "id": "wh4RHsX1qYnn",
    "outputId": "4fd676e6-cb63-4108-a6b0-ffe9b6133e7e"
   },
   "outputs": [
    {
     "name": "stdout",
     "output_type": "stream",
     "text": [
      "Fit done in: 0.01602029800415039 seconds\n",
      "              precision    recall  f1-score   support\n",
      "\n",
      "           1       0.85      0.96      0.90        48\n",
      "           2       0.87      0.90      0.89        30\n",
      "           3       0.84      0.75      0.79        36\n",
      "           4       0.82      0.62      0.71        37\n",
      "           5       1.00      1.00      1.00        38\n",
      "           6       0.81      0.69      0.75        32\n",
      "           7       0.62      0.97      0.76        29\n",
      "           8       0.96      0.94      0.95        47\n",
      "           9       0.70      0.59      0.64        27\n",
      "\n",
      "   micro avg       0.84      0.84      0.84       324\n",
      "   macro avg       0.83      0.82      0.82       324\n",
      "weighted avg       0.84      0.84      0.83       324\n",
      "\n"
     ]
    }
   ],
   "source": [
    "# kNN with Default values\n",
    "\n",
    "from sklearn.neighbors import KNeighborsClassifier\n",
    "knn = KNeighborsClassifier()\n",
    "\n",
    "start_time = time.time()\n",
    "knn.fit(train, train_labels)\n",
    "total_time = (time.time() - start_time)\n",
    "\n",
    "train_time_default['kNN'] = total_time\n",
    "print(\"Fit done in:\",total_time,\"seconds\")\n",
    "\n",
    "start_time = time.time()\n",
    "preds = knn.predict(test)\n",
    "total_time = (time.time() - start_time)\n",
    "\n",
    "predict_time_default['kNN'] = total_time\n",
    "\n",
    "print (classification_report(test_labels, preds))"
   ]
  },
  {
   "cell_type": "code",
   "execution_count": null,
   "metadata": {
    "colab": {
     "base_uri": "https://localhost:8080/",
     "height": 51
    },
    "colab_type": "code",
    "id": "ICUzFl0KXr0Y",
    "outputId": "60947c3b-a8c4-4437-a5c5-6de2b7d9fb4a"
   },
   "outputs": [
    {
     "name": "stdout",
     "output_type": "stream",
     "text": [
      "{'Dummy': 0.10209728647571724, 'GaussianNB': 0.8757800246079528, 'kNN': 0.8197525187183499}\n",
      "{'Dummy': 0.10185185185185185, 'GaussianNB': 0.8827160493827161, 'kNN': 0.8364197530864198}\n"
     ]
    }
   ],
   "source": [
    "report_dict = classification_report(test_labels, preds, output_dict = True)\n",
    "f1_macro_default['kNN'] = report_dict['macro avg']['f1-score']\n",
    "f1_micro_default['kNN'] = report_dict['micro avg']['f1-score']\n",
    "\n",
    "print(f1_macro_default)\n",
    "print(f1_micro_default)"
   ]
  },
  {
   "cell_type": "markdown",
   "metadata": {
    "colab_type": "text",
    "id": "iTfwU00j_mxj"
   },
   "source": [
    "##Data Processing and Optimization"
   ]
  },
  {
   "cell_type": "code",
   "execution_count": null,
   "metadata": {
    "colab": {},
    "colab_type": "code",
    "id": "vD-FdDM2_sR3"
   },
   "outputs": [],
   "source": [
    "# !pip install --upgrade imbalanced-learn\n",
    "from imblearn.pipeline import Pipeline\n",
    "from sklearn.neighbors import KNeighborsClassifier\n",
    "\n",
    "# φέρνουμε τις γνωστές μας κλάσεις για preprocessing\n",
    "from sklearn.feature_selection import VarianceThreshold\n",
    "from sklearn.decomposition import PCA\n",
    "from sklearn.model_selection import GridSearchCV\n",
    "\n",
    "import time\n"
   ]
  },
  {
   "cell_type": "markdown",
   "metadata": {
    "colab_type": "text",
    "id": "3jzjCq_fnYsi"
   },
   "source": [
    "Στη συνέχεια θα χρησιμποιήσουμε την GridSearchCV για να βελτιστοποιήσουμε τις υπερπαραμέτρους μας. Η GridSearchCV κάνει μαζί cross-validation και grid search. Την εισάγουμε και θέτουμε το πεδίο τιμών:"
   ]
  },
  {
   "cell_type": "code",
   "execution_count": null,
   "metadata": {
    "colab": {},
    "colab_type": "code",
    "id": "Ad_H7QR9nmJ0"
   },
   "outputs": [],
   "source": [
    "# αρχικοποιούμε τους εκτιμητές (μετασχηματιστές και ταξινομητή) χωρίς παραμέτρους\n",
    "selector =VarianceThreshold()\n",
    "#pca = PCA()\n",
    "clf = KNeighborsClassifier(n_jobs=-1) # η παράμετρος n_jobs = -1 χρησιμοποιεί όλους τους πυρήνες του υπολογιστή\n",
    "\n",
    "vthreshold = [0, 0.001, 0.002, 0.005, 0.01]\n",
    "#n_components = [10, 20, 25, 30]\n",
    "k = [1, 3, 5, 7, 10, 15, 20]\n",
    "## 'uniform': All points in each neighborhood are weighted equally\n",
    "## 'distance': Closer neighbors of a query point will have a greater influence than neighbors which are further away.\n",
    "weights_options = ['uniform', 'distance']\n",
    "metric_options = ['euclidean', 'manhattan', 'chebyshev', 'minkowski', 'hamming'] #default minkowski\n"
   ]
  },
  {
   "cell_type": "code",
   "execution_count": null,
   "metadata": {
    "colab": {},
    "colab_type": "code",
    "id": "8a16zb2CriyA"
   },
   "outputs": [],
   "source": [
    "pipe = Pipeline(steps=[('selector', selector), ('kNN', clf)], memory = 'tmp')"
   ]
  },
  {
   "cell_type": "markdown",
   "metadata": {
    "colab_type": "text",
    "id": "HGJ5NtqaDa1Z"
   },
   "source": [
    "We will use n_jobs=-1 so that all the cores of our machine will be used and verbose=10, for checking how the training is progressing"
   ]
  },
  {
   "cell_type": "code",
   "execution_count": null,
   "metadata": {
    "colab": {},
    "colab_type": "code",
    "id": "aKpyWcHln2dw"
   },
   "outputs": [],
   "source": [
    "# We will use 5 fold validation\n",
    "estimator = GridSearchCV(pipe, dict(selector__threshold=vthreshold, kNN__n_neighbors=k, kNN__weights=weights_options, kNN__metric=metric_options), cv=5, scoring='f1_micro', n_jobs=-1, verbose=10)"
   ]
  },
  {
   "cell_type": "markdown",
   "metadata": {
    "colab_type": "text",
    "id": "2TOVb69DsLRD"
   },
   "source": [
    "Το GridSearchCV είναι επίσης ένας estimator με fit και predict. "
   ]
  },
  {
   "cell_type": "code",
   "execution_count": null,
   "metadata": {
    "colab": {
     "base_uri": "https://localhost:8080/",
     "height": 1380
    },
    "colab_type": "code",
    "id": "FP-L7SlfsK9H",
    "outputId": "f2d9d5d8-8310-44de-8930-3a9b11b63f13"
   },
   "outputs": [
    {
     "name": "stdout",
     "output_type": "stream",
     "text": [
      "Fitting 5 folds for each of 350 candidates, totalling 1750 fits\n"
     ]
    },
    {
     "name": "stderr",
     "output_type": "stream",
     "text": [
      "[Parallel(n_jobs=-1)]: Using backend LokyBackend with 2 concurrent workers.\n",
      "[Parallel(n_jobs=-1)]: Done   1 tasks      | elapsed:    0.6s\n",
      "[Parallel(n_jobs=-1)]: Done   4 tasks      | elapsed:    1.1s\n",
      "[Parallel(n_jobs=-1)]: Done   9 tasks      | elapsed:    2.1s\n",
      "[Parallel(n_jobs=-1)]: Done  14 tasks      | elapsed:    2.9s\n",
      "[Parallel(n_jobs=-1)]: Done  21 tasks      | elapsed:    3.8s\n",
      "[Parallel(n_jobs=-1)]: Done  28 tasks      | elapsed:    4.9s\n",
      "[Parallel(n_jobs=-1)]: Done  37 tasks      | elapsed:    7.1s\n",
      "[Parallel(n_jobs=-1)]: Done  46 tasks      | elapsed:    8.2s\n",
      "[Parallel(n_jobs=-1)]: Done  57 tasks      | elapsed:   12.3s\n",
      "[Parallel(n_jobs=-1)]: Done  68 tasks      | elapsed:   15.2s\n",
      "[Parallel(n_jobs=-1)]: Done  81 tasks      | elapsed:   19.0s\n",
      "[Parallel(n_jobs=-1)]: Done  94 tasks      | elapsed:   23.1s\n",
      "[Parallel(n_jobs=-1)]: Done 109 tasks      | elapsed:   28.0s\n",
      "[Parallel(n_jobs=-1)]: Done 124 tasks      | elapsed:   31.4s\n",
      "[Parallel(n_jobs=-1)]: Done 141 tasks      | elapsed:   38.2s\n",
      "[Parallel(n_jobs=-1)]: Done 158 tasks      | elapsed:   43.7s\n",
      "[Parallel(n_jobs=-1)]: Done 177 tasks      | elapsed:   48.6s\n",
      "[Parallel(n_jobs=-1)]: Done 196 tasks      | elapsed:   54.9s\n",
      "[Parallel(n_jobs=-1)]: Done 217 tasks      | elapsed:  1.0min\n",
      "[Parallel(n_jobs=-1)]: Done 238 tasks      | elapsed:  1.2min\n",
      "[Parallel(n_jobs=-1)]: Done 261 tasks      | elapsed:  1.3min\n",
      "[Parallel(n_jobs=-1)]: Done 284 tasks      | elapsed:  1.4min\n",
      "[Parallel(n_jobs=-1)]: Done 309 tasks      | elapsed:  1.5min\n",
      "[Parallel(n_jobs=-1)]: Done 334 tasks      | elapsed:  1.7min\n",
      "[Parallel(n_jobs=-1)]: Done 361 tasks      | elapsed:  1.8min\n",
      "[Parallel(n_jobs=-1)]: Done 388 tasks      | elapsed:  1.8min\n",
      "[Parallel(n_jobs=-1)]: Done 417 tasks      | elapsed:  2.0min\n",
      "[Parallel(n_jobs=-1)]: Done 446 tasks      | elapsed:  2.1min\n",
      "[Parallel(n_jobs=-1)]: Done 477 tasks      | elapsed:  2.3min\n",
      "[Parallel(n_jobs=-1)]: Done 508 tasks      | elapsed:  2.4min\n",
      "[Parallel(n_jobs=-1)]: Done 541 tasks      | elapsed:  2.6min\n",
      "[Parallel(n_jobs=-1)]: Done 574 tasks      | elapsed:  2.8min\n",
      "[Parallel(n_jobs=-1)]: Done 609 tasks      | elapsed:  3.0min\n",
      "[Parallel(n_jobs=-1)]: Done 644 tasks      | elapsed:  3.1min\n",
      "[Parallel(n_jobs=-1)]: Done 681 tasks      | elapsed:  3.3min\n",
      "[Parallel(n_jobs=-1)]: Done 718 tasks      | elapsed:  3.5min\n",
      "[Parallel(n_jobs=-1)]: Done 757 tasks      | elapsed:  3.6min\n",
      "[Parallel(n_jobs=-1)]: Done 796 tasks      | elapsed:  3.7min\n",
      "[Parallel(n_jobs=-1)]: Done 837 tasks      | elapsed:  3.9min\n",
      "[Parallel(n_jobs=-1)]: Done 878 tasks      | elapsed:  4.0min\n",
      "[Parallel(n_jobs=-1)]: Done 921 tasks      | elapsed:  4.2min\n",
      "[Parallel(n_jobs=-1)]: Done 964 tasks      | elapsed:  4.4min\n",
      "[Parallel(n_jobs=-1)]: Done 1009 tasks      | elapsed:  4.6min\n",
      "[Parallel(n_jobs=-1)]: Done 1054 tasks      | elapsed:  4.7min\n",
      "[Parallel(n_jobs=-1)]: Done 1101 tasks      | elapsed:  4.9min\n",
      "[Parallel(n_jobs=-1)]: Done 1148 tasks      | elapsed:  5.1min\n",
      "[Parallel(n_jobs=-1)]: Done 1197 tasks      | elapsed:  5.3min\n",
      "[Parallel(n_jobs=-1)]: Done 1246 tasks      | elapsed:  5.6min\n",
      "[Parallel(n_jobs=-1)]: Done 1297 tasks      | elapsed:  5.9min\n",
      "[Parallel(n_jobs=-1)]: Done 1348 tasks      | elapsed:  6.1min\n",
      "[Parallel(n_jobs=-1)]: Done 1401 tasks      | elapsed:  6.4min\n",
      "[Parallel(n_jobs=-1)]: Done 1454 tasks      | elapsed:  6.6min\n",
      "[Parallel(n_jobs=-1)]: Done 1509 tasks      | elapsed:  6.8min\n",
      "[Parallel(n_jobs=-1)]: Done 1564 tasks      | elapsed:  7.1min\n",
      "[Parallel(n_jobs=-1)]: Done 1621 tasks      | elapsed:  7.4min\n",
      "[Parallel(n_jobs=-1)]: Done 1678 tasks      | elapsed:  7.7min\n",
      "[Parallel(n_jobs=-1)]: Done 1737 tasks      | elapsed:  8.0min\n",
      "[Parallel(n_jobs=-1)]: Done 1750 out of 1750 | elapsed:  8.0min finished\n",
      "/usr/local/lib/python3.6/dist-packages/sklearn/model_selection/_search.py:841: DeprecationWarning: The default of the `iid` parameter will change from True to False in version 0.22 and will be removed in 0.24. This will change numeric results when test-set sizes are unequal.\n",
      "  DeprecationWarning)\n"
     ]
    },
    {
     "name": "stdout",
     "output_type": "stream",
     "text": [
      "Fit done in: 8.036914523442586 minutes\n",
      "              precision    recall  f1-score   support\n",
      "\n",
      "           1       0.87      0.96      0.91        48\n",
      "           2       0.90      0.87      0.88        30\n",
      "           3       0.85      0.81      0.83        36\n",
      "           4       0.90      0.70      0.79        37\n",
      "           5       1.00      1.00      1.00        38\n",
      "           6       0.92      0.75      0.83        32\n",
      "           7       0.79      0.93      0.86        29\n",
      "           8       0.96      0.96      0.96        47\n",
      "           9       0.71      0.89      0.79        27\n",
      "\n",
      "   micro avg       0.88      0.88      0.88       324\n",
      "   macro avg       0.88      0.87      0.87       324\n",
      "weighted avg       0.89      0.88      0.88       324\n",
      "\n"
     ]
    }
   ],
   "source": [
    "start_time = time.time()\n",
    "estimator.fit(train, train_labels)\n",
    "total_time = (time.time() - start_time)\n",
    "print(\"Fit done in:\",total_time/60,\"minutes\")\n",
    "preds = estimator.predict(test)\n",
    "print (classification_report(test_labels, preds))"
   ]
  },
  {
   "cell_type": "code",
   "execution_count": null,
   "metadata": {
    "colab": {
     "base_uri": "https://localhost:8080/",
     "height": 102
    },
    "colab_type": "code",
    "id": "Kba-qpcYsgm9",
    "outputId": "ac575d83-6b40-4bfe-d622-0a2ae5fa8d7e"
   },
   "outputs": [
    {
     "name": "stdout",
     "output_type": "stream",
     "text": [
      "Pipeline(memory='tmp',\n",
      "     steps=[('selector', VarianceThreshold(threshold=0)), ('kNN', KNeighborsClassifier(algorithm='auto', leaf_size=30, metric='euclidean',\n",
      "           metric_params=None, n_jobs=-1, n_neighbors=10, p=2,\n",
      "           weights='distance'))])\n",
      "{'kNN__metric': 'euclidean', 'kNN__n_neighbors': 10, 'kNN__weights': 'distance', 'selector__threshold': 0}\n"
     ]
    }
   ],
   "source": [
    "print (estimator.best_estimator_)\n",
    "print (estimator.best_params_)"
   ]
  },
  {
   "cell_type": "markdown",
   "metadata": {
    "colab_type": "text",
    "id": "2r0zpqdQMZQa"
   },
   "source": [
    "### Progressive grid search\n",
    "\n",
    "- Στο πεδίο ορισμού των παραμέτρων, ξεκινάμε με μεγάλα διαστήματα και σχετικά λίγα βήματα. Αν διαπιστώσουμε ότι υπαρχει μια περιοχή τιμών κάποιας παραμέτρου που δίνει καλη απόδοση μπορούμε να μικρύνουμε το διάστημα του grid search γύρω της και να βάλουμε περισσότερα βήματα."
   ]
  },
  {
   "cell_type": "code",
   "execution_count": null,
   "metadata": {
    "colab": {},
    "colab_type": "code",
    "id": "G6BzmGFRMCJ1"
   },
   "outputs": [],
   "source": [
    "# αρχικοποιούμε τους εκτιμητές (μετασχηματιστές και ταξινομητή) χωρίς παραμέτρους\n",
    "selector =VarianceThreshold()\n",
    "#pca = PCA()\n",
    "clf = KNeighborsClassifier(n_jobs=-1) # η παράμετρος n_jobs = -1 χρησιμοποιεί όλους τους πυρήνες του υπολογιστή\n",
    "\n",
    "vthreshold = [0]\n",
    "#n_components = [30, 50, 70, 100]\n",
    "k = [8,9,10,11,12]\n",
    "## 'uniform': All points in each neighborhood are weighted equally\n",
    "## 'distance': Closer neighbors of a query point will have a greater influence than neighbors which are further away.\n",
    "weights_options = ['distance']\n",
    "metric_options = ['euclidean'] #default minkowski\n"
   ]
  },
  {
   "cell_type": "code",
   "execution_count": null,
   "metadata": {
    "colab": {},
    "colab_type": "code",
    "id": "nPVrr1QbMix8"
   },
   "outputs": [],
   "source": [
    "pipe = Pipeline(steps=[('selector', selector), ('kNN', clf)], memory = 'tmp')"
   ]
  },
  {
   "cell_type": "code",
   "execution_count": null,
   "metadata": {
    "colab": {},
    "colab_type": "code",
    "id": "0bBJx9S-Mqjb"
   },
   "outputs": [],
   "source": [
    "# We will use 5 fold validation\n",
    "estimator = GridSearchCV(pipe, dict(selector__threshold=vthreshold, kNN__n_neighbors=k,kNN__weights=weights_options, kNN__metric=metric_options), cv=5, scoring='f1_micro', n_jobs=-1)"
   ]
  },
  {
   "cell_type": "code",
   "execution_count": null,
   "metadata": {
    "colab": {
     "base_uri": "https://localhost:8080/",
     "height": 306
    },
    "colab_type": "code",
    "id": "Ir9cZNUuMuer",
    "outputId": "a5b90fe0-d1d1-4325-aba5-ec3efce78964"
   },
   "outputs": [
    {
     "name": "stdout",
     "output_type": "stream",
     "text": [
      "Fit done in: 0.2207120895385742 minutes\n",
      "              precision    recall  f1-score   support\n",
      "\n",
      "           1       0.87      0.96      0.91        48\n",
      "           2       0.90      0.87      0.88        30\n",
      "           3       0.85      0.81      0.83        36\n",
      "           4       0.90      0.70      0.79        37\n",
      "           5       1.00      1.00      1.00        38\n",
      "           6       0.92      0.75      0.83        32\n",
      "           7       0.79      0.93      0.86        29\n",
      "           8       0.96      0.96      0.96        47\n",
      "           9       0.71      0.89      0.79        27\n",
      "\n",
      "   micro avg       0.88      0.88      0.88       324\n",
      "   macro avg       0.88      0.87      0.87       324\n",
      "weighted avg       0.89      0.88      0.88       324\n",
      "\n"
     ]
    }
   ],
   "source": [
    "start_time = time.time()\n",
    "estimator.fit(train, train_labels)\n",
    "total_time = (time.time() - start_time)\n",
    "print(\"Fit done in:\",total_time/60,\"minutes\")\n",
    "preds = estimator.predict(test)\n",
    "print (classification_report(test_labels, preds))"
   ]
  },
  {
   "cell_type": "code",
   "execution_count": null,
   "metadata": {
    "colab": {
     "base_uri": "https://localhost:8080/",
     "height": 102
    },
    "colab_type": "code",
    "id": "w9JMqq3yMx9c",
    "outputId": "c9b4d234-6fc1-463f-c8e2-a904f4cc1199"
   },
   "outputs": [
    {
     "name": "stdout",
     "output_type": "stream",
     "text": [
      "Pipeline(memory='tmp',\n",
      "     steps=[('selector', VarianceThreshold(threshold=0)), ('kNN', KNeighborsClassifier(algorithm='auto', leaf_size=30, metric='euclidean',\n",
      "           metric_params=None, n_jobs=-1, n_neighbors=10, p=2,\n",
      "           weights='distance'))])\n",
      "{'kNN__metric': 'euclidean', 'kNN__n_neighbors': 10, 'kNN__weights': 'distance', 'selector__threshold': 0}\n"
     ]
    }
   ],
   "source": [
    "print (estimator.best_estimator_)\n",
    "print (estimator.best_params_)"
   ]
  },
  {
   "cell_type": "markdown",
   "metadata": {
    "colab_type": "text",
    "id": "iADZgfd6NRsz"
   },
   "source": [
    "### We now check if PCA could improve our score"
   ]
  },
  {
   "cell_type": "code",
   "execution_count": null,
   "metadata": {
    "colab": {},
    "colab_type": "code",
    "id": "ARZo7tsyNOFI"
   },
   "outputs": [],
   "source": [
    "# αρχικοποιούμε τους εκτιμητές (μετασχηματιστές και ταξινομητή) χωρίς παραμέτρους\n",
    "selector =VarianceThreshold()\n",
    "pca = PCA()\n",
    "clf = KNeighborsClassifier(n_jobs=-1) # η παράμετρος n_jobs = -1 χρησιμοποιεί όλους τους πυρήνες του υπολογιστή\n",
    "\n",
    "vthreshold = [0]\n",
    "n_components = [100, 200, 260, 265, 270, 275, 279]\n",
    "k = [10]\n",
    "## 'uniform': All points in each neighborhood are weighted equally\n",
    "## 'distance': Closer neighbors of a query point will have a greater influence than neighbors which are further away.\n",
    "weights_options = ['distance']\n",
    "metric_options = ['euclidean'] #default minkowski"
   ]
  },
  {
   "cell_type": "code",
   "execution_count": null,
   "metadata": {
    "colab": {},
    "colab_type": "code",
    "id": "H4_BVgTiNmlK"
   },
   "outputs": [],
   "source": [
    "pipe = Pipeline(steps=[('selector', selector),('pca',pca), ('kNN', clf)], memory = 'tmp')"
   ]
  },
  {
   "cell_type": "code",
   "execution_count": null,
   "metadata": {
    "colab": {},
    "colab_type": "code",
    "id": "6aF4uIO8NndY"
   },
   "outputs": [],
   "source": [
    "# We will use 5 fold validation\n",
    "estimator = GridSearchCV(pipe, dict(selector__threshold=vthreshold, kNN__n_neighbors=k, pca__n_components=n_components, kNN__weights=weights_options, kNN__metric=metric_options), cv=5, scoring='f1_micro', n_jobs=-1, verbose=10)"
   ]
  },
  {
   "cell_type": "code",
   "execution_count": null,
   "metadata": {
    "colab": {
     "base_uri": "https://localhost:8080/",
     "height": 513
    },
    "colab_type": "code",
    "id": "Sj_e6HT8Nt26",
    "outputId": "bc8661f1-d278-4673-bcc8-e6d6d5e431af"
   },
   "outputs": [
    {
     "name": "stdout",
     "output_type": "stream",
     "text": [
      "Fitting 5 folds for each of 7 candidates, totalling 35 fits\n"
     ]
    },
    {
     "name": "stderr",
     "output_type": "stream",
     "text": [
      "[Parallel(n_jobs=-1)]: Using backend LokyBackend with 2 concurrent workers.\n",
      "[Parallel(n_jobs=-1)]: Done   1 tasks      | elapsed:    0.4s\n",
      "[Parallel(n_jobs=-1)]: Done   4 tasks      | elapsed:    0.7s\n",
      "[Parallel(n_jobs=-1)]: Done   9 tasks      | elapsed:    1.9s\n",
      "[Parallel(n_jobs=-1)]: Done  14 tasks      | elapsed:    3.2s\n",
      "[Parallel(n_jobs=-1)]: Done  21 tasks      | elapsed:    5.4s\n",
      "[Parallel(n_jobs=-1)]: Done  28 tasks      | elapsed:    7.4s\n",
      "[Parallel(n_jobs=-1)]: Done  35 out of  35 | elapsed:    9.6s finished\n",
      "/usr/local/lib/python3.6/dist-packages/sklearn/model_selection/_search.py:841: DeprecationWarning: The default of the `iid` parameter will change from True to False in version 0.22 and will be removed in 0.24. This will change numeric results when test-set sizes are unequal.\n",
      "  DeprecationWarning)\n"
     ]
    },
    {
     "name": "stdout",
     "output_type": "stream",
     "text": [
      "Fit done in: 0.17122799555460613 minutes\n",
      "              precision    recall  f1-score   support\n",
      "\n",
      "           1       0.96      0.92      0.94        48\n",
      "           2       0.97      0.93      0.95        30\n",
      "           3       0.86      0.83      0.85        36\n",
      "           4       0.90      0.70      0.79        37\n",
      "           5       1.00      0.97      0.99        38\n",
      "           6       0.96      0.78      0.86        32\n",
      "           7       0.82      0.93      0.87        29\n",
      "           8       0.96      0.91      0.93        47\n",
      "           9       0.57      0.93      0.70        27\n",
      "\n",
      "   micro avg       0.88      0.88      0.88       324\n",
      "   macro avg       0.89      0.88      0.88       324\n",
      "weighted avg       0.90      0.88      0.88       324\n",
      "\n"
     ]
    }
   ],
   "source": [
    "start_time = time.time()\n",
    "estimator.fit(train, train_labels)\n",
    "total_time = time.time() - start_time\n",
    "print(\"Fit done in:\",total_time/60,\"minutes\")\n",
    "preds = estimator.predict(test)\n",
    "print (classification_report(test_labels, preds))"
   ]
  },
  {
   "cell_type": "code",
   "execution_count": null,
   "metadata": {
    "colab": {
     "base_uri": "https://localhost:8080/",
     "height": 119
    },
    "colab_type": "code",
    "id": "rnkAiHcHNwZF",
    "outputId": "6b49bd5d-f72f-4d94-f48a-6426e611a94f"
   },
   "outputs": [
    {
     "name": "stdout",
     "output_type": "stream",
     "text": [
      "Pipeline(memory='tmp',\n",
      "     steps=[('selector', VarianceThreshold(threshold=0)), ('pca', PCA(copy=True, iterated_power='auto', n_components=279, random_state=None,\n",
      "  svd_solver='auto', tol=0.0, whiten=False)), ('kNN', KNeighborsClassifier(algorithm='auto', leaf_size=30, metric='euclidean',\n",
      "           metric_params=None, n_jobs=-1, n_neighbors=10, p=2,\n",
      "           weights='distance'))])\n",
      "{'kNN__metric': 'euclidean', 'kNN__n_neighbors': 10, 'kNN__weights': 'distance', 'pca__n_components': 279, 'selector__threshold': 0}\n"
     ]
    }
   ],
   "source": [
    "print (estimator.best_estimator_)\n",
    "print (estimator.best_params_)"
   ]
  },
  {
   "cell_type": "markdown",
   "metadata": {
    "colab_type": "text",
    "id": "emm-MK12PHxj"
   },
   "source": [
    "### More Progressive 2"
   ]
  },
  {
   "cell_type": "code",
   "execution_count": null,
   "metadata": {
    "colab": {},
    "colab_type": "code",
    "id": "KGEKtUAtPDgQ"
   },
   "outputs": [],
   "source": [
    "# αρχικοποιούμε τους εκτιμητές (μετασχηματιστές και ταξινομητή) χωρίς παραμέτρους\n",
    "selector =VarianceThreshold()\n",
    "pca = PCA()\n",
    "clf = KNeighborsClassifier(n_jobs=-1) # η παράμετρος n_jobs = -1 χρησιμοποιεί όλους τους πυρήνες του υπολογιστή\n",
    "\n",
    "vthreshold = [0]\n",
    "n_components = [450,460,470,480,490,500,520,550,570]\n",
    "k = [10]\n",
    "## 'uniform': All points in each neighborhood are weighted equally\n",
    "## 'distance': Closer neighbors of a query point will have a greater influence than neighbors which are further away.\n",
    "weights_options = ['distance']\n",
    "metric_options = ['euclidean'] #default minkowski"
   ]
  },
  {
   "cell_type": "code",
   "execution_count": null,
   "metadata": {
    "colab": {},
    "colab_type": "code",
    "id": "AwsjtDfuPPFL"
   },
   "outputs": [],
   "source": [
    "pipe = Pipeline(steps=[('selector', selector),('pca',pca), ('kNN', clf)], memory = 'tmp')"
   ]
  },
  {
   "cell_type": "code",
   "execution_count": null,
   "metadata": {
    "colab": {},
    "colab_type": "code",
    "id": "N_GT88elPRWq"
   },
   "outputs": [],
   "source": [
    "# We will use 5 fold validation\n",
    "estimator = GridSearchCV(pipe, dict(selector__threshold=vthreshold, kNN__n_neighbors=k, pca__n_components=n_components, kNN__weights=weights_options, kNN__metric=metric_options), cv=5, scoring='f1_micro', n_jobs=-1, verbose=10)"
   ]
  },
  {
   "cell_type": "code",
   "execution_count": null,
   "metadata": {
    "colab": {
     "base_uri": "https://localhost:8080/",
     "height": 530
    },
    "colab_type": "code",
    "id": "zAsKCwtYPT4N",
    "outputId": "8518162e-e34c-46ff-d6d7-02fcbc1a8702"
   },
   "outputs": [
    {
     "name": "stdout",
     "output_type": "stream",
     "text": [
      "Fitting 5 folds for each of 9 candidates, totalling 45 fits\n"
     ]
    },
    {
     "name": "stderr",
     "output_type": "stream",
     "text": [
      "[Parallel(n_jobs=-1)]: Using backend LokyBackend with 2 concurrent workers.\n",
      "[Parallel(n_jobs=-1)]: Done   1 tasks      | elapsed:    0.8s\n",
      "[Parallel(n_jobs=-1)]: Done   4 tasks      | elapsed:    1.6s\n",
      "[Parallel(n_jobs=-1)]: Done   9 tasks      | elapsed:    7.2s\n",
      "[Parallel(n_jobs=-1)]: Done  14 tasks      | elapsed:   14.2s\n",
      "[Parallel(n_jobs=-1)]: Done  21 tasks      | elapsed:   21.5s\n",
      "[Parallel(n_jobs=-1)]: Done  28 tasks      | elapsed:   26.1s\n",
      "[Parallel(n_jobs=-1)]: Done  37 tasks      | elapsed:   33.4s\n",
      "[Parallel(n_jobs=-1)]: Done  45 out of  45 | elapsed:   40.1s finished\n",
      "/usr/local/lib/python3.6/dist-packages/sklearn/model_selection/_search.py:841: DeprecationWarning: The default of the `iid` parameter will change from True to False in version 0.22 and will be removed in 0.24. This will change numeric results when test-set sizes are unequal.\n",
      "  DeprecationWarning)\n"
     ]
    },
    {
     "name": "stdout",
     "output_type": "stream",
     "text": [
      "Fit done in: 0.6864362041155497 minutes\n",
      "              precision    recall  f1-score   support\n",
      "\n",
      "           1       0.94      0.92      0.93        48\n",
      "           2       0.71      0.90      0.79        30\n",
      "           3       0.87      0.72      0.79        36\n",
      "           4       0.86      0.65      0.74        37\n",
      "           5       1.00      0.97      0.99        38\n",
      "           6       1.00      0.81      0.90        32\n",
      "           7       0.80      0.97      0.88        29\n",
      "           8       0.92      0.96      0.94        47\n",
      "           9       0.65      0.81      0.72        27\n",
      "\n",
      "   micro avg       0.86      0.86      0.86       324\n",
      "   macro avg       0.86      0.86      0.85       324\n",
      "weighted avg       0.87      0.86      0.86       324\n",
      "\n"
     ]
    }
   ],
   "source": [
    "start_time = time.time()\n",
    "estimator.fit(train, train_labels)\n",
    "print(\"Fit done in:\",(time.time() - start_time)/60,\"minutes\")\n",
    "preds = estimator.predict(test)\n",
    "print (classification_report(test_labels, preds))"
   ]
  },
  {
   "cell_type": "code",
   "execution_count": null,
   "metadata": {
    "colab": {
     "base_uri": "https://localhost:8080/",
     "height": 119
    },
    "colab_type": "code",
    "id": "Si45ebY5PVzN",
    "outputId": "d093e544-fb89-4eb8-df64-43be5c3e05e6"
   },
   "outputs": [
    {
     "name": "stdout",
     "output_type": "stream",
     "text": [
      "Pipeline(memory='tmp',\n",
      "     steps=[('selector', VarianceThreshold(threshold=0)), ('pca', PCA(copy=True, iterated_power='auto', n_components=490, random_state=None,\n",
      "  svd_solver='auto', tol=0.0, whiten=False)), ('kNN', KNeighborsClassifier(algorithm='auto', leaf_size=30, metric='euclidean',\n",
      "           metric_params=None, n_jobs=-1, n_neighbors=10, p=2,\n",
      "           weights='distance'))])\n",
      "{'kNN__metric': 'euclidean', 'kNN__n_neighbors': 10, 'kNN__weights': 'distance', 'pca__n_components': 490, 'selector__threshold': 0}\n"
     ]
    }
   ],
   "source": [
    "print (estimator.best_estimator_)\n",
    "print (estimator.best_params_)"
   ]
  },
  {
   "cell_type": "markdown",
   "metadata": {
    "colab_type": "text",
    "id": "QXVjuFSwcilD"
   },
   "source": [
    "###Results\n",
    "Here PCA helps us just a little more in increasing our score. "
   ]
  },
  {
   "cell_type": "markdown",
   "metadata": {
    "colab_type": "text",
    "id": "Clb_4qwMc8Bv"
   },
   "source": [
    "##Final kNN Classifier"
   ]
  },
  {
   "cell_type": "code",
   "execution_count": null,
   "metadata": {
    "colab": {},
    "colab_type": "code",
    "id": "xC4pegTudFsX"
   },
   "outputs": [],
   "source": [
    "# αρχικοποιούμε τους εκτιμητές (μετασχηματιστές και ταξινομητή) χωρίς παραμέτρους\n",
    "selector =VarianceThreshold()\n",
    "pca = PCA()\n",
    "clf = KNeighborsClassifier(n_jobs=-1) # η παράμετρος n_jobs = -1 χρησιμοποιεί όλους τους πυρήνες του υπολογιστή\n",
    "\n",
    "vthreshold = [0]\n",
    "n_components = [279]\n",
    "k = [10]\n",
    "## 'uniform': All points in each neighborhood are weighted equally\n",
    "## 'distance': Closer neighbors of a query point will have a greater influence than neighbors which are further away.\n",
    "weights_options = ['distance']\n",
    "metric_options = ['euclidean'] #default minkowski"
   ]
  },
  {
   "cell_type": "code",
   "execution_count": null,
   "metadata": {
    "colab": {},
    "colab_type": "code",
    "id": "lZ3vc_9wdWg6"
   },
   "outputs": [],
   "source": [
    "pipe = Pipeline(steps=[('selector', selector),('pca',pca),('kNN', clf)], memory = 'tmp')"
   ]
  },
  {
   "cell_type": "code",
   "execution_count": null,
   "metadata": {
    "colab": {},
    "colab_type": "code",
    "id": "1HMxfz-Idc-f"
   },
   "outputs": [],
   "source": [
    "# We will use 5 fold validation\n",
    "estimator = GridSearchCV(pipe, dict(selector__threshold=vthreshold, kNN__n_neighbors=k,kNN__weights=weights_options, kNN__metric=metric_options, pca__n_components=n_components), cv=5, scoring='f1_micro', n_jobs=-1)"
   ]
  },
  {
   "cell_type": "code",
   "execution_count": null,
   "metadata": {
    "colab": {
     "base_uri": "https://localhost:8080/",
     "height": 360
    },
    "colab_type": "code",
    "id": "4vDsYUvKdhM9",
    "outputId": "848c58fd-4585-482d-f952-7e7e2c3c7add"
   },
   "outputs": [
    {
     "name": "stderr",
     "output_type": "stream",
     "text": [
      "/usr/local/lib/python3.6/dist-packages/sklearn/model_selection/_search.py:841: DeprecationWarning: The default of the `iid` parameter will change from True to False in version 0.22 and will be removed in 0.24. This will change numeric results when test-set sizes are unequal.\n",
      "  DeprecationWarning)\n"
     ]
    },
    {
     "name": "stdout",
     "output_type": "stream",
     "text": [
      "Fit done in: 0.024713317553202312 minutes\n",
      "              precision    recall  f1-score   support\n",
      "\n",
      "           1       0.96      0.92      0.94        48\n",
      "           2       0.97      0.93      0.95        30\n",
      "           3       0.86      0.83      0.85        36\n",
      "           4       0.90      0.70      0.79        37\n",
      "           5       1.00      0.97      0.99        38\n",
      "           6       0.96      0.78      0.86        32\n",
      "           7       0.82      0.93      0.87        29\n",
      "           8       0.96      0.91      0.93        47\n",
      "           9       0.57      0.93      0.70        27\n",
      "\n",
      "   micro avg       0.88      0.88      0.88       324\n",
      "   macro avg       0.89      0.88      0.88       324\n",
      "weighted avg       0.90      0.88      0.88       324\n",
      "\n"
     ]
    }
   ],
   "source": [
    "start_time = time.time()\n",
    "estimator.fit(train, train_labels)\n",
    "total_time = (time.time() - start_time)\n",
    "\n",
    "train_time_optimized['kNN'] = total_time\n",
    "\n",
    "print(\"Fit done in:\",(time.time() - start_time)/60,\"minutes\")\n",
    "\n",
    "start_time = time.time()\n",
    "preds = estimator.predict(test)\n",
    "total_time = (time.time() - start_time)\n",
    "\n",
    "predict_time_optimized['kNN'] = total_time\n",
    "\n",
    "print (classification_report(test_labels, preds))"
   ]
  },
  {
   "cell_type": "code",
   "execution_count": null,
   "metadata": {
    "colab": {
     "base_uri": "https://localhost:8080/",
     "height": 85
    },
    "colab_type": "code",
    "id": "HVOI7UxQeBEf",
    "outputId": "2067127c-6064-4198-a5f6-d755f28120c1"
   },
   "outputs": [
    {
     "name": "stdout",
     "output_type": "stream",
     "text": [
      "{'Dummy': 0.10209728647571724, 'GaussianNB': 0.8757800246079528, 'kNN': 0.8197525187183499}\n",
      "{'Dummy': 0.10209728647571724, 'GaussianNB': 0.8757800246079528, 'kNN': 0.875220366720062}\n",
      "{'Dummy': 0.10185185185185185, 'GaussianNB': 0.8827160493827161, 'kNN': 0.8364197530864198}\n",
      "{'Dummy': 0.10185185185185185, 'GaussianNB': 0.8827160493827161, 'kNN': 0.8796296296296297}\n"
     ]
    }
   ],
   "source": [
    "report_dict = classification_report(test_labels, preds, output_dict = True)\n",
    "f1_macro_optimized['kNN'] = report_dict['macro avg']['f1-score']\n",
    "f1_micro_optimized['kNN'] = report_dict['micro avg']['f1-score']\n",
    "\n",
    "print(f1_macro_default)\n",
    "print(f1_macro_optimized)\n",
    "print(f1_micro_default)\n",
    "print(f1_micro_optimized)"
   ]
  },
  {
   "cell_type": "code",
   "execution_count": null,
   "metadata": {
    "colab": {
     "base_uri": "https://localhost:8080/",
     "height": 85
    },
    "colab_type": "code",
    "id": "tTMnDtKLeLEg",
    "outputId": "59d2a036-992b-41ba-e804-ec7b8f8b61bf"
   },
   "outputs": [
    {
     "name": "stdout",
     "output_type": "stream",
     "text": [
      "{'Dummy': 0.002794981002807617, 'GaussianNB': 0.027896642684936523, 'kNN': 0.01602029800415039}\n",
      "{'Dummy': 0.002794981002807617, 'GaussianNB': 0.02132248878479004, 'kNN': 0.4556434154510498}\n",
      "{'Dummy': 0.002794981002807617, 'GaussianNB': 0.30923914909362793, 'kNN': 1.4826996326446533}\n",
      "{'Dummy': 0.002794981002807617, 'GaussianNB': 0.015270471572875977, 'kNN': 0.21165895462036133}\n"
     ]
    }
   ],
   "source": [
    "print(train_time_default)\n",
    "print(predict_time_default)\n",
    "print(train_time_optimized)\n",
    "print(predict_time_optimized)"
   ]
  },
  {
   "cell_type": "markdown",
   "metadata": {
    "colab_type": "text",
    "id": "Db0pjvuaD0Zz"
   },
   "source": [
    "#MLPClassifier"
   ]
  },
  {
   "cell_type": "markdown",
   "metadata": {
    "colab_type": "text",
    "id": "V63M3-B-h3Z7"
   },
   "source": [
    "##Default without Data Processing"
   ]
  },
  {
   "cell_type": "code",
   "execution_count": null,
   "metadata": {
    "colab": {
     "base_uri": "https://localhost:8080/",
     "height": 306
    },
    "colab_type": "code",
    "id": "rWOmCym_jdgo",
    "outputId": "756e0045-7360-47a8-f239-4c8773332fb4"
   },
   "outputs": [
    {
     "name": "stdout",
     "output_type": "stream",
     "text": [
      "Fit done in: 5.070923566818237 seconds\n",
      "              precision    recall  f1-score   support\n",
      "\n",
      "           1       0.98      0.96      0.97        48\n",
      "           2       1.00      0.97      0.98        30\n",
      "           3       0.97      0.89      0.93        36\n",
      "           4       0.83      0.95      0.89        37\n",
      "           5       1.00      1.00      1.00        38\n",
      "           6       0.94      0.94      0.94        32\n",
      "           7       1.00      1.00      1.00        29\n",
      "           8       1.00      0.98      0.99        47\n",
      "           9       0.86      0.89      0.87        27\n",
      "\n",
      "   micro avg       0.95      0.95      0.95       324\n",
      "   macro avg       0.95      0.95      0.95       324\n",
      "weighted avg       0.96      0.95      0.95       324\n",
      "\n"
     ]
    }
   ],
   "source": [
    "#default parameters\n",
    "\n",
    "from sklearn.neural_network import MLPClassifier\n",
    "from sklearn.metrics import classification_report\n",
    "\n",
    "clf = MLPClassifier()\n",
    "\n",
    "start_time = time.time()\n",
    "clf.fit(train, train_labels)\n",
    "total_time = (time.time() - start_time)\n",
    "\n",
    "train_time_default['MLPClassifier'] = total_time\n",
    "print(\"Fit done in:\",total_time,\"seconds\")\n",
    "\n",
    "start_time = time.time()\n",
    "preds = clf.predict(test)\n",
    "total_time = (time.time() - start_time)\n",
    "\n",
    "predict_time_default['MLPClassifier'] = total_time\n",
    "\n",
    "print (classification_report(test_labels, preds))"
   ]
  },
  {
   "cell_type": "code",
   "execution_count": null,
   "metadata": {
    "colab": {
     "base_uri": "https://localhost:8080/",
     "height": 51
    },
    "colab_type": "code",
    "id": "v3bDvyqQe0rR",
    "outputId": "ddf8f1f7-1dc9-41e7-a903-9094f2173eba"
   },
   "outputs": [
    {
     "name": "stdout",
     "output_type": "stream",
     "text": [
      "{'Dummy': 0.10209728647571724, 'GaussianNB': 0.8757800246079528, 'kNN': 0.8197525187183499, 'MLPClassifier': 0.9516176295439536}\n",
      "{'Dummy': 0.10185185185185185, 'GaussianNB': 0.8827160493827161, 'kNN': 0.8364197530864198, 'MLPClassifier': 0.9537037037037037}\n"
     ]
    }
   ],
   "source": [
    "report_dict = classification_report(test_labels, preds, output_dict = True)\n",
    "f1_macro_default['MLPClassifier'] = report_dict['macro avg']['f1-score']\n",
    "f1_micro_default['MLPClassifier'] = report_dict['micro avg']['f1-score']\n",
    "\n",
    "print(f1_macro_default)\n",
    "print(f1_micro_default)"
   ]
  },
  {
   "cell_type": "markdown",
   "metadata": {
    "colab_type": "text",
    "id": "m30lEIEoYEbE"
   },
   "source": [
    "## Optimize MLPClassifier\n",
    "At first we will not use the Variance Thesfold."
   ]
  },
  {
   "cell_type": "code",
   "execution_count": null,
   "metadata": {
    "colab": {},
    "colab_type": "code",
    "id": "9jDqquTOSG3W"
   },
   "outputs": [],
   "source": [
    "## Parameters to optimize\n",
    "parameter_space = {\n",
    "  #'hidden_layer_sizes': [(5,) , (15,) , (20,) , (50,) , (100,)], # tuple default (100,).The ith element represents the number of neurons in the ith hidden layer.\n",
    "  'activation': ['identity', 'logistic', 'tanh', 'relu'], # default ‘relu’\n",
    "  'solver': ['lbfgs','sgd','adam'], # default ‘adam’\n",
    "  #'learning_rate': ['constant','invscaling','adaptive'] # Only used when solver='sgd'.\n",
    "  #'max_iter': [100,150,200,250],\n",
    "  #'alpha': [0.0001, 0.002, 0.05] \n",
    "}"
   ]
  },
  {
   "cell_type": "markdown",
   "metadata": {
    "colab_type": "text",
    "id": "2MWAbJZGfpgR"
   },
   "source": [
    "Because the parameters to be optimized are too many and if we use them all in our GridSearch our Training will take too long, we will use at first only some combinations of them. Fow example, we know that the learning rate is used only when the solver is the sgd, so we will use it later in a next GridSearch. We also know that max_iter is mostly needed for the adam and lbfgs beacause they need more iterations to converge. \n",
    "\n",
    "We will first, try to see whch solver with which activation gives us the best result."
   ]
  },
  {
   "cell_type": "code",
   "execution_count": null,
   "metadata": {
    "colab": {},
    "colab_type": "code",
    "id": "XI9aF243b2lZ"
   },
   "outputs": [],
   "source": [
    "from sklearn.model_selection import GridSearchCV\n",
    "from sklearn.neural_network import MLPClassifier\n",
    "mlp = MLPClassifier()\n",
    "\n",
    "clf = GridSearchCV(mlp, parameter_space, n_jobs=-1, cv=5, scoring='f1_micro', verbose=10)\n"
   ]
  },
  {
   "cell_type": "code",
   "execution_count": null,
   "metadata": {
    "colab": {
     "base_uri": "https://localhost:8080/",
     "height": 564
    },
    "colab_type": "code",
    "id": "GbjwHlalcIhq",
    "outputId": "212f3658-c98a-4b1d-9cbd-614932d7e5cc"
   },
   "outputs": [
    {
     "name": "stdout",
     "output_type": "stream",
     "text": [
      "Fitting 5 folds for each of 12 candidates, totalling 60 fits\n"
     ]
    },
    {
     "name": "stderr",
     "output_type": "stream",
     "text": [
      "[Parallel(n_jobs=-1)]: Using backend LokyBackend with 2 concurrent workers.\n",
      "[Parallel(n_jobs=-1)]: Done   1 tasks      | elapsed:    1.0s\n",
      "[Parallel(n_jobs=-1)]: Done   4 tasks      | elapsed:    1.9s\n",
      "[Parallel(n_jobs=-1)]: Done   9 tasks      | elapsed:   24.8s\n",
      "[Parallel(n_jobs=-1)]: Done  14 tasks      | elapsed:   59.1s\n",
      "[Parallel(n_jobs=-1)]: Done  21 tasks      | elapsed:  1.1min\n",
      "[Parallel(n_jobs=-1)]: Done  28 tasks      | elapsed:  1.8min\n",
      "[Parallel(n_jobs=-1)]: Done  37 tasks      | elapsed:  2.2min\n",
      "[Parallel(n_jobs=-1)]: Done  46 tasks      | elapsed:  3.0min\n",
      "[Parallel(n_jobs=-1)]: Done  57 tasks      | elapsed:  3.9min\n",
      "[Parallel(n_jobs=-1)]: Done  60 out of  60 | elapsed:  4.1min finished\n",
      "/usr/local/lib/python3.6/dist-packages/sklearn/model_selection/_search.py:841: DeprecationWarning: The default of the `iid` parameter will change from True to False in version 0.22 and will be removed in 0.24. This will change numeric results when test-set sizes are unequal.\n",
      "  DeprecationWarning)\n"
     ]
    },
    {
     "name": "stdout",
     "output_type": "stream",
     "text": [
      "Fit done in: 4.166160221894582 minutes\n",
      "              precision    recall  f1-score   support\n",
      "\n",
      "           1       0.98      0.96      0.97        48\n",
      "           2       1.00      0.97      0.98        30\n",
      "           3       0.97      0.86      0.91        36\n",
      "           4       0.81      0.95      0.88        37\n",
      "           5       1.00      1.00      1.00        38\n",
      "           6       0.94      0.94      0.94        32\n",
      "           7       1.00      1.00      1.00        29\n",
      "           8       1.00      0.98      0.99        47\n",
      "           9       0.86      0.89      0.87        27\n",
      "\n",
      "   micro avg       0.95      0.95      0.95       324\n",
      "   macro avg       0.95      0.95      0.95       324\n",
      "weighted avg       0.95      0.95      0.95       324\n",
      "\n"
     ]
    }
   ],
   "source": [
    "start_time = time.time()\n",
    "clf.fit(train, train_labels)\n",
    "print(\"Fit done in:\",(time.time() - start_time)/60,\"minutes\")\n",
    "preds = clf.predict(test)\n",
    "print (classification_report(test_labels, preds))"
   ]
  },
  {
   "cell_type": "code",
   "execution_count": null,
   "metadata": {
    "colab": {
     "base_uri": "https://localhost:8080/",
     "height": 34
    },
    "colab_type": "code",
    "id": "OmlLjlLhcZUa",
    "outputId": "741219c6-56df-492c-80e4-bb4aa6abb6fb"
   },
   "outputs": [
    {
     "name": "stdout",
     "output_type": "stream",
     "text": [
      "{'activation': 'relu', 'solver': 'adam'}\n"
     ]
    }
   ],
   "source": [
    "#print (estimator.best_estimator_)\n",
    "print (clf.best_params_)"
   ]
  },
  {
   "cell_type": "markdown",
   "metadata": {
    "colab_type": "text",
    "id": "uPBB1gx_m5ip"
   },
   "source": [
    "It's important to mention that the optimal parameters choosen were also the default ones. Since that didn 't take much time, we will check again if we can get any better results by using the Variance Theshold."
   ]
  },
  {
   "cell_type": "code",
   "execution_count": null,
   "metadata": {
    "colab": {},
    "colab_type": "code",
    "id": "OL0bBarQnRgp"
   },
   "outputs": [],
   "source": [
    "# αρχικοποιούμε τους εκτιμητές (μετασχηματιστές και ταξινομητή) χωρίς παραμέτρους\n",
    "selector =VarianceThreshold()\n",
    "#pca = PCA()\n",
    "clf = MLPClassifier()\n",
    "\n",
    "param_grid = {\n",
    "    'selector__threshold': [0,0.001, 0.002],\n",
    "    'mlpclassifier__activation': ['relu'],\n",
    "    'mlpclassifier__solver': ['adam']\n",
    "}"
   ]
  },
  {
   "cell_type": "code",
   "execution_count": null,
   "metadata": {
    "colab": {},
    "colab_type": "code",
    "id": "uOILxQ44nVXl"
   },
   "outputs": [],
   "source": [
    "pipe = Pipeline(steps=[('selector', selector), ('mlpclassifier', clf)], memory = 'tmp')"
   ]
  },
  {
   "cell_type": "code",
   "execution_count": null,
   "metadata": {
    "colab": {},
    "colab_type": "code",
    "id": "910r2TQ9olav"
   },
   "outputs": [],
   "source": [
    "# We will use 5 fold validation\n",
    "estimator = GridSearchCV(pipe, param_grid=param_grid, cv=5, scoring='f1_micro', n_jobs=-1, verbose=10)"
   ]
  },
  {
   "cell_type": "code",
   "execution_count": null,
   "metadata": {
    "colab": {
     "base_uri": "https://localhost:8080/",
     "height": 408
    },
    "colab_type": "code",
    "id": "MxsIDncMpJb4",
    "outputId": "e855677b-8426-497e-a108-813ab713b39d"
   },
   "outputs": [
    {
     "name": "stdout",
     "output_type": "stream",
     "text": [
      "Fitting 5 folds for each of 3 candidates, totalling 15 fits\n"
     ]
    },
    {
     "name": "stderr",
     "output_type": "stream",
     "text": [
      "[Parallel(n_jobs=-1)]: Using backend LokyBackend with 2 concurrent workers.\n",
      "[Parallel(n_jobs=-1)]: Done   1 tasks      | elapsed:    7.9s\n",
      "[Parallel(n_jobs=-1)]: Done   4 tasks      | elapsed:   21.0s\n",
      "[Parallel(n_jobs=-1)]: Done   9 tasks      | elapsed:   50.7s\n",
      "[Parallel(n_jobs=-1)]: Done  15 out of  15 | elapsed:  1.1min finished\n"
     ]
    },
    {
     "name": "stdout",
     "output_type": "stream",
     "text": [
      "Fit done in: 1.2216644843419393 minutes\n",
      "              precision    recall  f1-score   support\n",
      "\n",
      "           1       1.00      0.96      0.98        48\n",
      "           2       1.00      1.00      1.00        30\n",
      "           3       0.97      0.89      0.93        36\n",
      "           4       0.83      0.95      0.89        37\n",
      "           5       1.00      1.00      1.00        38\n",
      "           6       0.94      0.94      0.94        32\n",
      "           7       1.00      1.00      1.00        29\n",
      "           8       1.00      0.98      0.99        47\n",
      "           9       0.86      0.89      0.87        27\n",
      "\n",
      "   micro avg       0.96      0.96      0.96       324\n",
      "   macro avg       0.96      0.96      0.95       324\n",
      "weighted avg       0.96      0.96      0.96       324\n",
      "\n"
     ]
    }
   ],
   "source": [
    "start_time = time.time()\n",
    "estimator.fit(train, train_labels)\n",
    "print(\"Fit done in:\",(time.time() - start_time)/60,\"minutes\")\n",
    "preds = estimator.predict(test)\n",
    "print (classification_report(test_labels, preds))"
   ]
  },
  {
   "cell_type": "code",
   "execution_count": null,
   "metadata": {
    "colab": {
     "base_uri": "https://localhost:8080/",
     "height": 136
    },
    "colab_type": "code",
    "id": "apS8p6MdpTgv",
    "outputId": "8654a5fa-9628-4bca-9558-da0568e147fe"
   },
   "outputs": [
    {
     "name": "stdout",
     "output_type": "stream",
     "text": [
      "Pipeline(memory='tmp',\n",
      "     steps=[('selector', VarianceThreshold(threshold=0.001)), ('mlpclassifier', MLPClassifier(activation='relu', alpha=0.0001, batch_size='auto', beta_1=0.9,\n",
      "       beta_2=0.999, early_stopping=False, epsilon=1e-08,\n",
      "       hidden_layer_sizes=(100,), learning_rate='constant',\n",
      "       learning_rate_init=0.0...=True, solver='adam', tol=0.0001,\n",
      "       validation_fraction=0.1, verbose=False, warm_start=False))])\n",
      "{'mlpclassifier__activation': 'relu', 'mlpclassifier__solver': 'adam', 'selector__threshold': 0.001}\n"
     ]
    }
   ],
   "source": [
    "print (estimator.best_estimator_)\n",
    "print (estimator.best_params_)"
   ]
  },
  {
   "cell_type": "markdown",
   "metadata": {
    "colab_type": "text",
    "id": "ivcmC_O49522"
   },
   "source": [
    "##Optimizing Adam\n",
    "We will try now to optimize adam solver, by creating a GridSearch for the other parameters. For example, we will increase the hidden neurons in the first layer. Moreover, we will not change max_iter since we don't reach the default 200 for now."
   ]
  },
  {
   "cell_type": "code",
   "execution_count": null,
   "metadata": {
    "colab": {},
    "colab_type": "code",
    "id": "hc9rgl_75rII"
   },
   "outputs": [],
   "source": [
    "# αρχικοποιούμε τους εκτιμητές (μετασχηματιστές και ταξινομητή) χωρίς παραμέτρους\n",
    "selector =VarianceThreshold()\n",
    "#pca = PCA()\n",
    "clf = MLPClassifier()\n",
    "\n",
    "param_grid = {\n",
    "    'selector__threshold': [0.001],\n",
    "    'mlpclassifier__activation': ['relu'],\n",
    "    'mlpclassifier__solver': ['adam'],\n",
    "    'mlpclassifier__hidden_layer_sizes': [(100,),(150,),(200,)]\n",
    "    #'mlpclassifier__max_iter': [200,250,300]\n",
    "}"
   ]
  },
  {
   "cell_type": "code",
   "execution_count": null,
   "metadata": {
    "colab": {},
    "colab_type": "code",
    "id": "ekaPfghv_G9M"
   },
   "outputs": [],
   "source": [
    "pipe = Pipeline(steps=[('selector', selector), ('mlpclassifier', clf)], memory = 'tmp')"
   ]
  },
  {
   "cell_type": "code",
   "execution_count": null,
   "metadata": {
    "colab": {},
    "colab_type": "code",
    "id": "RBwOJwDN--vj"
   },
   "outputs": [],
   "source": [
    "# We will use 5 fold validation\n",
    "estimator = GridSearchCV(pipe, param_grid=param_grid, cv=5, scoring='f1_micro', n_jobs=-1, verbose=10)"
   ]
  },
  {
   "cell_type": "code",
   "execution_count": null,
   "metadata": {
    "colab": {
     "base_uri": "https://localhost:8080/",
     "height": 408
    },
    "colab_type": "code",
    "id": "NGA1-Cc1_Mwl",
    "outputId": "22d4f296-47aa-454b-c91b-8e930ce6488c"
   },
   "outputs": [
    {
     "name": "stdout",
     "output_type": "stream",
     "text": [
      "Fitting 5 folds for each of 3 candidates, totalling 15 fits\n"
     ]
    },
    {
     "name": "stderr",
     "output_type": "stream",
     "text": [
      "[Parallel(n_jobs=-1)]: Using backend LokyBackend with 2 concurrent workers.\n",
      "[Parallel(n_jobs=-1)]: Done   1 tasks      | elapsed:    7.5s\n",
      "[Parallel(n_jobs=-1)]: Done   4 tasks      | elapsed:   20.7s\n",
      "[Parallel(n_jobs=-1)]: Done   9 tasks      | elapsed:   55.9s\n",
      "[Parallel(n_jobs=-1)]: Done  15 out of  15 | elapsed:  1.5min finished\n"
     ]
    },
    {
     "name": "stdout",
     "output_type": "stream",
     "text": [
      "Fit done in: 1.60238885084788 minutes\n",
      "              precision    recall  f1-score   support\n",
      "\n",
      "           1       0.98      0.96      0.97        48\n",
      "           2       1.00      0.97      0.98        30\n",
      "           3       0.97      0.89      0.93        36\n",
      "           4       0.83      0.95      0.89        37\n",
      "           5       1.00      1.00      1.00        38\n",
      "           6       0.94      0.94      0.94        32\n",
      "           7       1.00      1.00      1.00        29\n",
      "           8       1.00      0.98      0.99        47\n",
      "           9       0.86      0.89      0.87        27\n",
      "\n",
      "   micro avg       0.95      0.95      0.95       324\n",
      "   macro avg       0.95      0.95      0.95       324\n",
      "weighted avg       0.96      0.95      0.95       324\n",
      "\n"
     ]
    }
   ],
   "source": [
    "start_time = time.time()\n",
    "estimator.fit(train, train_labels)\n",
    "print(\"Fit done in:\",(time.time() - start_time)/60,\"minutes\")\n",
    "preds = estimator.predict(test)\n",
    "print (classification_report(test_labels, preds))"
   ]
  },
  {
   "cell_type": "code",
   "execution_count": null,
   "metadata": {
    "colab": {
     "base_uri": "https://localhost:8080/",
     "height": 136
    },
    "colab_type": "code",
    "id": "jdRZgFlv_RGU",
    "outputId": "6244de7c-b619-400f-93f7-9fa3ac359841"
   },
   "outputs": [
    {
     "name": "stdout",
     "output_type": "stream",
     "text": [
      "Pipeline(memory='tmp',\n",
      "     steps=[('selector', VarianceThreshold(threshold=0.001)), ('mlpclassifier', MLPClassifier(activation='relu', alpha=0.0001, batch_size='auto', beta_1=0.9,\n",
      "       beta_2=0.999, early_stopping=False, epsilon=1e-08,\n",
      "       hidden_layer_sizes=(200,), learning_rate='constant',\n",
      "       learning_rate_init=0.0...=True, solver='adam', tol=0.0001,\n",
      "       validation_fraction=0.1, verbose=False, warm_start=False))])\n",
      "{'mlpclassifier__activation': 'relu', 'mlpclassifier__hidden_layer_sizes': (200,), 'mlpclassifier__solver': 'adam', 'selector__threshold': 0.001}\n"
     ]
    }
   ],
   "source": [
    "print (estimator.best_estimator_)\n",
    "print (estimator.best_params_)"
   ]
  },
  {
   "cell_type": "markdown",
   "metadata": {
    "colab_type": "text",
    "id": "BDiV68F-o-BO"
   },
   "source": [
    "Furhermore, we can read [here](https://machinelearningmastery.com/adam-optimization-algorithm-for-deep-learning/) some more information about adam and how to optimize the solver. For example we read about alpha that: The proportion that weights are updated (e.g. 0.001). Larger values (e.g. 0.3) results in faster initial learning before the rate is updated. Smaller values (e.g. 1.0E-5) slow learning right down during training"
   ]
  },
  {
   "cell_type": "code",
   "execution_count": null,
   "metadata": {
    "colab": {},
    "colab_type": "code",
    "id": "d7yDOI1GA95v"
   },
   "outputs": [],
   "source": [
    "# αρχικοποιούμε τους εκτιμητές (μετασχηματιστές και ταξινομητή) χωρίς παραμέτρους\n",
    "selector =VarianceThreshold()\n",
    "#pca = PCA()\n",
    "clf = MLPClassifier()\n",
    "\n",
    "param_grid = {\n",
    "    'selector__threshold': [0.001],\n",
    "    'mlpclassifier__activation': ['relu'],\n",
    "    'mlpclassifier__solver': ['adam'],\n",
    "    'mlpclassifier__hidden_layer_sizes': [(200,),(250,),(300,)],\n",
    "    #'mlpclassifier__max_iter': [250,260],\n",
    "    'mlpclassifier__alpha': [1.0E-5, 0.001, 0.3]\n",
    "}"
   ]
  },
  {
   "cell_type": "code",
   "execution_count": null,
   "metadata": {
    "colab": {},
    "colab_type": "code",
    "id": "05BUcW4csL7n"
   },
   "outputs": [],
   "source": [
    "pipe = Pipeline(steps=[('selector', selector), ('mlpclassifier', clf)], memory = 'tmp')"
   ]
  },
  {
   "cell_type": "code",
   "execution_count": null,
   "metadata": {
    "colab": {},
    "colab_type": "code",
    "id": "sGQCe5A7sPwf"
   },
   "outputs": [],
   "source": [
    "# We will use 5 fold validation\n",
    "estimator = GridSearchCV(pipe, param_grid=param_grid, cv=5, scoring='f1_micro', n_jobs=-1, verbose=10)"
   ]
  },
  {
   "cell_type": "code",
   "execution_count": null,
   "metadata": {
    "colab": {
     "base_uri": "https://localhost:8080/",
     "height": 530
    },
    "colab_type": "code",
    "id": "jnlT-FNSsUrX",
    "outputId": "5e55fe56-5820-492a-8c3a-c852820fb279"
   },
   "outputs": [
    {
     "name": "stdout",
     "output_type": "stream",
     "text": [
      "Fitting 5 folds for each of 9 candidates, totalling 45 fits\n"
     ]
    },
    {
     "name": "stderr",
     "output_type": "stream",
     "text": [
      "[Parallel(n_jobs=-1)]: Using backend LokyBackend with 2 concurrent workers.\n",
      "[Parallel(n_jobs=-1)]: Done   1 tasks      | elapsed:   12.1s\n",
      "[Parallel(n_jobs=-1)]: Done   4 tasks      | elapsed:   30.1s\n",
      "[Parallel(n_jobs=-1)]: Done   9 tasks      | elapsed:  1.3min\n",
      "[Parallel(n_jobs=-1)]: Done  14 tasks      | elapsed:  1.9min\n",
      "[Parallel(n_jobs=-1)]: Done  21 tasks      | elapsed:  2.7min\n",
      "[Parallel(n_jobs=-1)]: Done  28 tasks      | elapsed:  3.8min\n",
      "[Parallel(n_jobs=-1)]: Done  37 tasks      | elapsed:  4.9min\n",
      "[Parallel(n_jobs=-1)]: Done  45 out of  45 | elapsed:  5.8min finished\n",
      "/usr/local/lib/python3.6/dist-packages/sklearn/model_selection/_search.py:841: DeprecationWarning: The default of the `iid` parameter will change from True to False in version 0.22 and will be removed in 0.24. This will change numeric results when test-set sizes are unequal.\n",
      "  DeprecationWarning)\n"
     ]
    },
    {
     "name": "stdout",
     "output_type": "stream",
     "text": [
      "Fit done in: 5.942662898699442 minutes\n",
      "              precision    recall  f1-score   support\n",
      "\n",
      "           1       1.00      0.96      0.98        48\n",
      "           2       1.00      1.00      1.00        30\n",
      "           3       0.97      0.92      0.94        36\n",
      "           4       0.83      0.95      0.89        37\n",
      "           5       1.00      1.00      1.00        38\n",
      "           6       0.94      0.94      0.94        32\n",
      "           7       0.97      1.00      0.98        29\n",
      "           8       1.00      0.98      0.99        47\n",
      "           9       0.88      0.85      0.87        27\n",
      "\n",
      "   micro avg       0.96      0.96      0.96       324\n",
      "   macro avg       0.95      0.95      0.95       324\n",
      "weighted avg       0.96      0.96      0.96       324\n",
      "\n"
     ]
    }
   ],
   "source": [
    "start_time = time.time()\n",
    "estimator.fit(train, train_labels)\n",
    "print(\"Fit done in:\",(time.time() - start_time)/60,\"minutes\")\n",
    "preds = estimator.predict(test)\n",
    "print (classification_report(test_labels, preds))"
   ]
  },
  {
   "cell_type": "code",
   "execution_count": null,
   "metadata": {
    "colab": {
     "base_uri": "https://localhost:8080/",
     "height": 156
    },
    "colab_type": "code",
    "id": "Px3oAytQsz6K",
    "outputId": "ab0feae2-4f7a-4c2a-baa0-af0397f7aaeb"
   },
   "outputs": [
    {
     "name": "stdout",
     "output_type": "stream",
     "text": [
      "Pipeline(memory='tmp',\n",
      "     steps=[('selector', VarianceThreshold(threshold=0.001)), ('mlpclassifier', MLPClassifier(activation='relu', alpha=1e-05, batch_size='auto', beta_1=0.9,\n",
      "       beta_2=0.999, early_stopping=False, epsilon=1e-08,\n",
      "       hidden_layer_sizes=(300,), learning_rate='constant',\n",
      "       learning_rate_init=0.00...=True, solver='adam', tol=0.0001,\n",
      "       validation_fraction=0.1, verbose=False, warm_start=False))])\n",
      "{'mlpclassifier__activation': 'relu', 'mlpclassifier__alpha': 1e-05, 'mlpclassifier__hidden_layer_sizes': (300,), 'mlpclassifier__solver': 'adam', 'selector__threshold': 0.001}\n"
     ]
    }
   ],
   "source": [
    "print (estimator.best_estimator_)\n",
    "print (estimator.best_params_)"
   ]
  },
  {
   "cell_type": "markdown",
   "metadata": {
    "colab_type": "text",
    "id": "9yW92qB82GUy"
   },
   "source": [
    "Trying to further optimize Adam"
   ]
  },
  {
   "cell_type": "code",
   "execution_count": null,
   "metadata": {
    "colab": {},
    "colab_type": "code",
    "id": "VAa2nDgI1kUk"
   },
   "outputs": [],
   "source": [
    "# αρχικοποιούμε τους εκτιμητές (μετασχηματιστές και ταξινομητή) χωρίς παραμέτρους\n",
    "selector =VarianceThreshold()\n",
    "#pca = PCA()\n",
    "clf = MLPClassifier()\n",
    "\n",
    "param_grid = {\n",
    "    'selector__threshold': [0.001],\n",
    "    'mlpclassifier__activation': ['relu'],\n",
    "    'mlpclassifier__solver': ['adam'],\n",
    "    'mlpclassifier__hidden_layer_sizes': [(325,),(330,),(335),(340,)],\n",
    "    #'mlpclassifier__max_iter': [260, 270, 280],\n",
    "    'mlpclassifier__alpha': [1.0E-5]\n",
    "}"
   ]
  },
  {
   "cell_type": "code",
   "execution_count": null,
   "metadata": {
    "colab": {},
    "colab_type": "code",
    "id": "t77HNXlg2pdp"
   },
   "outputs": [],
   "source": [
    "pipe = Pipeline(steps=[('selector', selector), ('mlpclassifier', clf)], memory = 'tmp')"
   ]
  },
  {
   "cell_type": "code",
   "execution_count": null,
   "metadata": {
    "colab": {},
    "colab_type": "code",
    "id": "8AHhaKHz2v92"
   },
   "outputs": [],
   "source": [
    "# We will use 5 fold validation\n",
    "estimator = GridSearchCV(pipe, param_grid=param_grid, cv=5, scoring='f1_micro', n_jobs=-1, verbose=10)"
   ]
  },
  {
   "cell_type": "code",
   "execution_count": null,
   "metadata": {
    "colab": {
     "base_uri": "https://localhost:8080/",
     "height": 442
    },
    "colab_type": "code",
    "id": "ANKrOuqN21Dx",
    "outputId": "d958360b-c8e5-4bc2-d530-3edc9ae50bdf"
   },
   "outputs": [
    {
     "name": "stdout",
     "output_type": "stream",
     "text": [
      "Fitting 5 folds for each of 4 candidates, totalling 20 fits\n"
     ]
    },
    {
     "name": "stderr",
     "output_type": "stream",
     "text": [
      "[Parallel(n_jobs=-1)]: Using backend LokyBackend with 2 concurrent workers.\n",
      "[Parallel(n_jobs=-1)]: Done   1 tasks      | elapsed:   13.5s\n",
      "[Parallel(n_jobs=-1)]: Done   4 tasks      | elapsed:   39.1s\n",
      "[Parallel(n_jobs=-1)]: Done   9 tasks      | elapsed:  1.5min\n",
      "[Parallel(n_jobs=-1)]: Done  14 tasks      | elapsed:  2.2min\n",
      "[Parallel(n_jobs=-1)]: Done  20 out of  20 | elapsed:  3.0min remaining:    0.0s\n",
      "[Parallel(n_jobs=-1)]: Done  20 out of  20 | elapsed:  3.0min finished\n"
     ]
    },
    {
     "name": "stdout",
     "output_type": "stream",
     "text": [
      "Fit done in: 3.1941980004310606 minutes\n",
      "              precision    recall  f1-score   support\n",
      "\n",
      "           1       0.98      0.96      0.97        48\n",
      "           2       1.00      0.97      0.98        30\n",
      "           3       0.97      0.92      0.94        36\n",
      "           4       0.83      0.95      0.89        37\n",
      "           5       1.00      1.00      1.00        38\n",
      "           6       0.94      0.94      0.94        32\n",
      "           7       0.97      1.00      0.98        29\n",
      "           8       1.00      0.98      0.99        47\n",
      "           9       0.88      0.85      0.87        27\n",
      "\n",
      "   micro avg       0.95      0.95      0.95       324\n",
      "   macro avg       0.95      0.95      0.95       324\n",
      "weighted avg       0.96      0.95      0.95       324\n",
      "\n"
     ]
    }
   ],
   "source": [
    "start_time = time.time()\n",
    "estimator.fit(train, train_labels)\n",
    "print(\"Fit done in:\",(time.time() - start_time)/60,\"minutes\")\n",
    "preds = estimator.predict(test)\n",
    "print (classification_report(test_labels, preds))"
   ]
  },
  {
   "cell_type": "code",
   "execution_count": null,
   "metadata": {
    "colab": {
     "base_uri": "https://localhost:8080/",
     "height": 156
    },
    "colab_type": "code",
    "id": "m0zWQZbk26kx",
    "outputId": "cbf7f227-8c3c-48e8-ae89-43b3923d9904"
   },
   "outputs": [
    {
     "name": "stdout",
     "output_type": "stream",
     "text": [
      "Pipeline(memory='tmp',\n",
      "     steps=[('selector', VarianceThreshold(threshold=0.001)), ('mlpclassifier', MLPClassifier(activation='relu', alpha=1e-05, batch_size='auto', beta_1=0.9,\n",
      "       beta_2=0.999, early_stopping=False, epsilon=1e-08,\n",
      "       hidden_layer_sizes=(330,), learning_rate='constant',\n",
      "       learning_rate_init=0.00...=True, solver='adam', tol=0.0001,\n",
      "       validation_fraction=0.1, verbose=False, warm_start=False))])\n",
      "{'mlpclassifier__activation': 'relu', 'mlpclassifier__alpha': 1e-05, 'mlpclassifier__hidden_layer_sizes': (330,), 'mlpclassifier__solver': 'adam', 'selector__threshold': 0.001}\n"
     ]
    }
   ],
   "source": [
    "print (estimator.best_estimator_)\n",
    "print (estimator.best_params_)"
   ]
  },
  {
   "cell_type": "markdown",
   "metadata": {
    "colab_type": "text",
    "id": "5lUa8rI-4afi"
   },
   "source": [
    "##Optimizing lbfgs\n",
    "Although the adams results are satifying we will see if can do better by optimizing lbfgs.\n",
    "\n",
    "This is because according to sklearn documents \"The default solver ‘adam’ works pretty well on relatively large datasets (with thousands of training samples or more) in terms of both training time and validation score. For small datasets, however, ‘lbfgs’ can converge faster and perform better.\" and here we have a relativly small training dataset with below 1000 samples."
   ]
  },
  {
   "cell_type": "code",
   "execution_count": null,
   "metadata": {
    "colab": {},
    "colab_type": "code",
    "id": "qYAPZthB4WQJ"
   },
   "outputs": [],
   "source": [
    "# αρχικοποιούμε τους εκτιμητές (μετασχηματιστές και ταξινομητή) χωρίς παραμέτρους\n",
    "selector =VarianceThreshold()\n",
    "#pca = PCA()\n",
    "clf = MLPClassifier()\n",
    "\n",
    "param_grid = {\n",
    "    'selector__threshold': [0.001],\n",
    "    'mlpclassifier__activation': ['identity','logistic', 'tanh', 'relu'],\n",
    "    'mlpclassifier__solver': ['lbfgs'],\n",
    "    'mlpclassifier__hidden_layer_sizes': [(160,),(170,),(180,),(190,)],\n",
    "    #'mlpclassifier__max_iter': [260, 270, 280],\n",
    "    'mlpclassifier__alpha': [1.0E-5, 0.0001]\n",
    "}"
   ]
  },
  {
   "cell_type": "code",
   "execution_count": null,
   "metadata": {
    "colab": {},
    "colab_type": "code",
    "id": "KZjXthx-46ag"
   },
   "outputs": [],
   "source": [
    "pipe = Pipeline(steps=[('selector', selector), ('mlpclassifier', clf)], memory = 'tmp')"
   ]
  },
  {
   "cell_type": "code",
   "execution_count": null,
   "metadata": {
    "colab": {},
    "colab_type": "code",
    "id": "gEVWgqrQ5ZV5"
   },
   "outputs": [],
   "source": [
    "# We will use 5 fold validation\n",
    "estimator = GridSearchCV(pipe, param_grid=param_grid, cv=5, scoring='f1_micro', n_jobs=-1, verbose=10)"
   ]
  },
  {
   "cell_type": "code",
   "execution_count": null,
   "metadata": {
    "colab": {
     "base_uri": "https://localhost:8080/",
     "height": 666
    },
    "colab_type": "code",
    "id": "b4xnkG1S5eCm",
    "outputId": "24e4ec19-db41-4cba-cae1-98db14a4c9f2"
   },
   "outputs": [
    {
     "name": "stdout",
     "output_type": "stream",
     "text": [
      "Fitting 5 folds for each of 32 candidates, totalling 160 fits\n"
     ]
    },
    {
     "name": "stderr",
     "output_type": "stream",
     "text": [
      "[Parallel(n_jobs=-1)]: Using backend LokyBackend with 2 concurrent workers.\n",
      "[Parallel(n_jobs=-1)]: Done   1 tasks      | elapsed:    0.9s\n",
      "[Parallel(n_jobs=-1)]: Done   4 tasks      | elapsed:    2.1s\n",
      "[Parallel(n_jobs=-1)]: Done   9 tasks      | elapsed:    6.0s\n",
      "[Parallel(n_jobs=-1)]: Done  14 tasks      | elapsed:    8.7s\n",
      "[Parallel(n_jobs=-1)]: Done  21 tasks      | elapsed:   14.2s\n",
      "[Parallel(n_jobs=-1)]: Done  28 tasks      | elapsed:   18.1s\n",
      "[Parallel(n_jobs=-1)]: Done  37 tasks      | elapsed:   24.6s\n",
      "[Parallel(n_jobs=-1)]: Done  46 tasks      | elapsed:   35.6s\n",
      "[Parallel(n_jobs=-1)]: Done  57 tasks      | elapsed:   53.2s\n",
      "[Parallel(n_jobs=-1)]: Done  68 tasks      | elapsed:  1.2min\n",
      "[Parallel(n_jobs=-1)]: Done  81 tasks      | elapsed:  1.5min\n",
      "[Parallel(n_jobs=-1)]: Done  94 tasks      | elapsed:  1.7min\n",
      "[Parallel(n_jobs=-1)]: Done 109 tasks      | elapsed:  1.8min\n",
      "[Parallel(n_jobs=-1)]: Done 124 tasks      | elapsed:  2.0min\n",
      "[Parallel(n_jobs=-1)]: Done 141 tasks      | elapsed:  2.3min\n",
      "[Parallel(n_jobs=-1)]: Done 160 out of 160 | elapsed:  2.6min finished\n",
      "/usr/local/lib/python3.6/dist-packages/sklearn/model_selection/_search.py:841: DeprecationWarning: The default of the `iid` parameter will change from True to False in version 0.22 and will be removed in 0.24. This will change numeric results when test-set sizes are unequal.\n",
      "  DeprecationWarning)\n"
     ]
    },
    {
     "name": "stdout",
     "output_type": "stream",
     "text": [
      "Fit done in: 2.6184504707654317 minutes\n",
      "              precision    recall  f1-score   support\n",
      "\n",
      "           1       0.96      0.96      0.96        48\n",
      "           2       1.00      0.90      0.95        30\n",
      "           3       0.94      0.92      0.93        36\n",
      "           4       0.89      0.89      0.89        37\n",
      "           5       1.00      1.00      1.00        38\n",
      "           6       1.00      0.91      0.95        32\n",
      "           7       0.91      1.00      0.95        29\n",
      "           8       1.00      1.00      1.00        47\n",
      "           9       0.84      0.96      0.90        27\n",
      "\n",
      "   micro avg       0.95      0.95      0.95       324\n",
      "   macro avg       0.95      0.95      0.95       324\n",
      "weighted avg       0.95      0.95      0.95       324\n",
      "\n"
     ]
    }
   ],
   "source": [
    "start_time = time.time()\n",
    "estimator.fit(train, train_labels)\n",
    "print(\"Fit done in:\",(time.time() - start_time)/60,\"minutes\")\n",
    "preds = estimator.predict(test)\n",
    "print (classification_report(test_labels, preds))"
   ]
  },
  {
   "cell_type": "code",
   "execution_count": null,
   "metadata": {
    "colab": {
     "base_uri": "https://localhost:8080/",
     "height": 156
    },
    "colab_type": "code",
    "id": "w-tYskmh5hOb",
    "outputId": "3ceb8098-0b60-40c2-dac4-6a611931218c"
   },
   "outputs": [
    {
     "name": "stdout",
     "output_type": "stream",
     "text": [
      "Pipeline(memory='tmp',\n",
      "     steps=[('selector', VarianceThreshold(threshold=0.001)), ('mlpclassifier', MLPClassifier(activation='identity', alpha=1e-05, batch_size='auto',\n",
      "       beta_1=0.9, beta_2=0.999, early_stopping=False, epsilon=1e-08,\n",
      "       hidden_layer_sizes=(190,), learning_rate='constant',\n",
      "       learning_rate_init=...True, solver='lbfgs', tol=0.0001,\n",
      "       validation_fraction=0.1, verbose=False, warm_start=False))])\n",
      "{'mlpclassifier__activation': 'identity', 'mlpclassifier__alpha': 1e-05, 'mlpclassifier__hidden_layer_sizes': (190,), 'mlpclassifier__solver': 'lbfgs', 'selector__threshold': 0.001}\n"
     ]
    }
   ],
   "source": [
    "print (estimator.best_estimator_)\n",
    "print (estimator.best_params_)"
   ]
  },
  {
   "cell_type": "markdown",
   "metadata": {
    "colab_type": "text",
    "id": "uiyNZWyW56c2"
   },
   "source": [
    "Although we alse get great results, they are not as good as adams. So, we will try to optimize further"
   ]
  },
  {
   "cell_type": "code",
   "execution_count": null,
   "metadata": {
    "colab": {},
    "colab_type": "code",
    "id": "V7fcvX0Q525n"
   },
   "outputs": [],
   "source": [
    "# αρχικοποιούμε τους εκτιμητές (μετασχηματιστές και ταξινομητή) χωρίς παραμέτρους\n",
    "selector =VarianceThreshold()\n",
    "#pca = PCA()\n",
    "clf = MLPClassifier()\n",
    "\n",
    "param_grid = {\n",
    "    'selector__threshold': [0.001],\n",
    "    'mlpclassifier__activation': ['identity'],\n",
    "    'mlpclassifier__solver': ['lbfgs'],\n",
    "    'mlpclassifier__hidden_layer_sizes': [(270,),(275,),(280),(290,),(300,),(320,)],\n",
    "    #'mlpclassifier__max_iter': [260, 270, 280],\n",
    "    'mlpclassifier__alpha': [1.0E-5]\n",
    "}"
   ]
  },
  {
   "cell_type": "code",
   "execution_count": null,
   "metadata": {
    "colab": {},
    "colab_type": "code",
    "id": "sTaEshB66SWK"
   },
   "outputs": [],
   "source": [
    "pipe = Pipeline(steps=[('selector', selector), ('mlpclassifier', clf)], memory = 'tmp')"
   ]
  },
  {
   "cell_type": "code",
   "execution_count": null,
   "metadata": {
    "colab": {},
    "colab_type": "code",
    "id": "o6I6KO116Vwe"
   },
   "outputs": [],
   "source": [
    "# We will use 5 fold validation\n",
    "estimator = GridSearchCV(pipe, param_grid=param_grid, cv=5, scoring='f1_micro', n_jobs=-1, verbose=10)"
   ]
  },
  {
   "cell_type": "code",
   "execution_count": null,
   "metadata": {
    "colab": {
     "base_uri": "https://localhost:8080/",
     "height": 496
    },
    "colab_type": "code",
    "id": "iVRwbJbn6YvA",
    "outputId": "93bff1e7-1566-4bd6-8b36-8d1c7c871521"
   },
   "outputs": [
    {
     "name": "stdout",
     "output_type": "stream",
     "text": [
      "Fitting 5 folds for each of 6 candidates, totalling 30 fits\n"
     ]
    },
    {
     "name": "stderr",
     "output_type": "stream",
     "text": [
      "[Parallel(n_jobs=-1)]: Using backend LokyBackend with 2 concurrent workers.\n",
      "[Parallel(n_jobs=-1)]: Done   1 tasks      | elapsed:    1.3s\n",
      "[Parallel(n_jobs=-1)]: Done   4 tasks      | elapsed:    3.6s\n",
      "[Parallel(n_jobs=-1)]: Done   9 tasks      | elapsed:    8.2s\n",
      "[Parallel(n_jobs=-1)]: Done  14 tasks      | elapsed:   13.7s\n",
      "[Parallel(n_jobs=-1)]: Done  21 tasks      | elapsed:   20.0s\n",
      "[Parallel(n_jobs=-1)]: Done  30 out of  30 | elapsed:   28.7s finished\n",
      "/usr/local/lib/python3.6/dist-packages/sklearn/model_selection/_search.py:841: DeprecationWarning: The default of the `iid` parameter will change from True to False in version 0.22 and will be removed in 0.24. This will change numeric results when test-set sizes are unequal.\n",
      "  DeprecationWarning)\n"
     ]
    },
    {
     "name": "stdout",
     "output_type": "stream",
     "text": [
      "Fit done in: 0.5003676017125448 minutes\n",
      "              precision    recall  f1-score   support\n",
      "\n",
      "           1       0.96      0.94      0.95        48\n",
      "           2       1.00      0.87      0.93        30\n",
      "           3       0.97      0.89      0.93        36\n",
      "           4       0.90      0.95      0.92        37\n",
      "           5       1.00      1.00      1.00        38\n",
      "           6       0.97      0.97      0.97        32\n",
      "           7       0.94      1.00      0.97        29\n",
      "           8       1.00      1.00      1.00        47\n",
      "           9       0.84      0.96      0.90        27\n",
      "\n",
      "   micro avg       0.95      0.95      0.95       324\n",
      "   macro avg       0.95      0.95      0.95       324\n",
      "weighted avg       0.96      0.95      0.95       324\n",
      "\n"
     ]
    }
   ],
   "source": [
    "start_time = time.time()\n",
    "estimator.fit(train, train_labels)\n",
    "print(\"Fit done in:\",(time.time() - start_time)/60,\"minutes\")\n",
    "preds = estimator.predict(test)\n",
    "print (classification_report(test_labels, preds))"
   ]
  },
  {
   "cell_type": "code",
   "execution_count": null,
   "metadata": {
    "colab": {
     "base_uri": "https://localhost:8080/",
     "height": 156
    },
    "colab_type": "code",
    "id": "Xcul2q4R6gBk",
    "outputId": "bc720b1c-42c3-4d08-e8ea-63b00f8aa27b"
   },
   "outputs": [
    {
     "name": "stdout",
     "output_type": "stream",
     "text": [
      "Pipeline(memory='tmp',\n",
      "     steps=[('selector', VarianceThreshold(threshold=0.001)), ('mlpclassifier', MLPClassifier(activation='identity', alpha=1e-05, batch_size='auto',\n",
      "       beta_1=0.9, beta_2=0.999, early_stopping=False, epsilon=1e-08,\n",
      "       hidden_layer_sizes=(300,), learning_rate='constant',\n",
      "       learning_rate_init=...True, solver='lbfgs', tol=0.0001,\n",
      "       validation_fraction=0.1, verbose=False, warm_start=False))])\n",
      "{'mlpclassifier__activation': 'identity', 'mlpclassifier__alpha': 1e-05, 'mlpclassifier__hidden_layer_sizes': (300,), 'mlpclassifier__solver': 'lbfgs', 'selector__threshold': 0.001}\n"
     ]
    }
   ],
   "source": [
    "print (estimator.best_estimator_)\n",
    "print (estimator.best_params_)"
   ]
  },
  {
   "cell_type": "markdown",
   "metadata": {
    "colab_type": "text",
    "id": "To1UjN22lE2h"
   },
   "source": [
    "It is important to note that in order to do the more progressive tests at the neuros of the fisrt level, we started to increase gradually the neurons. However, here we present only some of the final results."
   ]
  },
  {
   "cell_type": "markdown",
   "metadata": {
    "colab_type": "text",
    "id": "gxss8dkj63GA"
   },
   "source": [
    "##Trying sgd\n",
    "Btween lbfgs and adam, the best one is currently adam. Since we already have great results with adam, we will not try to optimize further However we will also try sdg. "
   ]
  },
  {
   "cell_type": "code",
   "execution_count": null,
   "metadata": {
    "colab": {},
    "colab_type": "code",
    "id": "Sm7fwsKb6j-i"
   },
   "outputs": [],
   "source": [
    "# αρχικοποιούμε τους εκτιμητές (μετασχηματιστές και ταξινομητή) χωρίς παραμέτρους\n",
    "selector =VarianceThreshold()\n",
    "#pca = PCA()\n",
    "clf = MLPClassifier()\n",
    "\n",
    "param_grid = {\n",
    "    'selector__threshold': [0,0.001],\n",
    "    'mlpclassifier__activation': ['identity', 'logistic', 'tanh', 'relu'],\n",
    "    'mlpclassifier__solver': ['sgd'],\n",
    "    #'mlpclassifier__hidden_layer_sizes': [(140,),(160,),(180,)],\n",
    "    #'mlpclassifier__max_iter': [350],\n",
    "    'mlpclassifier__alpha': [1.0E-5],\n",
    "    'mlpclassifier__learning_rate': ['constant','invscaling','adaptive'] #it is only used for sgd    \n",
    "}"
   ]
  },
  {
   "cell_type": "code",
   "execution_count": null,
   "metadata": {
    "colab": {},
    "colab_type": "code",
    "id": "RkXc7hSM8J5v"
   },
   "outputs": [],
   "source": [
    "pipe = Pipeline(steps=[('selector', selector), ('mlpclassifier', clf)], memory = 'tmp')"
   ]
  },
  {
   "cell_type": "code",
   "execution_count": null,
   "metadata": {
    "colab": {},
    "colab_type": "code",
    "id": "vF_rq5YH8Pu5"
   },
   "outputs": [],
   "source": [
    "# We will use 5 fold validation\n",
    "estimator = GridSearchCV(pipe, param_grid=param_grid, cv=5, scoring='f1_micro', n_jobs=-1, verbose=10)"
   ]
  },
  {
   "cell_type": "code",
   "execution_count": null,
   "metadata": {
    "colab": {
     "base_uri": "https://localhost:8080/",
     "height": 666
    },
    "colab_type": "code",
    "id": "4RCikmm18Swq",
    "outputId": "0c00eb55-1903-4f4e-acba-a14ef52efa41"
   },
   "outputs": [
    {
     "name": "stdout",
     "output_type": "stream",
     "text": [
      "Fitting 5 folds for each of 24 candidates, totalling 120 fits\n"
     ]
    },
    {
     "name": "stderr",
     "output_type": "stream",
     "text": [
      "[Parallel(n_jobs=-1)]: Using backend LokyBackend with 2 concurrent workers.\n",
      "[Parallel(n_jobs=-1)]: Done   1 tasks      | elapsed:    9.3s\n",
      "[Parallel(n_jobs=-1)]: Done   4 tasks      | elapsed:   19.8s\n",
      "[Parallel(n_jobs=-1)]: Done   9 tasks      | elapsed:   45.9s\n",
      "[Parallel(n_jobs=-1)]: Done  14 tasks      | elapsed:   49.9s\n",
      "[Parallel(n_jobs=-1)]: Done  21 tasks      | elapsed:  1.0min\n",
      "[Parallel(n_jobs=-1)]: Done  28 tasks      | elapsed:  1.5min\n",
      "[Parallel(n_jobs=-1)]: Done  37 tasks      | elapsed:  2.0min\n",
      "[Parallel(n_jobs=-1)]: Done  46 tasks      | elapsed:  2.3min\n",
      "[Parallel(n_jobs=-1)]: Done  57 tasks      | elapsed:  2.9min\n",
      "[Parallel(n_jobs=-1)]: Done  68 tasks      | elapsed:  3.9min\n",
      "[Parallel(n_jobs=-1)]: Done  81 tasks      | elapsed:  4.3min\n",
      "[Parallel(n_jobs=-1)]: Done  94 tasks      | elapsed:  5.4min\n",
      "[Parallel(n_jobs=-1)]: Done 109 tasks      | elapsed:  5.9min\n",
      "[Parallel(n_jobs=-1)]: Done 120 out of 120 | elapsed:  6.8min finished\n",
      "/usr/local/lib/python3.6/dist-packages/sklearn/model_selection/_search.py:841: DeprecationWarning: The default of the `iid` parameter will change from True to False in version 0.22 and will be removed in 0.24. This will change numeric results when test-set sizes are unequal.\n",
      "  DeprecationWarning)\n"
     ]
    },
    {
     "name": "stdout",
     "output_type": "stream",
     "text": [
      "Fit done in: 6.878411356608073 minutes\n",
      "              precision    recall  f1-score   support\n",
      "\n",
      "           1       1.00      0.92      0.96        48\n",
      "           2       0.88      1.00      0.94        30\n",
      "           3       0.85      0.94      0.89        36\n",
      "           4       0.90      0.73      0.81        37\n",
      "           5       1.00      0.95      0.97        38\n",
      "           6       0.84      0.81      0.83        32\n",
      "           7       0.96      0.86      0.91        29\n",
      "           8       1.00      0.87      0.93        47\n",
      "           9       0.60      0.93      0.72        27\n",
      "\n",
      "   micro avg       0.89      0.89      0.89       324\n",
      "   macro avg       0.89      0.89      0.88       324\n",
      "weighted avg       0.91      0.89      0.89       324\n",
      "\n"
     ]
    },
    {
     "name": "stderr",
     "output_type": "stream",
     "text": [
      "/usr/local/lib/python3.6/dist-packages/sklearn/neural_network/multilayer_perceptron.py:562: ConvergenceWarning: Stochastic Optimizer: Maximum iterations (200) reached and the optimization hasn't converged yet.\n",
      "  % self.max_iter, ConvergenceWarning)\n"
     ]
    }
   ],
   "source": [
    "start_time = time.time()\n",
    "estimator.fit(train, train_labels)\n",
    "print(\"Fit done in:\",(time.time() - start_time)/60,\"minutes\")\n",
    "preds = estimator.predict(test)\n",
    "print (classification_report(test_labels, preds))"
   ]
  },
  {
   "cell_type": "code",
   "execution_count": null,
   "metadata": {
    "colab": {
     "base_uri": "https://localhost:8080/",
     "height": 156
    },
    "colab_type": "code",
    "id": "7ZMT-SHr8aMO",
    "outputId": "7e907163-2e18-46c0-a545-fdc9a813b6c2"
   },
   "outputs": [
    {
     "name": "stdout",
     "output_type": "stream",
     "text": [
      "Pipeline(memory='tmp',\n",
      "     steps=[('selector', VarianceThreshold(threshold=0)), ('mlpclassifier', MLPClassifier(activation='tanh', alpha=1e-05, batch_size='auto', beta_1=0.9,\n",
      "       beta_2=0.999, early_stopping=False, epsilon=1e-08,\n",
      "       hidden_layer_sizes=(100,), learning_rate='adaptive',\n",
      "       learning_rate_init=0.001, m...e=True, solver='sgd', tol=0.0001,\n",
      "       validation_fraction=0.1, verbose=False, warm_start=False))])\n",
      "{'mlpclassifier__activation': 'tanh', 'mlpclassifier__alpha': 1e-05, 'mlpclassifier__learning_rate': 'adaptive', 'mlpclassifier__solver': 'sgd', 'selector__threshold': 0}\n"
     ]
    }
   ],
   "source": [
    "print (estimator.best_estimator_)\n",
    "print (estimator.best_params_)"
   ]
  },
  {
   "cell_type": "markdown",
   "metadata": {
    "colab_type": "text",
    "id": "EdZ1eZEysMaH"
   },
   "source": [
    "We will increase the max iter beacause we reached the limit and try to optimize further"
   ]
  },
  {
   "cell_type": "code",
   "execution_count": null,
   "metadata": {
    "colab": {},
    "colab_type": "code",
    "id": "zJqsvM2Mr0AG"
   },
   "outputs": [],
   "source": [
    "# αρχικοποιούμε τους εκτιμητές (μετασχηματιστές και ταξινομητή) χωρίς παραμέτρους\n",
    "selector =VarianceThreshold()\n",
    "#pca = PCA()\n",
    "clf = MLPClassifier()\n",
    "\n",
    "param_grid = {\n",
    "    'selector__threshold': [0],\n",
    "    'mlpclassifier__activation': ['tanh'],\n",
    "    'mlpclassifier__solver': ['sgd'],\n",
    "    'mlpclassifier__hidden_layer_sizes': [(140,),(145,)],\n",
    "    'mlpclassifier__max_iter': [500],\n",
    "    'mlpclassifier__alpha': [1.0E-5],\n",
    "    'mlpclassifier__learning_rate': ['adaptive'] #it is only used for sgd    \n",
    "}"
   ]
  },
  {
   "cell_type": "code",
   "execution_count": null,
   "metadata": {
    "colab": {},
    "colab_type": "code",
    "id": "D3W3rsSqsBze"
   },
   "outputs": [],
   "source": [
    "pipe = Pipeline(steps=[('selector', selector), ('mlpclassifier', clf)], memory = 'tmp')"
   ]
  },
  {
   "cell_type": "code",
   "execution_count": null,
   "metadata": {
    "colab": {},
    "colab_type": "code",
    "id": "P0iAIjThsEb1"
   },
   "outputs": [],
   "source": [
    "# We will use 5 fold validation\n",
    "estimator = GridSearchCV(pipe, param_grid=param_grid, cv=5, scoring='f1_micro', n_jobs=-1, verbose=10)"
   ]
  },
  {
   "cell_type": "code",
   "execution_count": null,
   "metadata": {
    "colab": {
     "base_uri": "https://localhost:8080/",
     "height": 479
    },
    "colab_type": "code",
    "id": "JrwhLkTVsGrS",
    "outputId": "25528d94-da9c-4b5c-e679-a202ab32b5f4"
   },
   "outputs": [
    {
     "name": "stdout",
     "output_type": "stream",
     "text": [
      "Fitting 5 folds for each of 2 candidates, totalling 10 fits\n"
     ]
    },
    {
     "name": "stderr",
     "output_type": "stream",
     "text": [
      "[Parallel(n_jobs=-1)]: Using backend LokyBackend with 2 concurrent workers.\n",
      "[Parallel(n_jobs=-1)]: Done   1 tasks      | elapsed:   28.6s\n",
      "[Parallel(n_jobs=-1)]: Done   4 tasks      | elapsed:  1.1min\n",
      "[Parallel(n_jobs=-1)]: Done  10 out of  10 | elapsed:  2.6min finished\n",
      "/usr/local/lib/python3.6/dist-packages/sklearn/model_selection/_search.py:841: DeprecationWarning: The default of the `iid` parameter will change from True to False in version 0.22 and will be removed in 0.24. This will change numeric results when test-set sizes are unequal.\n",
      "  DeprecationWarning)\n"
     ]
    },
    {
     "name": "stdout",
     "output_type": "stream",
     "text": [
      "Fit done in: 2.974272918701172 minutes\n",
      "              precision    recall  f1-score   support\n",
      "\n",
      "           1       0.98      0.90      0.93        48\n",
      "           2       0.88      0.93      0.90        30\n",
      "           3       0.94      0.86      0.90        36\n",
      "           4       0.87      0.89      0.88        37\n",
      "           5       1.00      0.97      0.99        38\n",
      "           6       0.82      0.84      0.83        32\n",
      "           7       0.96      0.90      0.93        29\n",
      "           8       0.98      0.94      0.96        47\n",
      "           9       0.71      0.93      0.81        27\n",
      "\n",
      "   micro avg       0.91      0.91      0.91       324\n",
      "   macro avg       0.90      0.91      0.90       324\n",
      "weighted avg       0.91      0.91      0.91       324\n",
      "\n"
     ]
    },
    {
     "name": "stderr",
     "output_type": "stream",
     "text": [
      "/usr/local/lib/python3.6/dist-packages/sklearn/neural_network/multilayer_perceptron.py:562: ConvergenceWarning: Stochastic Optimizer: Maximum iterations (500) reached and the optimization hasn't converged yet.\n",
      "  % self.max_iter, ConvergenceWarning)\n"
     ]
    }
   ],
   "source": [
    "start_time = time.time()\n",
    "estimator.fit(train, train_labels)\n",
    "print(\"Fit done in:\",(time.time() - start_time)/60,\"minutes\")\n",
    "preds = estimator.predict(test)\n",
    "print (classification_report(test_labels, preds))"
   ]
  },
  {
   "cell_type": "code",
   "execution_count": null,
   "metadata": {
    "colab": {
     "base_uri": "https://localhost:8080/",
     "height": 156
    },
    "colab_type": "code",
    "id": "E8c88vV4tHhK",
    "outputId": "037bf8b3-a41b-49cf-eb29-0f1d6265eacb"
   },
   "outputs": [
    {
     "name": "stdout",
     "output_type": "stream",
     "text": [
      "Pipeline(memory='tmp',\n",
      "     steps=[('selector', VarianceThreshold(threshold=0)), ('mlpclassifier', MLPClassifier(activation='tanh', alpha=1e-05, batch_size='auto', beta_1=0.9,\n",
      "       beta_2=0.999, early_stopping=False, epsilon=1e-08,\n",
      "       hidden_layer_sizes=(145,), learning_rate='adaptive',\n",
      "       learning_rate_init=0.001, m...e=True, solver='sgd', tol=0.0001,\n",
      "       validation_fraction=0.1, verbose=False, warm_start=False))])\n",
      "{'mlpclassifier__activation': 'tanh', 'mlpclassifier__alpha': 1e-05, 'mlpclassifier__hidden_layer_sizes': (145,), 'mlpclassifier__learning_rate': 'adaptive', 'mlpclassifier__max_iter': 500, 'mlpclassifier__solver': 'sgd', 'selector__threshold': 0}\n"
     ]
    }
   ],
   "source": [
    "print (estimator.best_estimator_)\n",
    "print (estimator.best_params_)"
   ]
  },
  {
   "cell_type": "markdown",
   "metadata": {
    "colab_type": "text",
    "id": "8Y2RIOyQEi5E"
   },
   "source": [
    "##Results\n",
    "Having run multiple version of sgb (we only presented here the bests), no matter how much we increase the max_iter or the hidden neurons, it will not reach the adams's scores. So, cleartly the solver that gives the best results in our case is Adam. So we will run the Optimized MLPClassifier with Adam, one final time, to get the times that we need."
   ]
  },
  {
   "cell_type": "markdown",
   "metadata": {
    "colab_type": "text",
    "id": "RSSHco91FFWd"
   },
   "source": [
    "##Final MLPClassifier"
   ]
  },
  {
   "cell_type": "code",
   "execution_count": null,
   "metadata": {
    "colab": {},
    "colab_type": "code",
    "id": "tgaYKuQIEiNV"
   },
   "outputs": [],
   "source": [
    "# αρχικοποιούμε τους εκτιμητές (μετασχηματιστές και ταξινομητή) χωρίς παραμέτρους\n",
    "selector =VarianceThreshold()\n",
    "#pca = PCA()\n",
    "clf = MLPClassifier()\n",
    "\n",
    "param_grid = {\n",
    "    'selector__threshold': [0.001],\n",
    "    'mlpclassifier__activation': ['relu'],\n",
    "    'mlpclassifier__solver': ['adam'],\n",
    "    'mlpclassifier__hidden_layer_sizes': [(330,)],\n",
    "    #'mlpclassifier__max_iter': [260],\n",
    "    'mlpclassifier__alpha': [1.0E-5]\n",
    "}"
   ]
  },
  {
   "cell_type": "code",
   "execution_count": null,
   "metadata": {
    "colab": {},
    "colab_type": "code",
    "id": "kW-x_chAAxQx"
   },
   "outputs": [],
   "source": [
    "pipe = Pipeline(steps=[('selector', selector), ('mlpclassifier', clf)], memory = 'tmp')"
   ]
  },
  {
   "cell_type": "code",
   "execution_count": null,
   "metadata": {
    "colab": {},
    "colab_type": "code",
    "id": "9jLWA8ChFpho"
   },
   "outputs": [],
   "source": [
    "# We will use 5 fold validation\n",
    "estimator = GridSearchCV(pipe, param_grid=param_grid, cv=5, scoring='f1_micro', n_jobs=-1, verbose=10)"
   ]
  },
  {
   "cell_type": "code",
   "execution_count": null,
   "metadata": {
    "colab": {
     "base_uri": "https://localhost:8080/",
     "height": 408
    },
    "colab_type": "code",
    "id": "tsubGcwUFtLE",
    "outputId": "911967b6-0468-49e4-8f21-c53306b8fba0"
   },
   "outputs": [
    {
     "name": "stdout",
     "output_type": "stream",
     "text": [
      "Fitting 5 folds for each of 1 candidates, totalling 5 fits\n"
     ]
    },
    {
     "name": "stderr",
     "output_type": "stream",
     "text": [
      "[Parallel(n_jobs=-1)]: Using backend LokyBackend with 2 concurrent workers.\n",
      "[Parallel(n_jobs=-1)]: Done   1 tasks      | elapsed:    9.2s\n",
      "[Parallel(n_jobs=-1)]: Done   3 out of   5 | elapsed:   20.8s remaining:   13.9s\n",
      "[Parallel(n_jobs=-1)]: Done   5 out of   5 | elapsed:   26.7s remaining:    0.0s\n",
      "[Parallel(n_jobs=-1)]: Done   5 out of   5 | elapsed:   26.7s finished\n"
     ]
    },
    {
     "name": "stdout",
     "output_type": "stream",
     "text": [
      "Fit done in: 31.86393666267395 seconds\n",
      "              precision    recall  f1-score   support\n",
      "\n",
      "           1       1.00      0.96      0.98        48\n",
      "           2       1.00      1.00      1.00        30\n",
      "           3       0.97      0.92      0.94        36\n",
      "           4       0.83      0.95      0.89        37\n",
      "           5       1.00      1.00      1.00        38\n",
      "           6       0.94      0.94      0.94        32\n",
      "           7       1.00      1.00      1.00        29\n",
      "           8       1.00      0.98      0.99        47\n",
      "           9       0.85      0.85      0.85        27\n",
      "\n",
      "   micro avg       0.96      0.96      0.96       324\n",
      "   macro avg       0.95      0.95      0.95       324\n",
      "weighted avg       0.96      0.96      0.96       324\n",
      "\n"
     ]
    }
   ],
   "source": [
    "start_time = time.time()\n",
    "estimator.fit(train, train_labels)\n",
    "total_time = (time.time() - start_time)\n",
    "\n",
    "train_time_optimized['MLPClassifier'] = total_time\n",
    "print(\"Fit done in:\",total_time,\"seconds\")\n",
    "\n",
    "start_time = time.time()\n",
    "preds = estimator.predict(test)\n",
    "total_time = (time.time() - start_time)\n",
    "\n",
    "predict_time_optimized['MLPClassifier'] = total_time\n",
    "\n",
    "\n",
    "print (classification_report(test_labels, preds))"
   ]
  },
  {
   "cell_type": "code",
   "execution_count": null,
   "metadata": {
    "colab": {
     "base_uri": "https://localhost:8080/",
     "height": 85
    },
    "colab_type": "code",
    "id": "q-sOgtvMGSke",
    "outputId": "348c286e-6371-43bd-f965-fd9dea3f657c"
   },
   "outputs": [
    {
     "name": "stdout",
     "output_type": "stream",
     "text": [
      "{'Dummy': 0.002794981002807617, 'GaussianNB': 0.027896642684936523, 'kNN': 0.01602029800415039, 'MLPClassifier': 5.070923566818237}\n",
      "{'Dummy': 0.002794981002807617, 'GaussianNB': 0.02132248878479004, 'kNN': 0.4556434154510498, 'MLPClassifier': 0.0045201778411865234}\n",
      "{'Dummy': 0.002794981002807617, 'GaussianNB': 0.30923914909362793, 'kNN': 1.4826996326446533, 'MLPClassifier': 31.86393666267395}\n",
      "{'Dummy': 0.002794981002807617, 'GaussianNB': 0.015270471572875977, 'kNN': 0.21165895462036133, 'MLPClassifier': 0.005356550216674805}\n"
     ]
    }
   ],
   "source": [
    "print(train_time_default)\n",
    "print(predict_time_default)\n",
    "print(train_time_optimized)\n",
    "print(predict_time_optimized)"
   ]
  },
  {
   "cell_type": "code",
   "execution_count": null,
   "metadata": {
    "colab": {
     "base_uri": "https://localhost:8080/",
     "height": 85
    },
    "colab_type": "code",
    "id": "y-fmtpjPFtG9",
    "outputId": "cd701324-ff08-4c1a-cfe6-e2892bfb14ad"
   },
   "outputs": [
    {
     "name": "stdout",
     "output_type": "stream",
     "text": [
      "{'Dummy': 0.10209728647571724, 'GaussianNB': 0.8757800246079528, 'kNN': 0.8197525187183499, 'MLPClassifier': 0.9516176295439536}\n",
      "{'Dummy': 0.10209728647571724, 'GaussianNB': 0.8757800246079528, 'kNN': 0.875220366720062, 'MLPClassifier': 0.9540284066843733}\n",
      "{'Dummy': 0.10185185185185185, 'GaussianNB': 0.8827160493827161, 'kNN': 0.8364197530864198, 'MLPClassifier': 0.9537037037037037}\n",
      "{'Dummy': 0.10185185185185185, 'GaussianNB': 0.8827160493827161, 'kNN': 0.8796296296296297, 'MLPClassifier': 0.9567901234567902}\n"
     ]
    }
   ],
   "source": [
    "report_dict = classification_report(test_labels, preds, output_dict = True)\n",
    "f1_macro_optimized['MLPClassifier'] = report_dict['macro avg']['f1-score']\n",
    "f1_micro_optimized['MLPClassifier'] = report_dict['micro avg']['f1-score']\n",
    "\n",
    "print(f1_macro_default)\n",
    "print(f1_macro_optimized)\n",
    "print(f1_micro_default)\n",
    "print(f1_micro_optimized)"
   ]
  },
  {
   "cell_type": "markdown",
   "metadata": {
    "colab_type": "text",
    "id": "Q0dGAmmMIyTo"
   },
   "source": [
    "#Final Results and Comparisons\n",
    "Since, we have run and taken all the metrics we need from multiple Classifiers, we can now plot them and compare them."
   ]
  },
  {
   "cell_type": "code",
   "execution_count": null,
   "metadata": {
    "colab": {
     "base_uri": "https://localhost:8080/",
     "height": 128
    },
    "colab_type": "code",
    "id": "vQ8QtnJ_9OtL",
    "outputId": "46bfb751-0c8a-4787-d821-03093757c490"
   },
   "outputs": [
    {
     "name": "stdout",
     "output_type": "stream",
     "text": [
      "Train time in (s):\n"
     ]
    },
    {
     "data": {
      "text/html": [
       "<div>\n",
       "<style scoped>\n",
       "    .dataframe tbody tr th:only-of-type {\n",
       "        vertical-align: middle;\n",
       "    }\n",
       "\n",
       "    .dataframe tbody tr th {\n",
       "        vertical-align: top;\n",
       "    }\n",
       "\n",
       "    .dataframe thead th {\n",
       "        text-align: right;\n",
       "    }\n",
       "</style>\n",
       "<table border=\"1\" class=\"dataframe\">\n",
       "  <thead>\n",
       "    <tr style=\"text-align: right;\">\n",
       "      <th></th>\n",
       "      <th>Dummy</th>\n",
       "      <th>GaussianNB</th>\n",
       "      <th>MLPClassifier</th>\n",
       "      <th>kNN</th>\n",
       "    </tr>\n",
       "  </thead>\n",
       "  <tbody>\n",
       "    <tr>\n",
       "      <th>default</th>\n",
       "      <td>0.002795</td>\n",
       "      <td>0.027897</td>\n",
       "      <td>5.070924</td>\n",
       "      <td>0.01602</td>\n",
       "    </tr>\n",
       "    <tr>\n",
       "      <th>optimized</th>\n",
       "      <td>0.002795</td>\n",
       "      <td>0.309239</td>\n",
       "      <td>31.863937</td>\n",
       "      <td>1.48270</td>\n",
       "    </tr>\n",
       "  </tbody>\n",
       "</table>\n",
       "</div>"
      ],
      "text/plain": [
       "              Dummy  GaussianNB  MLPClassifier      kNN\n",
       "default    0.002795    0.027897       5.070924  0.01602\n",
       "optimized  0.002795    0.309239      31.863937  1.48270"
      ]
     },
     "execution_count": 238,
     "metadata": {
      "tags": []
     },
     "output_type": "execute_result"
    }
   ],
   "source": [
    "times = [train_time_default, train_time_optimized]\n",
    "print(\"Train time in (s):\")\n",
    "pd.DataFrame(times, index=['default', 'optimized'])"
   ]
  },
  {
   "cell_type": "code",
   "execution_count": null,
   "metadata": {
    "colab": {
     "base_uri": "https://localhost:8080/",
     "height": 128
    },
    "colab_type": "code",
    "id": "O23k7B94-76K",
    "outputId": "69c59b2e-648f-4ddb-98a5-a3aaf22cbc5c"
   },
   "outputs": [
    {
     "name": "stdout",
     "output_type": "stream",
     "text": [
      "Predict time in (s):\n"
     ]
    },
    {
     "data": {
      "text/html": [
       "<div>\n",
       "<style scoped>\n",
       "    .dataframe tbody tr th:only-of-type {\n",
       "        vertical-align: middle;\n",
       "    }\n",
       "\n",
       "    .dataframe tbody tr th {\n",
       "        vertical-align: top;\n",
       "    }\n",
       "\n",
       "    .dataframe thead th {\n",
       "        text-align: right;\n",
       "    }\n",
       "</style>\n",
       "<table border=\"1\" class=\"dataframe\">\n",
       "  <thead>\n",
       "    <tr style=\"text-align: right;\">\n",
       "      <th></th>\n",
       "      <th>Dummy</th>\n",
       "      <th>GaussianNB</th>\n",
       "      <th>MLPClassifier</th>\n",
       "      <th>kNN</th>\n",
       "    </tr>\n",
       "  </thead>\n",
       "  <tbody>\n",
       "    <tr>\n",
       "      <th>default</th>\n",
       "      <td>0.002795</td>\n",
       "      <td>0.021322</td>\n",
       "      <td>0.004520</td>\n",
       "      <td>0.455643</td>\n",
       "    </tr>\n",
       "    <tr>\n",
       "      <th>optimized</th>\n",
       "      <td>0.002795</td>\n",
       "      <td>0.015270</td>\n",
       "      <td>0.005357</td>\n",
       "      <td>0.211659</td>\n",
       "    </tr>\n",
       "  </tbody>\n",
       "</table>\n",
       "</div>"
      ],
      "text/plain": [
       "              Dummy  GaussianNB  MLPClassifier       kNN\n",
       "default    0.002795    0.021322       0.004520  0.455643\n",
       "optimized  0.002795    0.015270       0.005357  0.211659"
      ]
     },
     "execution_count": 239,
     "metadata": {
      "tags": []
     },
     "output_type": "execute_result"
    }
   ],
   "source": [
    "times = [predict_time_default, predict_time_optimized]\n",
    "print(\"Predict time in (s):\")\n",
    "pd.DataFrame(times, index=['default', 'optimized'])"
   ]
  },
  {
   "cell_type": "code",
   "execution_count": null,
   "metadata": {
    "colab": {
     "base_uri": "https://localhost:8080/",
     "height": 362
    },
    "colab_type": "code",
    "id": "E6PTJ-mrtxDO",
    "outputId": "96e7ce28-4f64-4a3b-bda7-3ab6e111a369"
   },
   "outputs": [
    {
     "data": {
      "image/png": "[encoded data removed]",
      "text/plain": [
       "<matplotlib.figure.Figure at 0x7f7a1dc578d0>"
      ]
     },
     "metadata": {
      "tags": []
     },
     "output_type": "display_data"
    }
   ],
   "source": [
    "import matplotlib.pyplot as plt\n",
    "\n",
    "N = 4\n",
    "time_default = list(train_time_default.values())\n",
    "\n",
    "ind = np.arange(N)  # the x locations for the groups\n",
    "width = 0.4       # the width of the bars\n",
    "\n",
    "fig, ax = plt.subplots()\n",
    "rects1 = ax.bar(ind, time_default, width, color='m')\n",
    "\n",
    "time_optimized = time_optimized = list(train_time_optimized.values())\n",
    "\n",
    "rects2 = ax.bar(ind + width, time_optimized, width, color='c')\n",
    "\n",
    "# add some text for labels, title and axes ticks\n",
    "ax.set_ylabel('Train time (s)')\n",
    "ax.set_title('Train time default vs optimized (s)')\n",
    "ax.set_xticks(ind + width / 2)\n",
    "ax.set_xticklabels(list(train_time_default.keys()))\n",
    "\n",
    "ax.legend((rects1[0], rects2[0]), ('default', 'optimized'))\n",
    "\n",
    "# Turn on the grid\n",
    "#ax.minorticks_on()\n",
    "#ax.grid(which='major', linestyle='-', linewidth='0.5', color='red')\n",
    "# Customize the minor grid\n",
    "#ax.grid(which='minor', linestyle=':', linewidth='0.5', color='black')\n",
    "\n",
    "def autolabel(rects):\n",
    "    \"\"\"\n",
    "    Attach a text label above each bar displaying its height\n",
    "    \"\"\"\n",
    "    for rect in rects:\n",
    "        height = rect.get_height()\n",
    "        ax.text(rect.get_x() + rect.get_width()/2., 1.01*height,\n",
    "                \"{:.4f}\".format(height),\n",
    "                ha='center', va='bottom')\n",
    "\n",
    "autolabel(rects1)\n",
    "autolabel(rects2)\n",
    "\n",
    "plt.show()"
   ]
  },
  {
   "cell_type": "markdown",
   "metadata": {
    "colab_type": "text",
    "id": "Ce1eJ_Qqu-3X"
   },
   "source": [
    "It's clear that MLPClassifier needs the most time in training both when default and optimized. In each classifier the increased time is due to the pipe, beacause we first need to apply the Variance Theshold. In MLPClassifier, the huge increase of fit time, apart from the pipe, is a result of the logistic activation function, the increase of the hidden neuros at the first hidden layer and the dicrease of alpa, which needs more time to converge."
   ]
  },
  {
   "cell_type": "code",
   "execution_count": null,
   "metadata": {
    "colab": {
     "base_uri": "https://localhost:8080/",
     "height": 128
    },
    "colab_type": "code",
    "id": "SxR-jPaYj-9Y",
    "outputId": "c1b8cb59-4f03-4a61-89ed-d0c0d2a79b31"
   },
   "outputs": [
    {
     "name": "stdout",
     "output_type": "stream",
     "text": [
      "F1 micro scores:\n"
     ]
    },
    {
     "data": {
      "text/html": [
       "<div>\n",
       "<style scoped>\n",
       "    .dataframe tbody tr th:only-of-type {\n",
       "        vertical-align: middle;\n",
       "    }\n",
       "\n",
       "    .dataframe tbody tr th {\n",
       "        vertical-align: top;\n",
       "    }\n",
       "\n",
       "    .dataframe thead th {\n",
       "        text-align: right;\n",
       "    }\n",
       "</style>\n",
       "<table border=\"1\" class=\"dataframe\">\n",
       "  <thead>\n",
       "    <tr style=\"text-align: right;\">\n",
       "      <th></th>\n",
       "      <th>Dummy</th>\n",
       "      <th>GaussianNB</th>\n",
       "      <th>MLPClassifier</th>\n",
       "      <th>kNN</th>\n",
       "    </tr>\n",
       "  </thead>\n",
       "  <tbody>\n",
       "    <tr>\n",
       "      <th>default</th>\n",
       "      <td>0.101852</td>\n",
       "      <td>0.882716</td>\n",
       "      <td>0.953704</td>\n",
       "      <td>0.83642</td>\n",
       "    </tr>\n",
       "    <tr>\n",
       "      <th>optimized</th>\n",
       "      <td>0.101852</td>\n",
       "      <td>0.882716</td>\n",
       "      <td>0.956790</td>\n",
       "      <td>0.87963</td>\n",
       "    </tr>\n",
       "  </tbody>\n",
       "</table>\n",
       "</div>"
      ],
      "text/plain": [
       "              Dummy  GaussianNB  MLPClassifier      kNN\n",
       "default    0.101852    0.882716       0.953704  0.83642\n",
       "optimized  0.101852    0.882716       0.956790  0.87963"
      ]
     },
     "execution_count": 241,
     "metadata": {
      "tags": []
     },
     "output_type": "execute_result"
    }
   ],
   "source": [
    "f1_scores = [f1_micro_default, f1_micro_optimized]\n",
    "print(\"F1 micro scores:\")\n",
    "pd.DataFrame(f1_scores, index=['default', 'optimized'])"
   ]
  },
  {
   "cell_type": "code",
   "execution_count": null,
   "metadata": {
    "colab": {
     "base_uri": "https://localhost:8080/",
     "height": 362
    },
    "colab_type": "code",
    "id": "zOPKKwLZkH1M",
    "outputId": "1d40ded7-fec2-4e38-d0dc-3ee8042eb082"
   },
   "outputs": [
    {
     "data": {
      "image/png": "[encoded data removed]",
      "text/plain": [
       "<matplotlib.figure.Figure at 0x7f7a22d61358>"
      ]
     },
     "metadata": {
      "tags": []
     },
     "output_type": "display_data"
    }
   ],
   "source": [
    "N = 4\n",
    "f1_default = list(f1_micro_default.values())\n",
    "\n",
    "ind = np.arange(N)  # the x locations for the groups\n",
    "width = 0.4       # the width of the bars\n",
    "\n",
    "fig, ax = plt.subplots()\n",
    "rects1 = ax.bar(ind, f1_default, width, color='g')\n",
    "\n",
    "f1_optimized = time_optimized = list(f1_micro_optimized.values())\n",
    "\n",
    "rects2 = ax.bar(ind + width, f1_optimized, width, color='b')\n",
    "\n",
    "# add some text for labels, title and axes ticks\n",
    "ax.set_ylabel('f1_micro score')\n",
    "ax.set_title('F1 micro score default vs optimized')\n",
    "ax.set_xticks(ind + width / 2)\n",
    "ax.set_xticklabels(list(f1_micro_default.keys()))\n",
    "\n",
    "ax.legend((rects1[0], rects2[0]), ('default', 'optimized'))\n",
    "\n",
    "# Turn on the grid\n",
    "#ax.minorticks_on()\n",
    "#ax.grid(which='major', linestyle='-', linewidth='0.5', color='red')\n",
    "# Customize the minor grid\n",
    "#ax.grid(which='minor', linestyle=':', linewidth='0.5', color='black')\n",
    "\n",
    "def autolabel(rects):\n",
    "    \"\"\"\n",
    "    Attach a text label above each bar displaying its height\n",
    "    \"\"\"\n",
    "    for rect in rects:\n",
    "        height = rect.get_height()\n",
    "        ax.text(rect.get_x() + rect.get_width()/2., 1.01*height,\n",
    "                \"{:.4f}\".format(height),\n",
    "                ha='center', va='bottom')\n",
    "\n",
    "autolabel(rects1)\n",
    "autolabel(rects2)\n",
    "\n",
    "plt.show()"
   ]
  },
  {
   "cell_type": "code",
   "execution_count": null,
   "metadata": {
    "colab": {
     "base_uri": "https://localhost:8080/",
     "height": 128
    },
    "colab_type": "code",
    "id": "X2OGjSvj__E6",
    "outputId": "e8e9b6f1-2145-452b-b09c-f89af9c8e3ab"
   },
   "outputs": [
    {
     "name": "stdout",
     "output_type": "stream",
     "text": [
      "F1 macro scores:\n"
     ]
    },
    {
     "data": {
      "text/html": [
       "<div>\n",
       "<style scoped>\n",
       "    .dataframe tbody tr th:only-of-type {\n",
       "        vertical-align: middle;\n",
       "    }\n",
       "\n",
       "    .dataframe tbody tr th {\n",
       "        vertical-align: top;\n",
       "    }\n",
       "\n",
       "    .dataframe thead th {\n",
       "        text-align: right;\n",
       "    }\n",
       "</style>\n",
       "<table border=\"1\" class=\"dataframe\">\n",
       "  <thead>\n",
       "    <tr style=\"text-align: right;\">\n",
       "      <th></th>\n",
       "      <th>Dummy</th>\n",
       "      <th>GaussianNB</th>\n",
       "      <th>MLPClassifier</th>\n",
       "      <th>kNN</th>\n",
       "    </tr>\n",
       "  </thead>\n",
       "  <tbody>\n",
       "    <tr>\n",
       "      <th>default</th>\n",
       "      <td>0.102097</td>\n",
       "      <td>0.87578</td>\n",
       "      <td>0.951618</td>\n",
       "      <td>0.819753</td>\n",
       "    </tr>\n",
       "    <tr>\n",
       "      <th>optimized</th>\n",
       "      <td>0.102097</td>\n",
       "      <td>0.87578</td>\n",
       "      <td>0.954028</td>\n",
       "      <td>0.875220</td>\n",
       "    </tr>\n",
       "  </tbody>\n",
       "</table>\n",
       "</div>"
      ],
      "text/plain": [
       "              Dummy  GaussianNB  MLPClassifier       kNN\n",
       "default    0.102097     0.87578       0.951618  0.819753\n",
       "optimized  0.102097     0.87578       0.954028  0.875220"
      ]
     },
     "execution_count": 243,
     "metadata": {
      "tags": []
     },
     "output_type": "execute_result"
    }
   ],
   "source": [
    "f1_scores = [f1_macro_default, f1_macro_optimized]\n",
    "print(\"F1 macro scores:\")\n",
    "pd.DataFrame(f1_scores, index=['default', 'optimized'])"
   ]
  },
  {
   "cell_type": "code",
   "execution_count": null,
   "metadata": {
    "colab": {
     "base_uri": "https://localhost:8080/",
     "height": 362
    },
    "colab_type": "code",
    "id": "MoTyPYUUuXX0",
    "outputId": "c92a68c3-e452-4d72-d6ce-3d47f119dcf2"
   },
   "outputs": [
    {
     "data": {
      "image/png": "[encoded data removed]",
      "text/plain": [
       "<matplotlib.figure.Figure at 0x7f7a22cd4828>"
      ]
     },
     "metadata": {
      "tags": []
     },
     "output_type": "display_data"
    }
   ],
   "source": [
    "N = 4\n",
    "f1_default = list(f1_macro_default.values())\n",
    "\n",
    "ind = np.arange(N)  # the x locations for the groups\n",
    "width = 0.4       # the width of the bars\n",
    "\n",
    "fig, ax = plt.subplots()\n",
    "rects1 = ax.bar(ind, f1_default, width, color='g')\n",
    "\n",
    "f1_optimized = time_optimized = list(f1_macro_optimized.values())\n",
    "\n",
    "rects2 = ax.bar(ind + width, f1_optimized, width, color='b')\n",
    "\n",
    "# add some text for labels, title and axes ticks\n",
    "ax.set_ylabel('f1_macro score')\n",
    "ax.set_title('F1 macro score default vs optimized')\n",
    "ax.set_xticks(ind + width / 2)\n",
    "ax.set_xticklabels(list(f1_macro_default.keys()))\n",
    "\n",
    "ax.legend((rects1[0], rects2[0]), ('default', 'optimized'))\n",
    "\n",
    "# Turn on the grid\n",
    "#ax.minorticks_on()\n",
    "#ax.grid(which='major', linestyle='-', linewidth='0.5', color='red')\n",
    "# Customize the minor grid\n",
    "#ax.grid(which='minor', linestyle=':', linewidth='0.5', color='black')\n",
    "\n",
    "def autolabel(rects):\n",
    "    \"\"\"\n",
    "    Attach a text label above each bar displaying its height\n",
    "    \"\"\"\n",
    "    for rect in rects:\n",
    "        height = rect.get_height()\n",
    "        ax.text(rect.get_x() + rect.get_width()/2., 1.01*height,\n",
    "                \"{:.4f}\".format(height),\n",
    "                ha='center', va='bottom')\n",
    "\n",
    "autolabel(rects1)\n",
    "autolabel(rects2)\n",
    "\n",
    "plt.show()"
   ]
  },
  {
   "cell_type": "markdown",
   "metadata": {
    "colab_type": "text",
    "id": "rNl-uQJ20g0k"
   },
   "source": [
    "Here we can clearly see, that the best classifier for our dataset is MLPClassifier. Althrough, the next better is GaussianNB, there is quite a difference at the results between then. Something important to note, is that no matter how we tried to manipulate our data in order Optimize the GaussianNB, we couldn't achieve a better score than with the initila data. Applying a Variance Theshold (even 0), didn't make any differnce and apllying PCA, even reduced our score, due to significant loss of information.\n",
    "\n",
    "On the other hand, there was some room for a small optimizations in the MLP Classifier. However, due to the fact that the default solver is adam and that the best solver for our dataset was also Adam, there was only a small increase in our score, by optimizing the rest of the parameters (activation function, hidden_layers_sizes, max_iters and alpha). Of course the optimization of these parameters increased the time needed to fit (as shown in the previous diagram).\n",
    "\n",
    "Finally, it is important to note, that we always have an average 0.1 error in our f1-scores in each classifier. Having restarted and rerun the whole notebook multiple times, we achieved for the optimized kNN classifier as highest score 0.90  and as lowest score 0.88. We also achieved a highest 0.97 and lowest 0.95 with MLPClassifier. However, whenever we received the lowest score in one classifier, we also received the lowest score at the others classifiers too. And whenever we received the highest score in one classifier we also received the highest scores for the others, too (both defaults and optimized classifiers). Since this behavor is found in the same way in all the classifiers that we tested, it is probably a result of the way the data are splitted into train and test data. "
   ]
  },
  {
   "cell_type": "code",
   "execution_count": null,
   "metadata": {
    "colab": {},
    "colab_type": "code",
    "id": "p0vBDTHMhFgr"
   },
   "outputs": [],
   "source": []
  }
 ],
 "metadata": {
  "colab": {
   "collapsed_sections": [],
   "name": "A61_B08-final.ipynb",
   "provenance": [],
   "version": "0.3.2"
  },
  "kernelspec": {
   "display_name": "Python 3",
   "language": "python",
   "name": "python3"
  },
  "language_info": {
   "codemirror_mode": {
    "name": "ipython",
    "version": 3
   },
   "file_extension": ".py",
   "mimetype": "text/x-python",
   "name": "python",
   "nbconvert_exporter": "python",
   "pygments_lexer": "ipython3",
   "version": "3.7.4"
  }
 },
 "nbformat": 4,
 "nbformat_minor": 4
}
